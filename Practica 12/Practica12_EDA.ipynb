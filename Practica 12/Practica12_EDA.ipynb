{
  "nbformat": 4,
  "nbformat_minor": 0,
  "metadata": {
    "colab": {
      "provenance": [],
      "include_colab_link": true
    },
    "kernelspec": {
      "name": "python3",
      "display_name": "Python 3"
    },
    "language_info": {
      "name": "python"
    }
  },
  "cells": [
    {
      "cell_type": "markdown",
      "metadata": {
        "id": "view-in-github",
        "colab_type": "text"
      },
      "source": [
        "<a href=\"https://colab.research.google.com/github/Wiskadoj1/Practicas_EDA_Python/blob/main/Practica%2012/Practica12_EDA.ipynb\" target=\"_parent\"><img src=\"https://colab.research.google.com/assets/colab-badge.svg\" alt=\"Open In Colab\"/></a>"
      ]
    },
    {
      "cell_type": "markdown",
      "source": [
        "#Libreta Práctica 12\n"
      ],
      "metadata": {
        "id": "C5zJ7EHzmjl1"
      }
    },
    {
      "cell_type": "markdown",
      "source": [
        "##Recursividad:"
      ],
      "metadata": {
        "id": "jLjFlVp9mset"
      }
    },
    {
      "cell_type": "markdown",
      "source": [
        "El propósito de la recursividad es dividir un problema en problemas más pequeños, de tal manera que la solución del problema se vuelva trivial. Básicamente, la recursión se puede explicar como una función que se llama así misma.\n",
        "\n",
        "Para aplica recursión se deben de cumplir tres reglas:\n",
        "*   Debe de haber uno o más casos base.\n",
        "*   La expansión debe terminar en un caso base.\n",
        "*   La función se debe llamar a sí misma.\n"
      ],
      "metadata": {
        "id": "bPShzi2cm1Z8"
      }
    },
    {
      "cell_type": "markdown",
      "source": [
        "##Factorial"
      ],
      "metadata": {
        "id": "B15BJcrOnFr0"
      }
    },
    {
      "cell_type": "markdown",
      "source": [
        "Uno de los ejemplos más básicos es el cálculo del factorial cuya fórmula se muestra a continuación:\n",
        "\n",
        "![image.png](data:image/png;base64,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)\n",
        "\n",
        "Tip: En las notebooks se pueden agregar expresiones matemáticas usando Latex (https://latex-project.org/intro.html), tal y como se muestra en la formula anterior. La fórmula se tiene que encerrar usando $$ al principio y al final de la misma.\n",
        "\n",
        "En el siguiente ejemplo se calcula el factorial de un número de forma iterativa usando un ciclo for"
      ],
      "metadata": {
        "id": "6A5zXVoAnJXH"
      }
    },
    {
      "cell_type": "code",
      "source": [
        "def factorial_no_recursivo(numero):\n",
        "    fact = 1\n",
        "    #Se genera una lista que ve de n a 1, el -1 indica que cada iteración se resta 1 al índice.\n",
        "    for i in range(numero, 1, -1):\n",
        "        fact *= i   # Esto es equivalente a fact = fact * i\n",
        "    return fact\n",
        "factorial_no_recursivo(5)"
      ],
      "metadata": {
        "colab": {
          "base_uri": "https://localhost:8080/"
        },
        "id": "K0W7wxbOnbQk",
        "outputId": "afceba10-8cd9-42d3-cf8e-4d27ff651090"
      },
      "execution_count": null,
      "outputs": [
        {
          "output_type": "execute_result",
          "data": {
            "text/plain": [
              "120"
            ]
          },
          "metadata": {},
          "execution_count": 1
        }
      ]
    },
    {
      "cell_type": "markdown",
      "source": [
        "Como se mencionó anteriormente, para resolver un problema por medio de recursividad hay que generar problemas más pequeños. Analizando la forma en que se calcula el factorial en la función pasada se tiene que:\n",
        "\n",
        "\n",
        "![image.png](data:image/png;base64,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)\n",
        "\n",
        "Si se remueve el 5 se tiene:\n",
        "\n",
        "![image.png](data:image/png;base64,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)\n",
        "\n",
        "Se puede afirmar que\n",
        "\n",
        "![image.png](data:image/png;base64,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)\n",
        "\n",
        "Si se aplica esto a toda la secuencia, al final tenemos la siguiente expansión:\n",
        "\n",
        "![image.png](data:image/png;base64,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)\n",
        "\n",
        "Aplicando las reglas explicadas en un principio sobre recursividad, se puede resolver el problema del factorial por medio de recursión de la siguiente manera:"
      ],
      "metadata": {
        "id": "2MiPFAkCnjJ9"
      }
    },
    {
      "cell_type": "code",
      "source": [
        "def factorial_recursivo(numero):\n",
        "    if numero < 2:    # El caso base es cuando numero < 2 y la función regresa 1\n",
        "        return 1\n",
        "    return numero * factorial_recursivo(numero - 1) # La función se llama a sí misma\n",
        "factorial_recursivo(5)"
      ],
      "metadata": {
        "colab": {
          "base_uri": "https://localhost:8080/"
        },
        "id": "cMsXEcw1oJtl",
        "outputId": "4d39d3bf-1d20-4c5c-83d5-77cf232aa42e"
      },
      "execution_count": null,
      "outputs": [
        {
          "output_type": "execute_result",
          "data": {
            "text/plain": [
              "120"
            ]
          },
          "metadata": {},
          "execution_count": 1
        }
      ]
    },
    {
      "cell_type": "markdown",
      "source": [
        "De la ejecución de factorial_recursivo() se puede observar lo siguiente:\n",
        "\n",
        "*    El caso base permite terminar la recursión.\n",
        "*    Conforme se va decrementando la variable numero, se aproxima al caso base. El caso base ya no necesita recursión debido a que se convirtió en la versión más simple del problema.\n",
        "*    La función se llama a sí misma y toma el lugar del ciclo for usado en la función factorial_no_recursivo().\n",
        "*    Cada que se llama de nuevo a la función, ésta tiene la copia de las variables locales y el valor de los parámetros.\n",
        "\n",
        "\n",
        "Tip: En el caso de Python, hay un límite en el número de veces que se puede llamar recursivamente una función, si se excede ese límite se genera el error: maximum recursion depth exceeded in comparison. Este límite puede ser modificado, pero no es recomendable."
      ],
      "metadata": {
        "id": "-dcvd3nRoSOV"
      }
    },
    {
      "cell_type": "code",
      "source": [
        "#Al tratar de calcular el factorial de 1000 se excede el límite permitido de recursiones\n",
        "#factorial_recursivo(1000)\n"
      ],
      "metadata": {
        "id": "_qsPzXT1ohD8"
      },
      "execution_count": null,
      "outputs": []
    },
    {
      "cell_type": "markdown",
      "source": [
        "##Huellas de tortuga"
      ],
      "metadata": {
        "id": "ugYVijQvq_jl"
      }
    },
    {
      "cell_type": "markdown",
      "source": [
        "Para el siguiente ejemplo, se va a utilizar la biblioteca turtle. Como se observa en la siguiente imagen, hay una tortuga que se desplaza en espiral. Este ejemplo ha sido tomado del tutorial de la biblioteca turtle que se puede consultar en http://openbookproject.net/thinkcs/python/english3e/hello_little_turtles.html.\n",
        "\n",
        "El objetivo es hacer que la tortuga deje un determinado número de huellas, cada una de las huellas se va a ir espaciando incrementalmente mientras ésta avanza. A contiuación se muestra la sección de código que hace el recorrido de la tortuga.\n",
        "NOTA: La siguiente sección de código no se va a ejecutar en la notebook"
      ],
      "metadata": {
        "id": "52_K6hrtrJUc"
      }
    },
    {
      "cell_type": "markdown",
      "source": [
        "###Archivo: recorrido_no_recursivo.py"
      ],
      "metadata": {
        "id": "KejM1C-OrPJt"
      }
    },
    {
      "cell_type": "code",
      "source": [
        "for i in range(30):         #Esta determinado que se impriman 30 huellas de la tortuga\n",
        "   tess.stamp()             # Huella de la tortuga\n",
        "   size = size + 3          # Se incrementa el paso de la tortuga cada iteración\n",
        "   tess.forward(size)       # Se mueve la tortuga hacia adelante\n",
        "   tess.right(24)           # y se gira a la derecha"
      ],
      "metadata": {
        "id": "myQKKGEQrXc0"
      },
      "execution_count": null,
      "outputs": []
    },
    {
      "cell_type": "markdown",
      "source": [
        "![image.png](data:image/png;base64,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)\n",
        "\n",
        "¿Cómo hacer el recorrido de la tortuga de manera recursiva? Primero se tiene que encontrar el caso base y después hacer una función que se va llame a sí misma. En esta función, el caso base es cuando se ha completado el número de huellas requerido. A continuación, se muestra el código de la función para el recorrido de la tortuga."
      ],
      "metadata": {
        "id": "Juoa5q0Irgkm"
      }
    },
    {
      "cell_type": "markdown",
      "source": [
        "###Archivo: recorrido_recursivo.py"
      ],
      "metadata": {
        "id": "aDK1wXlrro5k"
      }
    },
    {
      "cell_type": "code",
      "source": [
        "def recorrido_recursivo(tortuga, espacio, huellas):\n",
        "    if huellas > 0:\n",
        "        tortuga.stamp()\n",
        "        espacio = espacio + 3\n",
        "        tortuga.forward(espacio)\n",
        "        tortuga.right(24)\n",
        "        recorrido_recursivo(tortuga, espacio, huellas-1)"
      ],
      "metadata": {
        "id": "EEi1SKcprtnW"
      },
      "execution_count": null,
      "outputs": []
    },
    {
      "cell_type": "markdown",
      "source": [
        "NOTA: El código completo de las dos versiones se encuentra guardado en los archivos recorrido_recursivo.py y recorrido_no_recursivo.py. Estos se van a ejecutar desde la notebook como si de una ventana de comandos se tratara.\n",
        "\n",
        "Tip: En las notebooks se pueden ejecutar comandos del sistema operativo, sólo se tiene que agregar el signo de admiración antes del comando (!comando). Si el comando no es del sistema operativo, se despliega un aviso.\n",
        "\n",
        "Al momento de ejecutar las siguientes instrucciones, se abre una ventana donde se muestra el desplazamiento de la tortuga. Cuando se termina de ejecutar el código, es necesario cerrar la ventana para que finalice la ejecución en la notebook."
      ],
      "metadata": {
        "id": "bB0cSUtBrwf0"
      }
    },
    {
      "cell_type": "code",
      "source": [
        "#Ejecutando el código no recursivo.\n",
        "!python recorrido_no_recursivo.py"
      ],
      "metadata": {
        "id": "PkEFiXFqrzY1"
      },
      "execution_count": null,
      "outputs": []
    },
    {
      "cell_type": "markdown",
      "source": [
        "Tip: Para la implementación recursiva (recorrido_recursivo.py) se hace uso de la biblioteca argparse, esta biblioteca permite mandar datos de entrada al programa por medio de banderas, tal y como se hace con los comandos del sistema operativo."
      ],
      "metadata": {
        "id": "MQzsV16wr408"
      }
    },
    {
      "cell_type": "code",
      "source": [
        "ap = argparse.ArgumentParser()\n",
        "\n",
        "#El dato de entrada se ingresa con la bandera --huellas\n",
        "ap.add_argument(\"--huellas\", required=True, help=\"número de huellas\")\n",
        "\n",
        "#Lo que se obtiene es un diccionario (llave:valor) , en este caso llamado args\n",
        "args = vars(ap.parse_args())\n",
        "\n",
        "# Los valores del diccionario son cadenas por lo que se tiene que transformar a un entero con la función int()\n",
        "huellas = int(args[\"huellas\"])"
      ],
      "metadata": {
        "id": "RSnSpTZor_bt"
      },
      "execution_count": null,
      "outputs": []
    },
    {
      "cell_type": "markdown",
      "source": [
        "El código se ejecuta de la siguiente manera:"
      ],
      "metadata": {
        "id": "HyHGQPDAr9cP"
      }
    },
    {
      "cell_type": "code",
      "source": [
        "# Como se observa, hay un espacio después del nombre del archivo\n",
        "# y un espacio después de la bandera\n",
        "!python recorrido_recursivo.py --huellas 25"
      ],
      "metadata": {
        "id": "RhpxqJhksCST"
      },
      "execution_count": null,
      "outputs": []
    },
    {
      "cell_type": "markdown",
      "source": [
        "La ventaja de utilizar esta forma de mandar datos de entrada al programa, es que hace la validación por nosotros, ya que si no se especifica la bandera o se especifica un valor, se genera un mensaje de error."
      ],
      "metadata": {
        "id": "GHJuoWdHsEQk"
      }
    },
    {
      "cell_type": "code",
      "source": [
        "!python recorrido_recursivo.py --huella"
      ],
      "metadata": {
        "colab": {
          "base_uri": "https://localhost:8080/"
        },
        "id": "cPv0ncnJsGsc",
        "outputId": "39f26448-0cfd-4aa1-ff88-fce70b02632d"
      },
      "execution_count": null,
      "outputs": [
        {
          "output_type": "stream",
          "name": "stdout",
          "text": [
            "python3: can't open file '/content/recorrido_recursivo.py': [Errno 2] No such file or directory\n"
          ]
        }
      ]
    },
    {
      "cell_type": "markdown",
      "source": [
        "##Fibonacci"
      ],
      "metadata": {
        "id": "He4jUP9WsTts"
      }
    },
    {
      "cell_type": "markdown",
      "source": [
        "Recordando, la implementación iterativa para calcular la sucesión de Fibonacci es:\n",
        "\n",
        "def fibonacci_iterativo_v2(numero):\n",
        "\n",
        "    f1=0\n",
        "    f2=1\n",
        "    for i in range(1, numero-1):\n",
        "        f1,f2=f2,f1+f2    #Asignación paralela\n",
        "    return f2\n",
        "\n",
        "Esta función se puede transformar a su versión recursiva de la siguiente manera:"
      ],
      "metadata": {
        "id": "Ks4DnlKhsYNM"
      }
    },
    {
      "cell_type": "code",
      "source": [
        "def fibonacci_recursivo(numero):\n",
        "    if numero == 1:     #Caso base\n",
        "        return 0\n",
        "    if numero == 2 or numero == 3:\n",
        "        return 1\n",
        "    return fibonacci_recursivo(numero-1) + fibonacci_recursivo(numero-2) #Llamada recursiva\n",
        "fibonacci_recursivo(13)"
      ],
      "metadata": {
        "colab": {
          "base_uri": "https://localhost:8080/"
        },
        "id": "IeiPww3Xsbu0",
        "outputId": "35d0d726-8c69-4aa2-9596-1a204e998f3a"
      },
      "execution_count": null,
      "outputs": [
        {
          "output_type": "execute_result",
          "data": {
            "text/plain": [
              "144"
            ]
          },
          "metadata": {},
          "execution_count": 2
        }
      ]
    },
    {
      "cell_type": "markdown",
      "source": [
        "Al igual que en la versión iterativa, se están repitiendo operaciones. Para calcular el elemento 5 se tiene:\n",
        "\n",
        "\n",
        "\n",
        "f(5) =\n",
        "\n",
        "    (n-1) = f(4)+f(3)+f(2)+f(1)\n",
        "    (n-2) = f(3)+f(2)+f(1)\n",
        "\n",
        "Retomando lo visto en la práctica 11, es posible mejorar la eficiencia del algoritmo si se utiliza memorización."
      ],
      "metadata": {
        "id": "N_unWValsdpc"
      }
    },
    {
      "cell_type": "code",
      "source": [
        "#Memoria inicial\n",
        "memoria = {1:0, 2:1, 3:1}\n",
        "def fibonacci_memo(numero):\n",
        "    if numero in memoria:      #Si el número ya se encuentra calculado, se regresa el valor ya no se hacen más cálculos\n",
        "        return memoria[numero]\n",
        "    memoria[numero] = fibonacci_memo(numero-1) + fibonacci_memo(numero-2)\n",
        "    return memoria[numero]\n",
        "fibonacci_memo(13)"
      ],
      "metadata": {
        "colab": {
          "base_uri": "https://localhost:8080/"
        },
        "id": "DU_PyI2ZsvyE",
        "outputId": "02b7244c-517f-447f-def0-6613b27a4038"
      },
      "execution_count": null,
      "outputs": [
        {
          "output_type": "execute_result",
          "data": {
            "text/plain": [
              "144"
            ]
          },
          "metadata": {},
          "execution_count": 1
        }
      ]
    },
    {
      "cell_type": "markdown",
      "source": [
        "La memoria cambia después de la ejecución. En comparación con la versión iterativa de la guía 11, la función fibonacci_memo() tiene acceso a la variable memoria, por lo que efectua menos operaciones."
      ],
      "metadata": {
        "id": "8KDkBBGys1CF"
      }
    },
    {
      "cell_type": "markdown",
      "source": [
        "memoria\n",
        "\n",
        "{1: 0,\n",
        "\n",
        " 2: 1,\n",
        "\n",
        " 3: 1,\n",
        "\n",
        " 4: 2,\n",
        "\n",
        " 5: 3,\n",
        "\n",
        " 6: 5,\n",
        "\n",
        " 7: 8,\n",
        "\n",
        " 8: 13,\n",
        "\n",
        " 9: 21,\n",
        "\n",
        " 10: 34,\n",
        "\n",
        " 11: 55,\n",
        "\n",
        " 12: 89,\n",
        "\n",
        " 13: 144}"
      ],
      "metadata": {
        "id": "VOX_qCdFtFGs"
      }
    },
    {
      "cell_type": "markdown",
      "source": [
        "A diferencia de la versión anterior, como los resultados se están guardando en la variable memoria, el número de operaciones que se realizan es menor. Para calcular el elemento 5 con la nueva implementación se tiene:\n",
        "\n",
        "\n",
        "\n",
        "memoria =   {1:0, 2:1, 3:1}\n",
        "\n",
        "\n",
        "f(5) =\n",
        "\n",
        "    (n-1) = f(4)+memoria(3)+memoria(2)+memoria(1)\n",
        "    (n-2) = memoria(3)"
      ],
      "metadata": {
        "id": "ffeaYzVBtPSd"
      }
    },
    {
      "cell_type": "markdown",
      "source": [
        "##Desventajas de la recursividad"
      ],
      "metadata": {
        "id": "sdZUp5OitVyk"
      }
    },
    {
      "cell_type": "markdown",
      "source": [
        "\n",
        "\n",
        "1.   A veces es complejo generar la lógica para aplicar recursión.\n",
        "2.   Hay una limitación en el número de veces que una función puede ser llamada, tanto en memoria como en tiempo de ejecución.\n",
        "\n"
      ],
      "metadata": {
        "id": "13h5RlJmtYI0"
      }
    },
    {
      "cell_type": "markdown",
      "source": [
        "##Bibliografía"
      ],
      "metadata": {
        "id": "csBHobmXtdvE"
      }
    },
    {
      "cell_type": "markdown",
      "source": [
        "*  [1] Design and analysis of algorithms; Prabhakar Gupta y Manish Varshney; PHI Learning, 2012, segunda edición.\n",
        "\n",
        "*  [2] Introduction to Algorithms, Thomas H. Cormen, Charles E. Leiserson, Ronald L. Rivest y Clifford Stein; The MIT Press; 2009, tercera edicion.\n",
        "\n",
        "*  [3] Problem Solving with Algorithms and Data Structures using Python; Bradley N. Miller y David L. Ranum, Franklin, Beedle & Associates; 2011, segunda edition.\n",
        "*  [4] http://openbookproject.net/thinkcs/python/english3e/hello_little_turtles.html"
      ],
      "metadata": {
        "id": "Q6dQupEGtgN0"
      }
    },
    {
      "cell_type": "markdown",
      "source": [
        "#Actividades de la práctica"
      ],
      "metadata": {
        "id": "wjpL33nkmfsm"
      }
    },
    {
      "cell_type": "markdown",
      "source": [
        "#Torre de Hanoi"
      ],
      "metadata": {
        "id": "1aKkb-kqEzBy"
      }
    },
    {
      "cell_type": "markdown",
      "source": [
        "##Cálculo de cuantos movimientos mínimos se puede resolver las torres de Hanoi"
      ],
      "metadata": {
        "id": "H-dqJ4N5j8MN"
      }
    },
    {
      "cell_type": "code",
      "source": [
        "print(\"dame el número de discos de la torre\")\n",
        "x = int(input())\n",
        "def movimientos(x):\n",
        "    if x > 0:\n",
        "        resultado = (2**(x))-1\n",
        "        print(\"El número de movimientos para resolver la torre es\", resultado)\n",
        "    else:\n",
        "        print(\"el número no es correcto\")\n",
        "movimientos(x)"
      ],
      "metadata": {
        "colab": {
          "base_uri": "https://localhost:8080/"
        },
        "id": "-412iE9bE7Tt",
        "outputId": "44369f93-88d1-4fc2-bcf4-fe61452b5b63"
      },
      "execution_count": null,
      "outputs": [
        {
          "output_type": "stream",
          "name": "stdout",
          "text": [
            "dame el número de discos de la torre\n"
          ]
        }
      ]
    },
    {
      "cell_type": "markdown",
      "source": [
        "##Movimientos para resolver la torre de Hanoi"
      ],
      "metadata": {
        "id": "IZ6hVQpoj3a9"
      }
    },
    {
      "cell_type": "code",
      "source": [
        "def imprimir_torres(torres):\n",
        "    print(\"\\nEstado de las torres:\")\n",
        "    for nombre in ['A', 'B', 'C']:\n",
        "        print(f\"{nombre}: {torres[nombre]}\")\n",
        "    print(\"-\" * 30)\n",
        "def mover_un_disco(torres, origen, destino):\n",
        "    for i in range(len(torres[origen])):\n",
        "        if torres[origen][i] != 0:\n",
        "            disco = torres[origen][i]\n",
        "            torres[origen][i] = 0\n",
        "            break\n",
        "    for j in range(len(torres[destino]) - 1, -1, -1):\n",
        "        if torres[destino][j] == 0:\n",
        "            torres[destino][j] = disco\n",
        "            break\n",
        "    print(f\"Movimiento: mover disco {disco} de {origen} a {destino}\")\n",
        "    imprimir_torres(torres)\n",
        "def torres_de_hanoi(n, origen, destino, auxiliar, torres):\n",
        "    if n == 1:\n",
        "        mover_un_disco(torres, origen, destino)\n",
        "    else:\n",
        "        torres_de_hanoi(n - 1, origen, auxiliar, destino, torres)\n",
        "        mover_un_disco(torres, origen, destino)\n",
        "        torres_de_hanoi(n - 1, auxiliar, destino, origen, torres)\n",
        "print(\"----¿CÓMO RESOLVER LAS TORRES DE HANOI?----\")\n",
        "print(\"Ingresa el número de discos: \")\n",
        "n = int(input())\n",
        "origen = 'A'\n",
        "auxiliar = 'B'\n",
        "destino = 'C'\n",
        "discos = [i for i in range(n, 0, -1)]\n",
        "torre_A = [0] * (n - len(discos)) + discos[::-1]\n",
        "torre_B = [0] * n\n",
        "torre_C = [0] * n\n",
        "torres = {\n",
        "    'A': torre_A,\n",
        "    'B': torre_B,\n",
        "    'C': torre_C\n",
        "}\n",
        "print(\"\\nEstado inicial:\")\n",
        "imprimir_torres(torres)\n",
        "torres_de_hanoi(n, origen, destino, auxiliar, torres)\n",
        "print(\"\\n¡Juego terminado, los discos se han movido a la torre C!\")"
      ],
      "metadata": {
        "id": "p_AzbGRQPCIS",
        "colab": {
          "base_uri": "https://localhost:8080/"
        },
        "outputId": "0ed5ef65-0e67-4a69-ea15-fc14f4c21270"
      },
      "execution_count": null,
      "outputs": [
        {
          "output_type": "stream",
          "name": "stdout",
          "text": [
            "----¿CÓMO RESOLVER LAS TORRES DE HANOI?----\n",
            "Ingresa el número de discos: \n",
            "3\n",
            "\n",
            "Estado inicial:\n",
            "\n",
            "Estado de las torres:\n",
            "A: [1, 2, 3]\n",
            "B: [0, 0, 0]\n",
            "C: [0, 0, 0]\n",
            "------------------------------\n",
            "Movimiento: mover disco 1 de A a C\n",
            "\n",
            "Estado de las torres:\n",
            "A: [0, 2, 3]\n",
            "B: [0, 0, 0]\n",
            "C: [0, 0, 1]\n",
            "------------------------------\n",
            "Movimiento: mover disco 2 de A a B\n",
            "\n",
            "Estado de las torres:\n",
            "A: [0, 0, 3]\n",
            "B: [0, 0, 2]\n",
            "C: [0, 0, 1]\n",
            "------------------------------\n",
            "Movimiento: mover disco 1 de C a B\n",
            "\n",
            "Estado de las torres:\n",
            "A: [0, 0, 3]\n",
            "B: [0, 1, 2]\n",
            "C: [0, 0, 0]\n",
            "------------------------------\n",
            "Movimiento: mover disco 3 de A a C\n",
            "\n",
            "Estado de las torres:\n",
            "A: [0, 0, 0]\n",
            "B: [0, 1, 2]\n",
            "C: [0, 0, 3]\n",
            "------------------------------\n",
            "Movimiento: mover disco 1 de B a A\n",
            "\n",
            "Estado de las torres:\n",
            "A: [0, 0, 1]\n",
            "B: [0, 0, 2]\n",
            "C: [0, 0, 3]\n",
            "------------------------------\n",
            "Movimiento: mover disco 2 de B a C\n",
            "\n",
            "Estado de las torres:\n",
            "A: [0, 0, 1]\n",
            "B: [0, 0, 0]\n",
            "C: [0, 2, 3]\n",
            "------------------------------\n",
            "Movimiento: mover disco 1 de A a C\n",
            "\n",
            "Estado de las torres:\n",
            "A: [0, 0, 0]\n",
            "B: [0, 0, 0]\n",
            "C: [1, 2, 3]\n",
            "------------------------------\n",
            "\n",
            "¡Juego terminado, los discos se han movido a la torre C!\n"
          ]
        }
      ]
    },
    {
      "cell_type": "markdown",
      "source": [
        "# Conclusiones"
      ],
      "metadata": {
        "id": "P1IMKfROGM87"
      }
    },
    {
      "cell_type": "markdown",
      "source": [
        "**Zarate Mendoza Luis Alejandro**\n",
        "\n",
        "Como conlusión a la práctica, en mi opinión se consiguió completar su principal objetivo, que es comprender y aplicar el concepto de un algoritmo recursivo a un problema como lo es la resolución de las Torres de Hanoi. Este fue el caso más claro en el que comprender el problema que estamos tratando, e intentar resolverlo aplicando la lógica y los conocimientos previamente adquiridos a lo largo del curso fue esencial para la resolución del mismo. Por lo anteriormente mencionado, considero que se logró concretar la práctica 12 a manera de cierre del curso de Estructura de Datos y Algoritmos satisfactoriamente, brindandonos una serie de conocimientos y habilidades esenciales para nuestro desarrollo como futuros ingenieros."
      ],
      "metadata": {
        "id": "ZkSWOzbIGPab"
      }
    }
  ]
}