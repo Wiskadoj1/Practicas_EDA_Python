{
  "nbformat": 4,
  "nbformat_minor": 0,
  "metadata": {
    "colab": {
      "provenance": [],
      "include_colab_link": true
    },
    "kernelspec": {
      "name": "python3",
      "display_name": "Python 3"
    },
    "language_info": {
      "name": "python"
    }
  },
  "cells": [
    {
      "cell_type": "markdown",
      "metadata": {
        "id": "view-in-github",
        "colab_type": "text"
      },
      "source": [
        "<a href=\"https://colab.research.google.com/github/Wiskadoj1/Practicas_EDA_Python/blob/main/Practica%209%20y%2010/Practica9y10_EDA.ipynb\" target=\"_parent\"><img src=\"https://colab.research.google.com/assets/colab-badge.svg\" alt=\"Open In Colab\"/></a>"
      ]
    },
    {
      "cell_type": "markdown",
      "source": [
        "\n",
        "\n",
        "# **Libreta Practica 9**"
      ],
      "metadata": {
        "id": "JiJbL_VRvYpG"
      }
    },
    {
      "cell_type": "markdown",
      "source": [
        "Laboratorio de Computación\n",
        "\n",
        "\n",
        "\n",
        "Profesor(a):\n",
        " José Olivas Díaz\n",
        "\n",
        "Asignatura:\n",
        "  Estructura de datos y algoritmos\n",
        "\n",
        "Grupo:\n",
        " 11\n",
        "\n",
        "No de Práctica(s):\n",
        " 9\n",
        "\n",
        "Integrante(s):\n",
        "\n",
        " Antonio García Braulio Gerardo\n",
        "\n",
        "Mendoza Torres Marco Antonio\n",
        "\n",
        " Zarate Mendoza Luis Alejandro\n",
        "\n",
        "No. de brigada:\n",
        "  12\n",
        "\n",
        "Semestre:\n",
        " 2025-2\n",
        "\n",
        "Fecha de entrega:\n",
        "  28 de abril de 2025\n",
        "  \n",
        "Observaciones:\n",
        "\n",
        "\n",
        "\n",
        "\n",
        "\n",
        "\n",
        "CALIFICACIÓN: ________________\n"
      ],
      "metadata": {
        "id": "5yDR7ugyaUO6"
      }
    },
    {
      "cell_type": "markdown",
      "source": [
        "# 1. Variables y tipos"
      ],
      "metadata": {
        "id": "umqwi8nqvdtV"
      }
    },
    {
      "cell_type": "markdown",
      "source": [
        "\n",
        "\n",
        "*   Los nombres de las variables son alfanuméricos (a-z, A-Z, 0-9) y empiezan con una letra en minúscula.\n",
        "*   No se especifica el tipo de valor que una varible contiene, está implícito al momento de asignar un valor.\n",
        "*   No se necesita poner ; al final de cada instrucción.\n",
        "*   Mantener las indentaciones al momento de escribir código.\n",
        "\n",
        "Nombres reservados en Python: and, as, assert, break, class, continue, def, del, elif, else, except, exec, finally, for, from, global, if, import, in, is, lambda, not, or, pass, print, raise, return, try, while, with, yield\n",
        "\n",
        "\n",
        "\n"
      ],
      "metadata": {
        "id": "rRHWamlnvqSB"
      }
    },
    {
      "cell_type": "code",
      "source": [
        "#Inicializando variables\n",
        "x = 10     #variable de tipo entero\n",
        "print(x)   #función para imprimir los valores de las variables\n",
        "\n",
        "#Se puede utilizar comillas dobles o simples para crear una cadena\n",
        "cadena = \"Hola Mundo\"    #varible de tipo cadena\n",
        "print(cadena)"
      ],
      "metadata": {
        "colab": {
          "base_uri": "https://localhost:8080/"
        },
        "id": "eG5z0sqKw9Vu",
        "outputId": "cd6a91c6-8091-4d9f-8288-f1e8e8141ec2"
      },
      "execution_count": null,
      "outputs": [
        {
          "output_type": "stream",
          "name": "stdout",
          "text": [
            "10\n",
            "Hola Mundo\n"
          ]
        }
      ]
    },
    {
      "cell_type": "code",
      "source": [
        "#Asigna un mismo valor a tres variables\n",
        "x = y = z = 10\n",
        "print(x,y,z)"
      ],
      "metadata": {
        "colab": {
          "base_uri": "https://localhost:8080/"
        },
        "id": "_WNh1QS8xXQt",
        "outputId": "c26e0a35-c61c-492b-e66a-0b8b3ac6fe62"
      },
      "execution_count": null,
      "outputs": [
        {
          "output_type": "stream",
          "name": "stdout",
          "text": [
            "10 10 10\n"
          ]
        }
      ]
    },
    {
      "cell_type": "code",
      "source": [
        "#La función type() permite conocer el tipo de una variable\n",
        "type(x)"
      ],
      "metadata": {
        "colab": {
          "base_uri": "https://localhost:8080/"
        },
        "id": "hm4uYUOixY_F",
        "outputId": "af3a6a5e-de21-431e-95a3-c4ccad30f850"
      },
      "execution_count": null,
      "outputs": [
        {
          "output_type": "execute_result",
          "data": {
            "text/plain": [
              "int"
            ]
          },
          "metadata": {},
          "execution_count": 6
        }
      ]
    },
    {
      "cell_type": "code",
      "source": [
        "type(cadena)"
      ],
      "metadata": {
        "colab": {
          "base_uri": "https://localhost:8080/"
        },
        "id": "wrt3l6Kdxdyt",
        "outputId": "9f8c5151-358a-4950-9cf7-001dbaa5996b"
      },
      "execution_count": null,
      "outputs": [
        {
          "output_type": "execute_result",
          "data": {
            "text/plain": [
              "str"
            ]
          },
          "metadata": {},
          "execution_count": 7
        }
      ]
    },
    {
      "cell_type": "code",
      "source": [
        "#Se pueden cambiar los valores de las variables y el tipo se cambia automáticamente\n",
        "x = \"Hola Mundo\"\n",
        "cadena = 10"
      ],
      "metadata": {
        "id": "iOrb6pmHxvLN"
      },
      "execution_count": null,
      "outputs": []
    },
    {
      "cell_type": "code",
      "source": [
        "type(x)"
      ],
      "metadata": {
        "colab": {
          "base_uri": "https://localhost:8080/"
        },
        "id": "hXZpWIcixxet",
        "outputId": "4e115714-d473-4a43-ab26-30b8eb89a164"
      },
      "execution_count": null,
      "outputs": [
        {
          "output_type": "execute_result",
          "data": {
            "text/plain": [
              "str"
            ]
          },
          "metadata": {},
          "execution_count": 12
        }
      ]
    },
    {
      "cell_type": "code",
      "source": [
        "type(cadena)"
      ],
      "metadata": {
        "colab": {
          "base_uri": "https://localhost:8080/"
        },
        "id": "odEJbALPx5yd",
        "outputId": "c33ba309-2250-4b2d-d14b-debd94e7a1cf"
      },
      "execution_count": null,
      "outputs": [
        {
          "output_type": "execute_result",
          "data": {
            "text/plain": [
              "int"
            ]
          },
          "metadata": {},
          "execution_count": 13
        }
      ]
    },
    {
      "cell_type": "markdown",
      "source": [
        "Idiom: Cuando una variable tiene un valor constante, por convención, el nombre se escribe en mayúsculas."
      ],
      "metadata": {
        "id": "PlPV5C70yB6d"
      }
    },
    {
      "cell_type": "code",
      "source": [
        "SEGUNDOS_POR_DIA = 60 * 60 * 24\n",
        "PI = 3.14"
      ],
      "metadata": {
        "id": "pmMFkonMyEv-"
      },
      "execution_count": null,
      "outputs": []
    },
    {
      "cell_type": "markdown",
      "source": [
        "# 2. Cadenas"
      ],
      "metadata": {
        "id": "SORAzdyyyKsd"
      }
    },
    {
      "cell_type": "markdown",
      "source": [
        "Las cadenas pueden ser definidas usando comilla simple (') o comilla doble (\"). Una característica especial de las cadenas es que son inmutables, esto quiere decir que no se pueden cambiar los caracteres que contiene. El caracter \\ sirve para escapar carcteres como \\n o \\t."
      ],
      "metadata": {
        "id": "ls-o0dKQyWld"
      }
    },
    {
      "cell_type": "code",
      "source": [
        "#Inicializando cadenas\n",
        "cadena1 = 'Hola '\n",
        "cadena2 = \"Mundo\"\n",
        "print(cadena1)\n",
        "print(cadena2)\n",
        "concat_cadenas = cadena1 + cadena2 #Concatenación de cadenas\n",
        "print(concat_cadenas)"
      ],
      "metadata": {
        "colab": {
          "base_uri": "https://localhost:8080/"
        },
        "id": "wEsTuJIjyZa9",
        "outputId": "638bc802-322a-4ca3-e207-96a1e462f528"
      },
      "execution_count": null,
      "outputs": [
        {
          "output_type": "stream",
          "name": "stdout",
          "text": [
            "Hola \n",
            "Mundo\n",
            "Hola Mundo\n"
          ]
        }
      ]
    },
    {
      "cell_type": "code",
      "source": [
        "#Para concatenar un número y una cadena se debe usar la función str()\n",
        "num_cadena = concat_cadenas +' '+ str(3)  #Se agrega una cadena vacía para agregar un espacio\n",
        "print(num_cadena)"
      ],
      "metadata": {
        "colab": {
          "base_uri": "https://localhost:8080/"
        },
        "id": "bVZA76sFyb2N",
        "outputId": "b89c5a28-5e4f-496a-b0ef-810a2fa2ca16"
      },
      "execution_count": null,
      "outputs": [
        {
          "output_type": "stream",
          "name": "stdout",
          "text": [
            "Hola Mundo 3\n"
          ]
        }
      ]
    },
    {
      "cell_type": "markdown",
      "source": [
        "Idiom: Para concatenar cadenas se recomienda el uso de la función format(), en lugar del viejo estilo del operador '+'."
      ],
      "metadata": {
        "id": "-rXvqjMAygp9"
      }
    },
    {
      "cell_type": "code",
      "source": [
        "#El valor de la variable se va a imprimir en el lugar donde se encuentre {} en la cadena\n",
        "num_cadena = \"{} {} {}\".format(cadena1, cadena2, 3)\n",
        "print(num_cadena)"
      ],
      "metadata": {
        "colab": {
          "base_uri": "https://localhost:8080/"
        },
        "id": "P6lQz4hGykAt",
        "outputId": "b7e7ef1d-81da-4067-da47-b044537acfca"
      },
      "execution_count": null,
      "outputs": [
        {
          "output_type": "stream",
          "name": "stdout",
          "text": [
            "Hola  Mundo 3\n"
          ]
        }
      ]
    },
    {
      "cell_type": "markdown",
      "source": [
        "Por medio de esta función, se puede cambiar el orden en que se imprimen las variables"
      ],
      "metadata": {
        "id": "66GE73k6yosd"
      }
    },
    {
      "cell_type": "code",
      "source": [
        "#Cuando se agrega un númmero dentro de {#}, el valor la variable que se encuentra en esa posicón\n",
        "#dentro de la función format(), será impreso.\n",
        "num_cadena = \"Cambiando el orden:  {1}  {2}  {0} #\".format(cadena1, cadena2, 3)\n",
        "print(num_cadena)"
      ],
      "metadata": {
        "colab": {
          "base_uri": "https://localhost:8080/"
        },
        "id": "E_tIjSv_yrHe",
        "outputId": "c324c590-7286-4e4f-f47d-60ebb30b2426"
      },
      "execution_count": null,
      "outputs": [
        {
          "output_type": "stream",
          "name": "stdout",
          "text": [
            "Cambiando el orden:  Mundo  3  Hola  #\n"
          ]
        }
      ]
    },
    {
      "cell_type": "markdown",
      "source": [
        "Las funciones integradas en Python para trabajar con cadenas se encuentran en el siguiente link https://docs.python.org/3/library/stdtypes.html#string-methods."
      ],
      "metadata": {
        "id": "KsVKy65Gy2ON"
      }
    },
    {
      "cell_type": "markdown",
      "source": [
        "# 3. Operadores"
      ],
      "metadata": {
        "id": "kWMQUXabzGD0"
      }
    },
    {
      "cell_type": "markdown",
      "source": [
        "**Aritméticos**: +, -, *, /"
      ],
      "metadata": {
        "id": "t1MQoA7rzMzu"
      }
    },
    {
      "cell_type": "code",
      "source": [
        "#Para el exponente se  puede utilizar asterisco\n",
        "print( 1 + 5 )\n",
        "print( 6 * 3 )\n",
        "print( 10 - 4 )\n",
        "print( 100 / 50 )\n",
        "print( 10 % 2 )\n",
        "print( ((20 * 3) + (10 +1)) / 10 )\n",
        "print( 2**2 )"
      ],
      "metadata": {
        "colab": {
          "base_uri": "https://localhost:8080/"
        },
        "id": "IHVGEa8Tzckt",
        "outputId": "44ed6b43-f635-4634-f80b-63ec9a7e9665"
      },
      "execution_count": null,
      "outputs": [
        {
          "output_type": "stream",
          "name": "stdout",
          "text": [
            "6\n",
            "18\n",
            "6\n",
            "2.0\n",
            "0\n",
            "7.1\n",
            "4\n"
          ]
        }
      ]
    },
    {
      "cell_type": "markdown",
      "source": [
        "**Booleanos**: and, not, or"
      ],
      "metadata": {
        "id": "Vm7-mP1Qzhol"
      }
    },
    {
      "cell_type": "code",
      "source": [
        "False and True"
      ],
      "metadata": {
        "colab": {
          "base_uri": "https://localhost:8080/"
        },
        "id": "kFW7KX14zlU0",
        "outputId": "9d3d54af-9235-45b6-d67b-acc4ebcc57af"
      },
      "execution_count": null,
      "outputs": [
        {
          "output_type": "execute_result",
          "data": {
            "text/plain": [
              "False"
            ]
          },
          "metadata": {},
          "execution_count": 19
        }
      ]
    },
    {
      "cell_type": "markdown",
      "source": [
        "**Comparación**: >, <, >=, <=, =="
      ],
      "metadata": {
        "id": "CTjyk5EGzrI9"
      }
    },
    {
      "cell_type": "code",
      "source": [
        "print (7 < 5)  #Falso\n",
        "\n",
        "print (7 > 5) #Verdadero\n",
        "\n",
        "print ((11 * 3)+2 == 36 - 1)  #Verdadero\n",
        "\n",
        "print ((11 * 3)+2 >= 36)   #Falso\n",
        "\n",
        "print (\"curso\" != \"CuRsO\") #Verdadero"
      ],
      "metadata": {
        "colab": {
          "base_uri": "https://localhost:8080/"
        },
        "id": "cGKJ1DhEzur8",
        "outputId": "e5e4d402-0e19-4134-aa58-0813ded2881a"
      },
      "execution_count": null,
      "outputs": [
        {
          "output_type": "stream",
          "name": "stdout",
          "text": [
            "False\n",
            "True\n",
            "True\n",
            "False\n",
            "True\n"
          ]
        }
      ]
    },
    {
      "cell_type": "markdown",
      "source": [
        "# 4. Listas\n"
      ],
      "metadata": {
        "id": "gat063-o0Bl1"
      }
    },
    {
      "cell_type": "markdown",
      "source": [
        "\n",
        "*   Básicamente son valores que están separados por comas dentro de paréntesis cuadrados.\n",
        "*   Está compuesta por cualquier cantidad y/o tipo de datos, ya sean cadenas, caracteres, números e inclusive otras listas.\n",
        "*   Se puede acceder a las listas por medio de índices, estos índices comienzan desde 0 hasta el número de elementos menos 1.\n",
        "*   Las listas son mutables.\n",
        "\n"
      ],
      "metadata": {
        "id": "kZ5kUJjr0GME"
      }
    },
    {
      "cell_type": "code",
      "source": [
        "#Declaracion de una lista simple\n",
        "lista_diasDelMes=[31,28,31,30,31,30,31,31,30,31,30,31]\n",
        "\n",
        "print (lista_diasDelMes)       #imprimir la lista completa\n",
        "print (lista_diasDelMes[0])   #imprimir elemento 1\n",
        "print (lista_diasDelMes[6])   #imprimir elemento 7\n",
        "print (lista_diasDelMes[11])  #imprimir elemento 12"
      ],
      "metadata": {
        "colab": {
          "base_uri": "https://localhost:8080/"
        },
        "id": "owrHg7W60X99",
        "outputId": "68f3de62-fc0d-412f-9bcf-e53129f5a708"
      },
      "execution_count": null,
      "outputs": [
        {
          "output_type": "stream",
          "name": "stdout",
          "text": [
            "[31, 28, 31, 30, 31, 30, 31, 31, 30, 31, 30, 31]\n",
            "31\n",
            "31\n",
            "31\n"
          ]
        }
      ]
    },
    {
      "cell_type": "code",
      "source": [
        "#Declaracion de listas anidadas\n",
        "\n",
        "lista_numeros=[['cero', 0],['uno',1, 'UNO'], ['dos',2], ['tres', 3], ['cuatro',4], ['X',5]]\n",
        "\n",
        "print (lista_numeros)      #imprimir lista completa\n",
        "\n",
        "print (lista_numeros[0])    #imprime el elemento 0 de la lista\n",
        "print (lista_numeros[1])    #imprime el elemento 1 de la lista\n",
        "\n",
        "print (lista_numeros[2][0]) #imprime el primer elemento de la lista en la posicion 2\n",
        "print (lista_numeros[2][1]) #imprime el segundo elemento de la lista en la posicion 2\n",
        "\n",
        "print (lista_numeros[1][0])\n",
        "print (lista_numeros[1][1])\n",
        "print (lista_numeros[1][2])"
      ],
      "metadata": {
        "colab": {
          "base_uri": "https://localhost:8080/"
        },
        "id": "bv6OzTQW0Z9N",
        "outputId": "cd4bd64e-4c19-4afa-9d5e-ed14dff0a7d9"
      },
      "execution_count": null,
      "outputs": [
        {
          "output_type": "stream",
          "name": "stdout",
          "text": [
            "[['cero', 0], ['uno', 1, 'UNO'], ['dos', 2], ['tres', 3], ['cuatro', 4], ['X', 5]]\n",
            "['cero', 0]\n",
            "['uno', 1, 'UNO']\n",
            "dos\n",
            "2\n",
            "uno\n",
            "1\n",
            "UNO\n"
          ]
        }
      ]
    },
    {
      "cell_type": "code",
      "source": [
        "#Cambiando el valor de uno de los elementos de la lista\n",
        "\n",
        "lista_numeros[5][0] = \"cinco\"\n",
        "print (lista_numeros[5])"
      ],
      "metadata": {
        "colab": {
          "base_uri": "https://localhost:8080/"
        },
        "id": "o9ARBPx90elt",
        "outputId": "2ff6e3f4-125f-4d00-85b4-ab2bc188339d"
      },
      "execution_count": null,
      "outputs": [
        {
          "output_type": "stream",
          "name": "stdout",
          "text": [
            "['cinco', 5]\n"
          ]
        }
      ]
    },
    {
      "cell_type": "markdown",
      "source": [
        "#5. Tuplas"
      ],
      "metadata": {
        "id": "TWG44O3a0ip9"
      }
    },
    {
      "cell_type": "markdown",
      "source": [
        "\n",
        "\n",
        "*   Son pareceidas a las listas, valores separados por una coma.\n",
        "*   Comparadas con las listas, las tuplas no son mutables.\n",
        "*  Se pueden aplicar las mismas operaciones que en as listas y su ventaja es que consumen menos memoria para almacenarse.\n",
        "*   Se crean, ya sea utilizando paréntesis o simplemente separando los valores por comas.\n",
        "\n"
      ],
      "metadata": {
        "id": "gSeZzJ9-0xCg"
      }
    },
    {
      "cell_type": "code",
      "source": [
        "#Declaracion de una tupla\n",
        "tupla_diasDelMes=(31,28,31,30,31,30,31,31,30,31,30,31)\n",
        "\n",
        "print (tupla_diasDelMes)       #imprimir la tupla completa\n",
        "print (tupla_diasDelMes[0])    #imprimir elemento 1\n",
        "print (tupla_diasDelMes[3])    #imprimir elemento 4\n",
        "print (tupla_diasDelMes[1])   #imprimir elemento 2"
      ],
      "metadata": {
        "colab": {
          "base_uri": "https://localhost:8080/"
        },
        "id": "0bdUlu8d1DNU",
        "outputId": "f1650d22-096e-4b79-eb7f-16f426877d6b"
      },
      "execution_count": null,
      "outputs": [
        {
          "output_type": "stream",
          "name": "stdout",
          "text": [
            "(31, 28, 31, 30, 31, 30, 31, 31, 30, 31, 30, 31)\n",
            "31\n",
            "30\n",
            "28\n"
          ]
        }
      ]
    },
    {
      "cell_type": "code",
      "source": [
        "#Declaracion de tuplas anidadas\n",
        "\n",
        "tupla_numeros=(('cero', 0),('uno',1, 'UNO'), ('dos',2), ('tres', 3), ('cuatro',4), ('X',5))\n",
        "\n",
        "print (tupla_numeros)        #imprimir tupla completa\n",
        "\n",
        "print (tupla_numeros[0])     #imprime el elemento 0 de la tupla\n",
        "print (tupla_numeros[1])     #imprime el elemento 1 de la tupla\n",
        "\n",
        "print (tupla_numeros[2][0])  #imprime el primer elemento de la tupla en la posicion 2\n",
        "print (tupla_numeros[2][1])  #imprime el segundo elemento de la tupla en la posicion 2\n",
        "\n",
        "print (tupla_numeros[1][0])\n",
        "print (tupla_numeros[1][1])\n",
        "print (tupla_numeros[1][2])"
      ],
      "metadata": {
        "colab": {
          "base_uri": "https://localhost:8080/"
        },
        "id": "5IoRtKpS1DHd",
        "outputId": "31e20ddf-8f12-4b71-83d5-2193a0d2db19"
      },
      "execution_count": null,
      "outputs": [
        {
          "output_type": "stream",
          "name": "stdout",
          "text": [
            "(('cero', 0), ('uno', 1, 'UNO'), ('dos', 2), ('tres', 3), ('cuatro', 4), ('X', 5))\n",
            "('cero', 0)\n",
            "('uno', 1, 'UNO')\n",
            "dos\n",
            "2\n",
            "uno\n",
            "1\n",
            "UNO\n"
          ]
        }
      ]
    },
    {
      "cell_type": "code",
      "source": [
        "#Probando la mutabilidad de las listas vs la no mutabilidad de las tuplas\n",
        "print(\"valor actual {}\".format(lista_diasDelMes[0]))\n",
        "lista_diasDelMes[0] = 50\n",
        "print(\"valor cambiado {}\".format(lista_diasDelMes[0]))\n",
        "tupla_diasDelMes[0] = 50   #Esta asignación manda un error, ya que no se pueden cambiar los valores de las tuplas"
      ],
      "metadata": {
        "colab": {
          "base_uri": "https://localhost:8080/",
          "height": 211
        },
        "id": "MDKR4hhD1C_-",
        "outputId": "e5216826-c822-4c31-ca70-ded200e66765"
      },
      "execution_count": null,
      "outputs": [
        {
          "output_type": "stream",
          "name": "stdout",
          "text": [
            "valor actual 31\n",
            "valor cambiado 50\n"
          ]
        },
        {
          "output_type": "error",
          "ename": "TypeError",
          "evalue": "'tuple' object does not support item assignment",
          "traceback": [
            "\u001b[0;31m---------------------------------------------------------------------------\u001b[0m",
            "\u001b[0;31mTypeError\u001b[0m                                 Traceback (most recent call last)",
            "\u001b[0;32m<ipython-input-26-9709ba0ea40a>\u001b[0m in \u001b[0;36m<cell line: 0>\u001b[0;34m()\u001b[0m\n\u001b[1;32m      3\u001b[0m \u001b[0mlista_diasDelMes\u001b[0m\u001b[0;34m[\u001b[0m\u001b[0;36m0\u001b[0m\u001b[0;34m]\u001b[0m \u001b[0;34m=\u001b[0m \u001b[0;36m50\u001b[0m\u001b[0;34m\u001b[0m\u001b[0;34m\u001b[0m\u001b[0m\n\u001b[1;32m      4\u001b[0m \u001b[0mprint\u001b[0m\u001b[0;34m(\u001b[0m\u001b[0;34m\"valor cambiado {}\"\u001b[0m\u001b[0;34m.\u001b[0m\u001b[0mformat\u001b[0m\u001b[0;34m(\u001b[0m\u001b[0mlista_diasDelMes\u001b[0m\u001b[0;34m[\u001b[0m\u001b[0;36m0\u001b[0m\u001b[0;34m]\u001b[0m\u001b[0;34m)\u001b[0m\u001b[0;34m)\u001b[0m\u001b[0;34m\u001b[0m\u001b[0;34m\u001b[0m\u001b[0m\n\u001b[0;32m----> 5\u001b[0;31m \u001b[0mtupla_diasDelMes\u001b[0m\u001b[0;34m[\u001b[0m\u001b[0;36m0\u001b[0m\u001b[0;34m]\u001b[0m \u001b[0;34m=\u001b[0m \u001b[0;36m50\u001b[0m   \u001b[0;31m#Esta asignación manda un error, ya que no se pueden cambiar los valores de las tuplas\u001b[0m\u001b[0;34m\u001b[0m\u001b[0;34m\u001b[0m\u001b[0m\n\u001b[0m",
            "\u001b[0;31mTypeError\u001b[0m: 'tuple' object does not support item assignment"
          ]
        }
      ]
    },
    {
      "cell_type": "markdown",
      "source": [
        "# 6. Tupla con nombre"
      ],
      "metadata": {
        "id": "HR1iKr0h1VPN"
      }
    },
    {
      "cell_type": "markdown",
      "source": [
        "En comparación con las tuplas anteriores, este tipo especial de tuplas permite especificar un nombre para describirla."
      ],
      "metadata": {
        "id": "0jkVlOEM1bot"
      }
    },
    {
      "cell_type": "code",
      "source": [
        "#Se debe importar la librería para hacer uso de namedtuple\n",
        "from collections import namedtuple\n",
        "\n",
        "#Se crea la tupla con nombre\n",
        "#El primer argumento es el nombre de la tupla, mientras que el segundo argumento son los campos\n",
        "#p es la referencia a la tupla\n",
        "planeta = namedtuple('planeta', ['nombre', 'numero'])\n",
        "\n",
        "#Se crea el planeta 1 y se agregan a la tupla los valores correspondientes a los campos\n",
        "planeta1 = planeta('Mercurio', 1)\n",
        "print(planeta1)\n",
        "\n",
        "#Se crea el planeta 2\n",
        "planeta2 = planeta('Venus', 2)\n",
        "\n",
        "#Se imprimen los valores de los campos\n",
        "#Usando la referencia se llama a cada uno de sus campos\n",
        "print(planeta1.nombre, planeta1.numero)\n",
        "#Se obtienen los valores por el orden de los campos\n",
        "print(planeta2[0], planeta2[1])\n",
        "\n",
        "print('Campos de la tupla: {}'.format(planeta1._fields))"
      ],
      "metadata": {
        "colab": {
          "base_uri": "https://localhost:8080/"
        },
        "id": "KsCQJ3p41d0M",
        "outputId": "e684f4c9-026a-42b7-c341-016b8cd16d2b"
      },
      "execution_count": null,
      "outputs": [
        {
          "output_type": "stream",
          "name": "stdout",
          "text": [
            "planeta(nombre='Mercurio', numero=1)\n",
            "Mercurio 1\n",
            "Venus 2\n",
            "Campos de la tupla: ('nombre', 'numero')\n"
          ]
        }
      ]
    },
    {
      "cell_type": "code",
      "source": [
        "#Al igual que las tuplas, éstas no son mutables, si se trata de cambiar el contenido, se genera un error\n",
        "planeta1.nombre = 'Tierra'"
      ],
      "metadata": {
        "id": "KT3JUDDV1iU9"
      },
      "execution_count": null,
      "outputs": []
    },
    {
      "cell_type": "markdown",
      "source": [
        "#7. Diccionarios"
      ],
      "metadata": {
        "id": "x_J9RqfNbq6o"
      }
    },
    {
      "cell_type": "markdown",
      "source": [
        "\n",
        "\n",
        "*   Un diccionario se crea usando { } y consta de dos partes: llave y valor.\n",
        "\n",
        "\n",
        "*   Las llaves son inmutables, deben de tener un solo tipo de dato, una cadena o número.\n",
        "* Una vez que es creado, no se puede cambiar su tipo.\n",
        "*   Mientras que el valor puede ser de cualquier tipo y se puede cambiar con el tiempo.\n",
        "*   Los elemntos en un diccionario no están ordenados.\n",
        "\n",
        "\n"
      ],
      "metadata": {
        "id": "vInVm5jAcD9N"
      }
    },
    {
      "cell_type": "code",
      "source": [
        "#Creando un diccionario\n",
        "elementos = { 'hidrogeno': 1, 'helio': 2, 'carbon': 6 }\n",
        "\n",
        "#EL momento de la impresion, pueden aparecer en diferente orden del introducido\n",
        "print (elementos)\n",
        "\n",
        "print (elementos['hidrogeno'])"
      ],
      "metadata": {
        "colab": {
          "base_uri": "https://localhost:8080/"
        },
        "id": "WqBneKdub_8-",
        "outputId": "a35e79cb-420a-484b-c578-4c07a7d315f8"
      },
      "execution_count": null,
      "outputs": [
        {
          "output_type": "stream",
          "name": "stdout",
          "text": [
            "{'hidrogeno': 1, 'helio': 2, 'carbon': 6}\n",
            "1\n"
          ]
        }
      ]
    },
    {
      "cell_type": "code",
      "source": [
        "#Se pueen agregar elementos al diccionario\n",
        "elementos['litio'] = 3\n",
        "elementos['nitrogeno'] = 8\n",
        "\n",
        "print (elementos)  #Imprimiendo todos los elementos, nótese que los elementos no están ordenados"
      ],
      "metadata": {
        "colab": {
          "base_uri": "https://localhost:8080/"
        },
        "id": "mLU446YCcpqF",
        "outputId": "86c543be-6542-4ffe-ffba-bbf158d0be1f"
      },
      "execution_count": null,
      "outputs": [
        {
          "output_type": "stream",
          "name": "stdout",
          "text": [
            "{'hidrogeno': 1, 'helio': 2, 'carbon': 6, 'litio': 3, 'nitrogeno': 8}\n"
          ]
        }
      ]
    },
    {
      "cell_type": "code",
      "source": [
        "#Creando un nuevo diccionario\n",
        "elementos2 = {}\n",
        "elementos2['H'] = {'name': 'Hydrogen', 'number': 1, 'weight': 1.00794}\n",
        "elementos2['He'] = {'name': 'Helium', 'number': 2, 'weight': 4.002602}\n",
        "\n",
        "print (elementos2)"
      ],
      "metadata": {
        "colab": {
          "base_uri": "https://localhost:8080/"
        },
        "id": "cZf9dgTOcs1m",
        "outputId": "3d52a144-5f32-4d6b-f85d-8d3f82418119"
      },
      "execution_count": null,
      "outputs": [
        {
          "output_type": "stream",
          "name": "stdout",
          "text": [
            "{'H': {'name': 'Hydrogen', 'number': 1, 'weight': 1.00794}, 'He': {'name': 'Helium', 'number': 2, 'weight': 4.002602}}\n"
          ]
        }
      ]
    },
    {
      "cell_type": "code",
      "source": [
        "#Imprimiendo los datos de un elemento del diccionario\n",
        "print (elementos2['H'])\n",
        "print (elementos2['H']['name'])\n",
        "print (elementos2['H']['number'])\n",
        "elementos2['H']['weight'] =  4.30  #Cambiando el valor de un elemento\n",
        "print (elementos2['H']['weight'])"
      ],
      "metadata": {
        "colab": {
          "base_uri": "https://localhost:8080/"
        },
        "id": "FakD3WSbcxht",
        "outputId": "4c70b8cb-4c63-4916-eec9-f632a1d1a614"
      },
      "execution_count": null,
      "outputs": [
        {
          "output_type": "stream",
          "name": "stdout",
          "text": [
            "{'name': 'Hydrogen', 'number': 1, 'weight': 1.00794}\n",
            "Hydrogen\n",
            "1\n",
            "4.3\n"
          ]
        }
      ]
    },
    {
      "cell_type": "code",
      "source": [
        "#Agregando elementos a una llave\n",
        "elementos2['H'].update({'gas noble':True})\n",
        "print (elementos2['H'])\n"
      ],
      "metadata": {
        "colab": {
          "base_uri": "https://localhost:8080/"
        },
        "id": "nwhKEHTacy92",
        "outputId": "f3ff3756-2ce2-4fcc-a9f0-43631bd59fc8"
      },
      "execution_count": null,
      "outputs": [
        {
          "output_type": "stream",
          "name": "stdout",
          "text": [
            "{'name': 'Hydrogen', 'number': 1, 'weight': 4.3, 'gas noble': True}\n"
          ]
        }
      ]
    },
    {
      "cell_type": "code",
      "source": [
        "#Muestra todos los elementos del diccionario\n",
        "print (elementos2.items())\n",
        "\n",
        "#Muestra todas las llaves del diccionario\n",
        "print (elementos2.keys())"
      ],
      "metadata": {
        "colab": {
          "base_uri": "https://localhost:8080/"
        },
        "id": "5U4qn62cc1cf",
        "outputId": "159b48d4-83af-403b-f4d4-266c2a3f15f4"
      },
      "execution_count": null,
      "outputs": [
        {
          "output_type": "stream",
          "name": "stdout",
          "text": [
            "dict_items([('H', {'name': 'Hydrogen', 'number': 1, 'weight': 4.3, 'gas noble': True}), ('He', {'name': 'Helium', 'number': 2, 'weight': 4.002602})])\n",
            "dict_keys(['H', 'He'])\n"
          ]
        }
      ]
    },
    {
      "cell_type": "markdown",
      "source": [
        "#8. Funciones"
      ],
      "metadata": {
        "id": "5cRQmNXBdAu2"
      }
    },
    {
      "cell_type": "markdown",
      "source": [
        "\n",
        "\n",
        "*   Una función o procedimiento sirve para empaquetar código que sirve para ser reutilizado.\n",
        "*   Se puede usar ese mismo código con diferentes entradas y obtener resultados o comportamiento de acuerdo con esos datos.\n",
        "\n"
      ],
      "metadata": {
        "id": "qYYy7itCdG_F"
      }
    },
    {
      "cell_type": "code",
      "source": [
        "#Las funciones pueden recibir n número de parámetros, no se necesita indicar el tipo\n",
        "def imprime_nombre(nombre):\n",
        "    print(\"hola \"+nombre)  #Las cadenas se pueden concatenar con el +\n",
        "    #Llamada a la función\n",
        "imprime_nombre(\"JJ\")"
      ],
      "metadata": {
        "colab": {
          "base_uri": "https://localhost:8080/"
        },
        "id": "DIpJspVkdNoG",
        "outputId": "a9daf468-25e4-4159-c907-f57f8b8a89f8"
      },
      "execution_count": null,
      "outputs": [
        {
          "output_type": "stream",
          "name": "stdout",
          "text": [
            "hola JJ\n"
          ]
        }
      ]
    },
    {
      "cell_type": "code",
      "source": [
        "#Definiendo una función que regresa el cuadrado de un número\n",
        "def cuadrado(x):\n",
        "    return x**2\n",
        "x = 5\n",
        "#La función format() sirve para convertir los parámetros que recibe, en cadenas; éstos valores son reemplazadas\n",
        "#por las llaves de la cadena.\n",
        "print(\"El cuadrado de {} es {}\".format(x, cuadrado(x)))\n",
        "#La función cuadrado() regresa un valor"
      ],
      "metadata": {
        "colab": {
          "base_uri": "https://localhost:8080/"
        },
        "id": "BStuDb1HdUyl",
        "outputId": "959241ff-4ba2-4b3b-e11c-36d7f1d8833f"
      },
      "execution_count": null,
      "outputs": [
        {
          "output_type": "stream",
          "name": "stdout",
          "text": [
            "El cuadrado de 5 es 25\n"
          ]
        }
      ]
    },
    {
      "cell_type": "code",
      "source": [
        "#Definiendo una función que regrese más de un valor\n",
        "def varios(x):\n",
        "    return x**2, x**3, x**4\n",
        "#Los valores que regresa la función pueden ser guardado en variables separadas por ,\n",
        "val1, val2, val3 = varios(2)\n",
        "print(\"{} {} {}\".format(val1, val2, val3))"
      ],
      "metadata": {
        "colab": {
          "base_uri": "https://localhost:8080/"
        },
        "id": "bA5e1Npgd5PO",
        "outputId": "21e7d862-ceb6-4b0b-a2c7-c5a9e3d098fa"
      },
      "execution_count": null,
      "outputs": [
        {
          "output_type": "stream",
          "name": "stdout",
          "text": [
            "4 8 16\n"
          ]
        }
      ]
    },
    {
      "cell_type": "code",
      "source": [
        "#Función con un parámetro con un valor por defecto\n",
        "def cuadrado_default(x=3):\n",
        "    return x**2\n",
        "#Como la función tiene un valor por defailt, si se manda llamar la función sin especificar el parámetro, se toma el que\n",
        "#tiene por defecto\n",
        "cuadrado_default()"
      ],
      "metadata": {
        "colab": {
          "base_uri": "https://localhost:8080/"
        },
        "id": "FFSXoPE3eEXd",
        "outputId": "060ca6ad-728e-4b4a-ef46-18c3db8ee1f1"
      },
      "execution_count": null,
      "outputs": [
        {
          "output_type": "execute_result",
          "data": {
            "text/plain": [
              "9"
            ]
          },
          "metadata": {},
          "execution_count": 12
        }
      ]
    },
    {
      "cell_type": "markdown",
      "source": [
        "**Idiom:** Cuando una función regresa más de una función, se puede usar el operado '_', para no guardar un valor no deseado.\n",
        "\n"
      ],
      "metadata": {
        "id": "B_c32e7veJMF"
      }
    },
    {
      "cell_type": "code",
      "source": [
        "#La función regresa tres, valores, pero sólo nos interesa el primero y el tercero\n",
        "val4, _, val5 = varios(2)\n",
        "print(\"{} {}\".format(val4, val5))"
      ],
      "metadata": {
        "colab": {
          "base_uri": "https://localhost:8080/"
        },
        "id": "mim0rYLKeNAe",
        "outputId": "438ecc6e-fc94-48e1-a2ff-05dbce9681ba"
      },
      "execution_count": null,
      "outputs": [
        {
          "output_type": "stream",
          "name": "stdout",
          "text": [
            "4 16\n"
          ]
        }
      ]
    },
    {
      "cell_type": "markdown",
      "source": [
        "###8.1 Variables Globales\n"
      ],
      "metadata": {
        "id": "9DCNDSSJeZRF"
      }
    },
    {
      "cell_type": "markdown",
      "source": [
        "Podemos decir que el ambiente de ejecución es donde se efectúan las de operaciones que componen un programa. Al momento de ejecutar un programa se crea un espacio de nombres para las variables. Hay dos tipos se espacio de nombres, el primero es el espacio global y el segundo el espacio local. Las variables que se declaren afuera de las funciones pertenecen as espacio global y no se necesita añadir un modificador para declararlas de esta manera. Por otro lado, todas las variables que se definen dentro de una función pertenecen al espacio local, estas variables sólo pueden ser reconocidas y usadas dentro de la propia función."
      ],
      "metadata": {
        "id": "_njP40EieiHK"
      }
    },
    {
      "cell_type": "code",
      "source": [
        "#Se crea una variable en el espacio global de nombres\n",
        "vg = 'Global'\n",
        "#Se crea una función que imprime la variable global\n",
        "def funcion_v1():\n",
        "    print(vg)\n",
        "#Llamada a la función que imprime la variable global\n",
        "funcion_v1()\n",
        "\n",
        "#Imprime la variable global\n",
        "print(vg)"
      ],
      "metadata": {
        "colab": {
          "base_uri": "https://localhost:8080/"
        },
        "id": "UVc-vFk0eoUG",
        "outputId": "68c2fa6c-afaf-4924-fd53-39a9ccefb424"
      },
      "execution_count": null,
      "outputs": [
        {
          "output_type": "stream",
          "name": "stdout",
          "text": [
            "Global\n",
            "Global\n"
          ]
        }
      ]
    },
    {
      "cell_type": "code",
      "source": [
        "#Se crea una variable local que tiene el mismo nombre que la variable global\n",
        "def funcion_v2():\n",
        "    vg = \"Local\"\n",
        "    print(vg)\n",
        "#Llamada a la función\n",
        "funcion_v2()  #Imprime valor local\n",
        "\n",
        "#Imprime la variable global\n",
        "print(vg)"
      ],
      "metadata": {
        "colab": {
          "base_uri": "https://localhost:8080/"
        },
        "id": "qDfcQ-16eq0l",
        "outputId": "1570f082-051e-427d-e8ef-93e6d0edca96"
      },
      "execution_count": null,
      "outputs": [
        {
          "output_type": "stream",
          "name": "stdout",
          "text": [
            "Local\n",
            "Global\n"
          ]
        }
      ]
    },
    {
      "cell_type": "code",
      "source": [
        "#Se trata de imprimir el valor de la variable global, a diferencia de la función_v1(), se creó en el\n",
        "#espacio local de la funcion_v3() una variable con el mismo nombre, por lo que se reemplaza la variable\n",
        "#global\n",
        "def funcion_v3():\n",
        "    print(vg)\n",
        "    vg = \"Local\"\n",
        "    print(vg)\n",
        "#Como se tiene una variable local y no se le ha asignado un valor, se genera un error\n",
        "funcion_v3()"
      ],
      "metadata": {
        "colab": {
          "base_uri": "https://localhost:8080/",
          "height": 297
        },
        "id": "xFwZG8_SetrR",
        "outputId": "e47c34b4-070c-4dc4-b5d9-8d0cb5525129"
      },
      "execution_count": null,
      "outputs": [
        {
          "output_type": "error",
          "ename": "UnboundLocalError",
          "evalue": "cannot access local variable 'vg' where it is not associated with a value",
          "traceback": [
            "\u001b[0;31m---------------------------------------------------------------------------\u001b[0m",
            "\u001b[0;31mUnboundLocalError\u001b[0m                         Traceback (most recent call last)",
            "\u001b[0;32m<ipython-input-16-abb362617159>\u001b[0m in \u001b[0;36m<cell line: 0>\u001b[0;34m()\u001b[0m\n\u001b[1;32m      7\u001b[0m     \u001b[0mprint\u001b[0m\u001b[0;34m(\u001b[0m\u001b[0mvg\u001b[0m\u001b[0;34m)\u001b[0m\u001b[0;34m\u001b[0m\u001b[0;34m\u001b[0m\u001b[0m\n\u001b[1;32m      8\u001b[0m \u001b[0;31m#Como se tiene una variable local y no se le ha asignado un valor, se genera un error\u001b[0m\u001b[0;34m\u001b[0m\u001b[0;34m\u001b[0m\u001b[0m\n\u001b[0;32m----> 9\u001b[0;31m \u001b[0mfuncion_v3\u001b[0m\u001b[0;34m(\u001b[0m\u001b[0;34m)\u001b[0m\u001b[0;34m\u001b[0m\u001b[0;34m\u001b[0m\u001b[0m\n\u001b[0m",
            "\u001b[0;32m<ipython-input-16-abb362617159>\u001b[0m in \u001b[0;36mfuncion_v3\u001b[0;34m()\u001b[0m\n\u001b[1;32m      3\u001b[0m \u001b[0;31m#global\u001b[0m\u001b[0;34m\u001b[0m\u001b[0;34m\u001b[0m\u001b[0m\n\u001b[1;32m      4\u001b[0m \u001b[0;32mdef\u001b[0m \u001b[0mfuncion_v3\u001b[0m\u001b[0;34m(\u001b[0m\u001b[0;34m)\u001b[0m\u001b[0;34m:\u001b[0m\u001b[0;34m\u001b[0m\u001b[0;34m\u001b[0m\u001b[0m\n\u001b[0;32m----> 5\u001b[0;31m     \u001b[0mprint\u001b[0m\u001b[0;34m(\u001b[0m\u001b[0mvg\u001b[0m\u001b[0;34m)\u001b[0m\u001b[0;34m\u001b[0m\u001b[0;34m\u001b[0m\u001b[0m\n\u001b[0m\u001b[1;32m      6\u001b[0m     \u001b[0mvg\u001b[0m \u001b[0;34m=\u001b[0m \u001b[0;34m\"Local\"\u001b[0m\u001b[0;34m\u001b[0m\u001b[0;34m\u001b[0m\u001b[0m\n\u001b[1;32m      7\u001b[0m     \u001b[0mprint\u001b[0m\u001b[0;34m(\u001b[0m\u001b[0mvg\u001b[0m\u001b[0;34m)\u001b[0m\u001b[0;34m\u001b[0m\u001b[0;34m\u001b[0m\u001b[0m\n",
            "\u001b[0;31mUnboundLocalError\u001b[0m: cannot access local variable 'vg' where it is not associated with a value"
          ]
        }
      ]
    },
    {
      "cell_type": "code",
      "source": [
        "#Para resolver el problema anterior y especificar que se quiere hacer uso de la variable global dentro de la\n",
        "#función funcion_v4(), se tiene que agregar la palabra reservada global\n",
        "def funcion_v4():\n",
        "    global vg\n",
        "    print(vg)\n",
        "    vg = \"Local\"\n",
        "    print(vg)\n",
        "#Al momento de ejecutar la función se imprime el valor que tenía asignado vg antes de se modificado por la función.\n",
        "#Después de asignar el valor, éste es impreso\n",
        "funcion_v4()\n",
        "\n",
        "#Se imprime la variable global con su valor modificado\n",
        "print(vg)\n"
      ],
      "metadata": {
        "colab": {
          "base_uri": "https://localhost:8080/"
        },
        "id": "JZo6S9SPe06d",
        "outputId": "84c8451c-693b-4a0f-be87-f5af27c55b60"
      },
      "execution_count": null,
      "outputs": [
        {
          "output_type": "stream",
          "name": "stdout",
          "text": [
            "Global\n",
            "Local\n",
            "Local\n"
          ]
        }
      ]
    },
    {
      "cell_type": "markdown",
      "source": [
        "**Nota:** El manejo de variables globales dentro de una función en el lenguaje Python se considera como una mala práctica, se recomienda que se pase como parámetro a la función y que se regrese un valor."
      ],
      "metadata": {
        "id": "A3hEtFDVe4vV"
      }
    },
    {
      "cell_type": "markdown",
      "source": [
        "#Actividades de la práctica"
      ],
      "metadata": {
        "id": "CNecurDJfPPW"
      }
    },
    {
      "cell_type": "markdown",
      "source": [
        "#Código 1\n"
      ],
      "metadata": {
        "id": "Op6GKi9MzBBf"
      }
    },
    {
      "cell_type": "code",
      "source": [
        "print(\"Hola Mundo\")"
      ],
      "metadata": {
        "colab": {
          "base_uri": "https://localhost:8080/"
        },
        "id": "0l0SHLtNzDzo",
        "outputId": "4da4f706-02ec-44d2-db42-39ce9d5ce47a"
      },
      "execution_count": null,
      "outputs": [
        {
          "output_type": "stream",
          "name": "stdout",
          "text": [
            "Hola Mundo\n"
          ]
        }
      ]
    },
    {
      "cell_type": "code",
      "source": [
        "#Inicializando variables\n",
        "x = 10     #variable de tipo entero\n",
        "print(x)   #función para imprimir los valores de las variables\n",
        "\n",
        "#Se puede utilizar comillas dobles o simples para crear una cadena\n",
        "cadena = \"Hola Mundo\"    #varible de tipo cadena\n",
        "print(cadena)"
      ],
      "metadata": {
        "id": "fXQyZy2yE9pW",
        "outputId": "e0f75365-976a-4907-9872-cd4b6691c85b",
        "colab": {
          "base_uri": "https://localhost:8080/"
        }
      },
      "execution_count": null,
      "outputs": [
        {
          "output_type": "stream",
          "name": "stdout",
          "text": [
            "10\n",
            "Hola Mundo\n"
          ]
        }
      ]
    },
    {
      "cell_type": "markdown",
      "source": [
        "#Código 2\n"
      ],
      "metadata": {
        "id": "7jF_WxRXzLqH"
      }
    },
    {
      "cell_type": "code",
      "source": [
        "import math\n",
        "print(\"-----Ecuación de segundo grado (Chicharronera)-----\")\n",
        "print(\"Dame el valor de a\")\n",
        "a=float(input())\n",
        "print(\"Dame el valor de b\")\n",
        "b=float(input())\n",
        "print(\"Dame el valor de c\")\n",
        "c=float(input())\n",
        "x1=((-b)+ math.sqrt((b**2)-4*a*c))/(2*a)\n",
        "x2=((-b)- math.sqrt((b**2)-4*a*c))/(2*a)\n",
        "print(\"El valor de x1= \",x1)\n",
        "print(\"El valor de x2= \",x2)"
      ],
      "metadata": {
        "colab": {
          "base_uri": "https://localhost:8080/"
        },
        "id": "6VE2FvtF4PK2",
        "outputId": "e3e44196-d03f-4277-d575-7ababa7d8195"
      },
      "execution_count": null,
      "outputs": [
        {
          "output_type": "stream",
          "name": "stdout",
          "text": [
            "-----Ecuación de segundo grado (Chicharronera)-----\n",
            "Dame el valor de a\n",
            "1\n",
            "Dame el valor de b\n",
            "-10\n",
            "Dame el valor de c\n",
            "2\n",
            "El valor de x1=  9.79583152331272\n",
            "El valor de x2=  0.2041684766872809\n"
          ]
        }
      ]
    },
    {
      "cell_type": "markdown",
      "source": [
        "# Código 3\n"
      ],
      "metadata": {
        "id": "OnhM5S6Ml6vm"
      }
    },
    {
      "cell_type": "code",
      "source": [
        "print (\"-Programa para calcular el area de un circulo-\")\n",
        "r= float(input(\"Dame el valor del radio del circulo \\t\"))\n",
        "PI=3.14\n",
        "Area= (r**2)*PI\n",
        "print (\"Area\", Area)"
      ],
      "metadata": {
        "colab": {
          "base_uri": "https://localhost:8080/"
        },
        "id": "4EkxboDFmpBb",
        "outputId": "fdf5b576-c75c-4fa7-bb02-31ec6b3ffea4"
      },
      "execution_count": null,
      "outputs": [
        {
          "output_type": "stream",
          "name": "stdout",
          "text": [
            "-Programa para calcular el area de un circulo-\n",
            "Dame el valor del radio del circulo \t2.3\n",
            "Area 16.610599999999998\n"
          ]
        }
      ]
    },
    {
      "cell_type": "markdown",
      "source": [
        "# Codigo 4"
      ],
      "metadata": {
        "id": "GlgTlsXSnjlZ"
      }
    },
    {
      "cell_type": "code",
      "source": [
        "print(\"Bienvenido al programa para calcular el volumen del cubo\")\n",
        "Lado= float(input(\"Dame la medida de uno de los lados \\t\"))\n",
        "Volumen= Lado**3\n",
        "print (\"Volume\",Volumen)"
      ],
      "metadata": {
        "colab": {
          "base_uri": "https://localhost:8080/"
        },
        "id": "4yoo4em0nt8K",
        "outputId": "a8d36fc6-11ee-447c-f269-c320938d1d06"
      },
      "execution_count": null,
      "outputs": [
        {
          "output_type": "stream",
          "name": "stdout",
          "text": [
            "Bienvenido al programa para calcular el volumen del cubo\n",
            "Dame la medida de uno de los lados \t4.2\n",
            "Volume 74.08800000000001\n"
          ]
        }
      ]
    },
    {
      "cell_type": "markdown",
      "source": [
        "# Código 5"
      ],
      "metadata": {
        "id": "n4cwSGeheIgO"
      }
    },
    {
      "cell_type": "code",
      "source": [
        "print(\"Bienvenido al programa rebanadas de mantequilla\")\n",
        "rebanada = list(\"mantequilla\")\n",
        "print(rebanada)\n",
        "print(rebanada[2:4])\n",
        "print(rebanada[:6])\n",
        "print(rebanada[:-1])\n",
        "print(rebanada[3:-5])\n",
        "print(rebanada[-8:8])"
      ],
      "metadata": {
        "colab": {
          "base_uri": "https://localhost:8080/"
        },
        "id": "JFncjaG1ec8_",
        "outputId": "57da2bb9-102d-4af9-e2be-a7ee22769820"
      },
      "execution_count": null,
      "outputs": [
        {
          "output_type": "stream",
          "name": "stdout",
          "text": [
            "Bienvenido al programa rebanadas de mantequilla\n",
            "['m', 'a', 'n', 't', 'e', 'q', 'u', 'i', 'l', 'l', 'a']\n",
            "['n', 't']\n",
            "['m', 'a', 'n', 't', 'e', 'q']\n",
            "['m', 'a', 'n', 't', 'e', 'q', 'u', 'i', 'l', 'l']\n",
            "['t', 'e', 'q']\n",
            "['t', 'e', 'q', 'u', 'i']\n"
          ]
        }
      ]
    },
    {
      "cell_type": "markdown",
      "source": [
        "# Código 6"
      ],
      "metadata": {
        "id": "xzLx06lTeryv"
      }
    },
    {
      "cell_type": "code",
      "source": [
        "\n",
        "\n",
        "print(\"Bienvenido al programa indices de listas\")\n",
        "L = [ 1, 2, 3, 'por', ['py', ['t', 'h', 'o', 'n']]]\n",
        "print(\"Elementos indice: \", L[0:4])\n",
        "print(\"Elementos subíndice 1: \", L[4][0])\n",
        "print(\"Elementos subíndice 2: \", L[4][1][0:3])\n"
      ],
      "metadata": {
        "colab": {
          "base_uri": "https://localhost:8080/"
        },
        "id": "GtE2pAIhezqG",
        "outputId": "b0d1ac33-0f87-4d41-cce1-168b0080cc25"
      },
      "execution_count": null,
      "outputs": [
        {
          "output_type": "stream",
          "name": "stdout",
          "text": [
            "Bienvenido al programa indices de listas\n",
            "Elementos indice:  [1, 2, 3, 'por']\n",
            "Elementos subíndice 1:  py\n",
            "Elementos subíndice 2:  ['t', 'h', 'o']\n"
          ]
        }
      ]
    },
    {
      "cell_type": "markdown",
      "source": [
        "# **Conclusiones**\n",
        "\n"
      ],
      "metadata": {
        "id": "59kFa-jp1qNN"
      }
    },
    {
      "cell_type": "markdown",
      "source": [
        "Antonio Garcia Braulio Gerardo\n",
        "\n",
        "En esta práctica aprendimos los fundamentos básicos del lenguaje Python, incluyendo variables, tipos de datos, operadores, listas, tuplas, diccionarios y funciones. Se comprendió que las variables en Python no requieren declaración previa de tipo y que el tipo se ajusta automáticamente según el valor asignado.\n",
        "\n",
        "También se trabajó con cadenas de texto, entendiendo su inmutabilidad y las diferentes maneras de concatenarlas y formatearlas . Se exploraron operaciones con listas y tuplas, destacando la mutabilidad de las listas y la inmutabilidad de las tuplas, además de su uso en estructuras anidadas.\n",
        "\n",
        "La sección de diccionarios mostró cómo almacenar y manipular datos asociados a claves, lo que permite una organización eficiente de información. Además, se revisaron las funciones en Python, su flexibilidad en cuanto a parámetros y retorno de múltiples valores, incluyendo funciones con valores por defecto.\n",
        "\n",
        "Finalmente, se entendió la diferencia entre variables locales y globales, así como las buenas prácticas respecto al uso de variables globales para evitar errores de manipulación de datos en los programas. Esta práctica sentó las bases necesarias para seguir aprendiendo programación en Python de manera estructurada y eficiente."
      ],
      "metadata": {
        "id": "Wa5sCE-YIPa0"
      }
    },
    {
      "cell_type": "markdown",
      "source": [
        "Mendoza Torres Marco Antonio\n",
        "\n",
        "A lo largo de esta practica, pudimos introducirnos, comprender y descubrir otro lenguaje de programación,esto nos dota de más herramientas con las cuales podemos desarrollar códigos con distintos lenguajes de programación, ademas de observar en que situaciones es mejor el uso de este lenguaje.\n",
        "\n",
        "El aprendizaje del lenguaje C en la programación anterior a Python, facilito nuestro aprendizaje e introducción a Python; lenguaje que tiende a ser facil de comprender, usar. También pudimos observar que muchas funciones o estructuras existentes en otros códigos (los cuales se tienen que crear desde cero),este lenguaje nos ofrece su creación inmediata.\n",
        "\n",
        "Dentro de las actividades de esta practica encontramos la creación de cademas, funciones, el uso de operadores y el uso de variables. Todo esto con el fin de poder ver la sintaxis en Python y como es que esta no varia tanto a C."
      ],
      "metadata": {
        "id": "jwZ9Mm-EITJz"
      }
    },
    {
      "cell_type": "markdown",
      "source": [
        "Zarate Mendoza Luis Alejandro.\n",
        "\n",
        "La realización y estudio de esta práctica nos ha ayudado a trasladar los conocimientos obtenidos en el lenguaje de programación en C al lenguaje de programación Python. Ha fungido a manera de iniciación en el lenguaje, conociendo las funciones principales de este mismo y a su vez dándonos las oportunidad de conocer tanto la sintaxis, como parte de la lógica  utilizada en la elaboración de códigos.\n",
        "\n",
        "Ha sido interesante reinterpretar problemas ya conocidos anteriormente a un nuevo lenguaje de programación y utilizar nuestra capacidad resolutiva para adaptarnos a esta nueva forma de trabajar, la cual trae consigo diversas oportunidades y herramientas para el desarrollo de códigos más cortos y eficientes."
      ],
      "metadata": {
        "id": "4SdkmPerIJlr"
      }
    },
    {
      "cell_type": "markdown",
      "source": [
        "# **Libreta Practica 10**"
      ],
      "metadata": {
        "id": "icblvSBk52_B"
      }
    },
    {
      "cell_type": "markdown",
      "source": [
        "# 1. Estructuras de control selectivas"
      ],
      "metadata": {
        "id": "8b0wKyGH6HAr"
      }
    },
    {
      "cell_type": "markdown",
      "source": [
        "**1.1 if**"
      ],
      "metadata": {
        "id": "XMEIZHUn6TXS"
      }
    },
    {
      "cell_type": "markdown",
      "source": [
        "La declaración IF sirve para ejecutar código dependiendo del resultado de una condición."
      ],
      "metadata": {
        "id": "m3vZ6Nee6bKy"
      }
    },
    {
      "cell_type": "code",
      "source": [
        "def obtenerMayor(param1,param2):\n",
        "    if param1 < param2:\n",
        "        print('{} es mayor que {}'.format(param2, param1))\n"
      ],
      "metadata": {
        "id": "sICbHpM06JlZ"
      },
      "execution_count": null,
      "outputs": []
    },
    {
      "cell_type": "code",
      "source": [
        "obtenerMayor(5, 7)"
      ],
      "metadata": {
        "colab": {
          "base_uri": "https://localhost:8080/"
        },
        "id": "0KRNpfSU6pR6",
        "outputId": "a4335d0b-d554-4aa3-b0de-8523f0bc11e9"
      },
      "execution_count": null,
      "outputs": [
        {
          "output_type": "stream",
          "name": "stdout",
          "text": [
            "7 es mayor que 5\n"
          ]
        }
      ]
    },
    {
      "cell_type": "code",
      "source": [
        "obtenerMayor(7, 5)   #No imprime nada"
      ],
      "metadata": {
        "id": "xCkz7WCV6tvx"
      },
      "execution_count": null,
      "outputs": []
    },
    {
      "cell_type": "markdown",
      "source": [
        "**Idiom**: Se puede encadenar más de una una condición sin tener que agregar un operador booleano."
      ],
      "metadata": {
        "id": "VcMy96ke60RB"
      }
    },
    {
      "cell_type": "code",
      "source": [
        "x = y = z = 3\n",
        "if x == y == z:\n",
        "    print(True)\n"
      ],
      "metadata": {
        "colab": {
          "base_uri": "https://localhost:8080/"
        },
        "id": "zp9inv4i62Nh",
        "outputId": "9fddced3-1f75-4afe-a58f-0b98a9a5bdb8"
      },
      "execution_count": null,
      "outputs": [
        {
          "output_type": "stream",
          "name": "stdout",
          "text": [
            "True\n"
          ]
        }
      ]
    },
    {
      "cell_type": "markdown",
      "source": [
        "# 1.2 if-else"
      ],
      "metadata": {
        "id": "oz22teBx644Z"
      }
    },
    {
      "cell_type": "markdown",
      "source": [
        "\n",
        "* Este tipo de declaraciones se usan para dar una opción en el caso de que la condición no se cumpla.\n",
        "\n"
      ],
      "metadata": {
        "id": "0sJHQvN268yD"
      }
    },
    {
      "cell_type": "code",
      "source": [
        "def obtenerMayorv2(param1,param2):\n",
        "    if param1 < param2:\n",
        "        return param2\n",
        "    else:\n",
        "        return param1\n",
        "\n",
        "print (\"El mayor es {}\".format( obtenerMayorv2(4, 20) ))"
      ],
      "metadata": {
        "colab": {
          "base_uri": "https://localhost:8080/"
        },
        "id": "rMxdOLbB67Ri",
        "outputId": "3cfa6aa6-b766-4c0f-acd4-879728bf523e"
      },
      "execution_count": null,
      "outputs": [
        {
          "output_type": "stream",
          "name": "stdout",
          "text": [
            "El mayor es 20\n"
          ]
        }
      ]
    },
    {
      "cell_type": "code",
      "source": [
        "print (\"El mayor es {}\".format( obtenerMayorv2(11, 6) ))"
      ],
      "metadata": {
        "colab": {
          "base_uri": "https://localhost:8080/"
        },
        "id": "cWbZxHEx7mAS",
        "outputId": "5fc87905-25c1-4b27-dbf0-83e09d371eef"
      },
      "execution_count": null,
      "outputs": [
        {
          "output_type": "stream",
          "name": "stdout",
          "text": [
            "El mayor es 11\n"
          ]
        }
      ]
    },
    {
      "cell_type": "markdown",
      "source": [
        "**Idiom:** Para comparaciones simples, Python no tiene un operador ternario (x ? True : False), pero se puede emular con if-else:"
      ],
      "metadata": {
        "id": "YQ46O52C7t35"
      }
    },
    {
      "cell_type": "code",
      "source": [
        "def obtenerMayor_idiom(param1,param2):\n",
        "    #La variable valor va a tener el valor de param2 is el if es verdadero\n",
        "    #de lo contrario tendra el valor de param1\n",
        "    valor = param2 if (param1 < param2) else param1\n",
        "    return valor\n",
        "\n",
        "print (\"El mayor es {}\".format( obtenerMayor_idiom(11, 6) ))"
      ],
      "metadata": {
        "colab": {
          "base_uri": "https://localhost:8080/"
        },
        "id": "VXSmv3fM7x-v",
        "outputId": "6b9a3cfc-977d-4081-f269-cd571542cbe2"
      },
      "execution_count": null,
      "outputs": [
        {
          "output_type": "stream",
          "name": "stdout",
          "text": [
            "El mayor es 11\n"
          ]
        }
      ]
    },
    {
      "cell_type": "markdown",
      "source": [
        "# 1.3 if-elif-else\n",
        "\n",
        "\n",
        "*   Este tipo de declaraciones sirve para generar varias casos de prueba. En otros lenguajes es similar a case o switch.\n",
        "\n"
      ],
      "metadata": {
        "id": "XizPI4Xd7_uy"
      }
    },
    {
      "cell_type": "code",
      "source": [
        "def numeros(num):\n",
        "    if num==1:\n",
        "     print (\"tu numero es 1\")\n",
        "    elif num==2:\n",
        "     print (\"el numero es 2\")\n",
        "    elif num==3:\n",
        "     print (\"el numero es 3\")\n",
        "    elif num==4:\n",
        "     print (\"el numero es 4\")\n",
        "    else:\n",
        "     print (\"no hay opcion\")\n"
      ],
      "metadata": {
        "id": "AzSQvx-S8Bdy"
      },
      "execution_count": null,
      "outputs": []
    },
    {
      "cell_type": "code",
      "source": [
        "numeros(2)\n"
      ],
      "metadata": {
        "colab": {
          "base_uri": "https://localhost:8080/"
        },
        "id": "38zlwmNo8R3C",
        "outputId": "3541d077-b90e-486e-9eec-ebd4da40be45"
      },
      "execution_count": null,
      "outputs": [
        {
          "output_type": "stream",
          "name": "stdout",
          "text": [
            "el numero es 2\n"
          ]
        }
      ]
    },
    {
      "cell_type": "code",
      "source": [
        "numeros(5)"
      ],
      "metadata": {
        "colab": {
          "base_uri": "https://localhost:8080/"
        },
        "id": "-Eu8AAVV8WlB",
        "outputId": "6be8e9b7-6fd0-44aa-e681-dbce86890c1a"
      },
      "execution_count": null,
      "outputs": [
        {
          "output_type": "stream",
          "name": "stdout",
          "text": [
            "no hay opcion\n"
          ]
        }
      ]
    },
    {
      "cell_type": "markdown",
      "source": [
        "**Idiom:** En alunos casos, se puede evitar la repetición de código del if-elif-else de la siguiente manera:"
      ],
      "metadata": {
        "id": "8gSStCc19rLx"
      }
    },
    {
      "cell_type": "code",
      "source": [
        "def numeros_idiom(num):\n",
        "    #La tupla tiene las opciones válidas\n",
        "    if num in (1,2,3,4):\n",
        "        print(\"tu numero es {}\".format(num))\n",
        "    else:\n",
        "        print (\"{} no es una opcion\".format(num))\n"
      ],
      "metadata": {
        "id": "L6XM167h9tWR"
      },
      "execution_count": null,
      "outputs": []
    },
    {
      "cell_type": "code",
      "source": [
        "numeros_idiom(2)"
      ],
      "metadata": {
        "colab": {
          "base_uri": "https://localhost:8080/"
        },
        "id": "gkTlBJhO-CEB",
        "outputId": "db779505-a663-4ec3-de16-8685ac9855a8"
      },
      "execution_count": null,
      "outputs": [
        {
          "output_type": "stream",
          "name": "stdout",
          "text": [
            "tu numero es 2\n"
          ]
        }
      ]
    },
    {
      "cell_type": "code",
      "source": [
        "numeros_idiom(5)"
      ],
      "metadata": {
        "colab": {
          "base_uri": "https://localhost:8080/"
        },
        "id": "oEpoEnzQ-CtQ",
        "outputId": "084ea80d-cdea-4189-c9e5-129c6035e2ff"
      },
      "execution_count": null,
      "outputs": [
        {
          "output_type": "stream",
          "name": "stdout",
          "text": [
            "5 no es una opcion\n"
          ]
        }
      ]
    },
    {
      "cell_type": "markdown",
      "source": [
        "Estructura de control selectiva anidada"
      ],
      "metadata": {
        "id": "CDpUp6ew8jt6"
      }
    },
    {
      "cell_type": "code",
      "source": [
        "def obtenerMasGrande(a, b, c):\n",
        "    if a > b:\n",
        "        if a > c:\n",
        "            return a\n",
        "        else:\n",
        "            return c\n",
        "    else:\n",
        "        if b > c:\n",
        "            return b\n",
        "        else:\n",
        "            return c\n"
      ],
      "metadata": {
        "id": "hZdQkH-b8mfy"
      },
      "execution_count": null,
      "outputs": []
    },
    {
      "cell_type": "code",
      "source": [
        "print (\"El mas grande es {}\".format(obtenerMasGrande(7,13,1) ))"
      ],
      "metadata": {
        "colab": {
          "base_uri": "https://localhost:8080/"
        },
        "id": "XqjwWTwB-G9K",
        "outputId": "94b4c06a-efdd-4f88-c9c4-bfd684eb020e"
      },
      "execution_count": null,
      "outputs": [
        {
          "output_type": "stream",
          "name": "stdout",
          "text": [
            "El mas grande es 13\n"
          ]
        }
      ]
    },
    {
      "cell_type": "markdown",
      "source": [
        "# **2. Estruturas de control repetitivas**\n",
        "# 2.1 Ciclo while\n",
        "\n",
        "\n",
        "*   Un ciclo es la manera de ejecutar una o varias acciones repetidamente. A diferencia del IF o IF-ELSE que sólo se ejecuta una vez.\n",
        "\n",
        "*   Para que el ciclo se ejecute, la condición siempre tiene que ser verdadera.\n",
        "\n",
        "\n"
      ],
      "metadata": {
        "id": "l2Yf2NDn-IBJ"
      }
    },
    {
      "cell_type": "code",
      "source": [
        "#Ejemplo 1\n",
        "def cuenta(limite):\n",
        "    i = limite\n",
        "    while True:\n",
        "        print (i)\n",
        "        i = i -1\n",
        "        if i == 0:\n",
        "            break # Rompiendo el ciclo\n"
      ],
      "metadata": {
        "id": "JbFkyu-8-WAh"
      },
      "execution_count": null,
      "outputs": []
    },
    {
      "cell_type": "code",
      "source": [
        "cuenta(10)"
      ],
      "metadata": {
        "colab": {
          "base_uri": "https://localhost:8080/"
        },
        "id": "EJj6YTle-YOx",
        "outputId": "de92585d-cabe-4dbc-9158-a7f99603e5fe"
      },
      "execution_count": null,
      "outputs": [
        {
          "output_type": "stream",
          "name": "stdout",
          "text": [
            "10\n",
            "9\n",
            "8\n",
            "7\n",
            "6\n",
            "5\n",
            "4\n",
            "3\n",
            "2\n",
            "1\n"
          ]
        }
      ]
    },
    {
      "cell_type": "code",
      "source": [
        "#Ejemplo 2\n",
        "def factorial(n):\n",
        "    i = 2\n",
        "    tmp = 1\n",
        "    while i <n+1:\n",
        "        tmp = tmp * i\n",
        "        i = i + 1\n",
        "    return tmp\n"
      ],
      "metadata": {
        "id": "5uCKr3ka-aTw"
      },
      "execution_count": null,
      "outputs": []
    },
    {
      "cell_type": "code",
      "source": [
        "print (factorial(4))\n"
      ],
      "metadata": {
        "colab": {
          "base_uri": "https://localhost:8080/"
        },
        "id": "WCXBlamZ-cUh",
        "outputId": "cd4aa088-df01-4d4c-bd3a-d584f95a0189"
      },
      "execution_count": null,
      "outputs": [
        {
          "output_type": "stream",
          "name": "stdout",
          "text": [
            "24\n"
          ]
        }
      ]
    },
    {
      "cell_type": "code",
      "source": [
        "print (factorial(6))"
      ],
      "metadata": {
        "colab": {
          "base_uri": "https://localhost:8080/"
        },
        "id": "CwwJgBPp-flh",
        "outputId": "b972fae7-05bd-4338-c154-7c35513249ee"
      },
      "execution_count": null,
      "outputs": [
        {
          "output_type": "stream",
          "name": "stdout",
          "text": [
            "720\n"
          ]
        }
      ]
    },
    {
      "cell_type": "markdown",
      "source": [
        "# 2.2 Ciclo for\n",
        "\n",
        "\n",
        "*   Este ciclo es el más común usado en Python, se utiliza generalmente para hacer iteraciones en una lista, diccionarios y arreglos.\n",
        "\n",
        "# Iteración en listas"
      ],
      "metadata": {
        "id": "o-cuJ1gI-tUA"
      }
    },
    {
      "cell_type": "code",
      "source": [
        "for x in [1,2,3,4,5]:\n",
        "    print(x)"
      ],
      "metadata": {
        "colab": {
          "base_uri": "https://localhost:8080/"
        },
        "id": "Nps2XJg2-8iB",
        "outputId": "de8ad663-a581-492f-edd0-2ecb1bbee564"
      },
      "execution_count": null,
      "outputs": [
        {
          "output_type": "stream",
          "name": "stdout",
          "text": [
            "1\n",
            "2\n",
            "3\n",
            "4\n",
            "5\n"
          ]
        }
      ]
    },
    {
      "cell_type": "code",
      "source": [
        "#La función range() sirve para generar una lista\n",
        "for x in range(5): #este caso es equivalente a range(0,5)\n",
        "    print(x)\n"
      ],
      "metadata": {
        "colab": {
          "base_uri": "https://localhost:8080/"
        },
        "id": "WwLCf1-J-_MA",
        "outputId": "b51e8c5d-4c07-4dd4-ba0b-f926629559ba"
      },
      "execution_count": null,
      "outputs": [
        {
          "output_type": "stream",
          "name": "stdout",
          "text": [
            "0\n",
            "1\n",
            "2\n",
            "3\n",
            "4\n"
          ]
        }
      ]
    },
    {
      "cell_type": "code",
      "source": [
        "#También se puede inizializar desde números negativos\n",
        "for x in range(-5,2):\n",
        "    print(x)\n"
      ],
      "metadata": {
        "colab": {
          "base_uri": "https://localhost:8080/"
        },
        "id": "WbosECGE_BCp",
        "outputId": "5851bd80-e462-4860-d7a8-43e9b85291c2"
      },
      "execution_count": null,
      "outputs": [
        {
          "output_type": "stream",
          "name": "stdout",
          "text": [
            "-5\n",
            "-4\n",
            "-3\n",
            "-2\n",
            "-1\n",
            "0\n",
            "1\n"
          ]
        }
      ]
    },
    {
      "cell_type": "code",
      "source": [
        "for num in [\"uno\", \"dos\", \"tres\", \"cuatro\"]:\n",
        "    print(num)\n"
      ],
      "metadata": {
        "colab": {
          "base_uri": "https://localhost:8080/"
        },
        "id": "DpJRz-79_C_p",
        "outputId": "8b33d54b-6569-4295-ac9c-f566669c1ad5"
      },
      "execution_count": null,
      "outputs": [
        {
          "output_type": "stream",
          "name": "stdout",
          "text": [
            "uno\n",
            "dos\n",
            "tres\n",
            "cuatro\n"
          ]
        }
      ]
    },
    {
      "cell_type": "markdown",
      "source": [
        "## Iteración en diccionarios"
      ],
      "metadata": {
        "id": "1H5XLAAs_FCZ"
      }
    },
    {
      "cell_type": "code",
      "source": [
        "#Creando un diccionario\n",
        "elementos = { 'hidrogeno': 1, 'helio': 2, 'carbon': 6 }\n",
        "\n",
        "for llave, valor in elementos.items():\n",
        "    print(llave, \" = \", valor)\n"
      ],
      "metadata": {
        "colab": {
          "base_uri": "https://localhost:8080/"
        },
        "id": "Yc3F5-lV_KgI",
        "outputId": "a411eb08-6959-45f4-d3c5-eddcf499ae1b"
      },
      "execution_count": null,
      "outputs": [
        {
          "output_type": "stream",
          "name": "stdout",
          "text": [
            "hidrogeno  =  1\n",
            "helio  =  2\n",
            "carbon  =  6\n"
          ]
        }
      ]
    },
    {
      "cell_type": "code",
      "source": [
        "#Obteniendo sólo las llaves\n",
        "for llave in elementos.keys():\n",
        "    print(llave)\n"
      ],
      "metadata": {
        "colab": {
          "base_uri": "https://localhost:8080/"
        },
        "id": "H8MZNB1m_Mih",
        "outputId": "87278180-61d0-43c8-dbea-a2242f32c74d"
      },
      "execution_count": null,
      "outputs": [
        {
          "output_type": "stream",
          "name": "stdout",
          "text": [
            "hidrogeno\n",
            "helio\n",
            "carbon\n"
          ]
        }
      ]
    },
    {
      "cell_type": "code",
      "source": [
        "#Obteniendo sólo los valores\n",
        "for valor in elementos.values():\n",
        "    print(valor)\n"
      ],
      "metadata": {
        "colab": {
          "base_uri": "https://localhost:8080/"
        },
        "id": "4TJYw1Wa_PkB",
        "outputId": "e89ba4a6-453e-4293-ec88-024d111f3d21"
      },
      "execution_count": null,
      "outputs": [
        {
          "output_type": "stream",
          "name": "stdout",
          "text": [
            "1\n",
            "2\n",
            "6\n"
          ]
        }
      ]
    },
    {
      "cell_type": "markdown",
      "source": [
        "**Idiom**: En algunos lenguajes de programación se crea un índice para iterar un conjunto de elementos (for (int i=0; i < elementos.size(); ++i)), sin embargo con Python se puede utilizar la función enumerate() en su lugar."
      ],
      "metadata": {
        "id": "rkAGFr9K_QZJ"
      }
    },
    {
      "cell_type": "code",
      "source": [
        "#Si se necesita iterar utilizando un índice\n",
        "for idx, x in enumerate(elementos):\n",
        "    print(\"El indice es: {} y el elemento: {}\".format(idx, x))\n"
      ],
      "metadata": {
        "colab": {
          "base_uri": "https://localhost:8080/"
        },
        "id": "7HlEQXo7_UEJ",
        "outputId": "bfc841bd-0364-4b35-f254-1938e04b4341"
      },
      "execution_count": null,
      "outputs": [
        {
          "output_type": "stream",
          "name": "stdout",
          "text": [
            "El indice es: 0 y el elemento: hidrogeno\n",
            "El indice es: 1 y el elemento: helio\n",
            "El indice es: 2 y el elemento: carbon\n"
          ]
        }
      ]
    },
    {
      "cell_type": "markdown",
      "source": [
        "**Idiom**: Los ciclos for pueden hacer uso del else una vez que terminan de iterar, pero no funciona si se rompe el ciclo."
      ],
      "metadata": {
        "id": "YjSZikPp_WtR"
      }
    },
    {
      "cell_type": "code",
      "source": [
        "def cuenta_idiom(limite):\n",
        "    for i in range(limite, 0, -1):\n",
        "        print(i)\n",
        "    else: #Corresponde al for, NO al IF\n",
        "        print(\"Cuenta finalizada\")\n"
      ],
      "metadata": {
        "id": "7v6nn8YD_ZiZ"
      },
      "execution_count": null,
      "outputs": []
    },
    {
      "cell_type": "code",
      "source": [
        "cuenta_idiom(5)\n"
      ],
      "metadata": {
        "colab": {
          "base_uri": "https://localhost:8080/"
        },
        "id": "lfjbAaO2_bR4",
        "outputId": "1cc3ff59-7ab6-48b2-e664-e172aa5ae146"
      },
      "execution_count": null,
      "outputs": [
        {
          "output_type": "stream",
          "name": "stdout",
          "text": [
            "5\n",
            "4\n",
            "3\n",
            "2\n",
            "1\n",
            "Cuenta finalizada\n"
          ]
        }
      ]
    },
    {
      "cell_type": "code",
      "source": [
        "#Se rompe el ciclo y la sentencia else del for no se ejecuta\n",
        "def cuenta_idiomv2(limite):\n",
        "    for i in range(limite, 0, -1):\n",
        "        print(i)\n",
        "        if i == 3:\n",
        "            break  #Se rompe el ciclo\n",
        "    else: #Corresponde al FOR, NO al IF\n",
        "        print(\"Cuenta finalizada\")\n"
      ],
      "metadata": {
        "id": "cdXMntX9_dRx"
      },
      "execution_count": null,
      "outputs": []
    },
    {
      "cell_type": "code",
      "source": [
        "cuenta_idiomv2(5)"
      ],
      "metadata": {
        "colab": {
          "base_uri": "https://localhost:8080/"
        },
        "id": "lYgRY7Ir_gNp",
        "outputId": "71c35918-0494-44b4-8b92-a8936b145ef2"
      },
      "execution_count": null,
      "outputs": [
        {
          "output_type": "stream",
          "name": "stdout",
          "text": [
            "5\n",
            "4\n",
            "3\n"
          ]
        }
      ]
    },
    {
      "cell_type": "markdown",
      "source": [
        "#3. Bibliotecas"
      ],
      "metadata": {
        "id": "AZGCMPQvFYGN"
      }
    },
    {
      "cell_type": "markdown",
      "source": [
        "Todas las funcionalidades de Python son proporcionadas a través de bibliotecas que se encuentran en la colección de The Python Standard Library, la mayoría de estas bibliotecas son multi-plataforma.\n",
        "\n",
        "Referencia del lenguaje: https://docs.python.org/3/reference/index.html\n",
        "\n",
        "Bibliotecas estandar: https://docs.python.org/3/library/"
      ],
      "metadata": {
        "id": "vB_qF9PEFjVr"
      }
    },
    {
      "cell_type": "code",
      "source": [
        "#Para utilizar una biblioteca, ésta se debe de importar\n",
        "import math\n",
        "\n",
        "x = math.cos(math.pi)\n",
        "\n",
        "print(x)\n"
      ],
      "metadata": {
        "colab": {
          "base_uri": "https://localhost:8080/"
        },
        "id": "gUhCBX3vFmRm",
        "outputId": "c6452000-b24e-4436-96fe-d0117a945209"
      },
      "execution_count": null,
      "outputs": [
        {
          "output_type": "stream",
          "name": "stdout",
          "text": [
            "-1.0\n"
          ]
        }
      ]
    },
    {
      "cell_type": "code",
      "source": [
        "#También se pueden importar todas las funciones de la bibliotecas, de esta manera no se tiene que usar el prefijo\n",
        "#de la biblioteca, que en el ejemplo anterior fue math\n",
        "from math import *\n",
        "\n",
        "x = cos(pi)  #No se utiliza el prefijo math\n",
        "\n",
        "print(x)\n"
      ],
      "metadata": {
        "colab": {
          "base_uri": "https://localhost:8080/"
        },
        "id": "PRzGOLCgFoWN",
        "outputId": "f3cd00d8-8cde-4a94-876a-19e8160c987f"
      },
      "execution_count": null,
      "outputs": [
        {
          "output_type": "stream",
          "name": "stdout",
          "text": [
            "-1.0\n"
          ]
        }
      ]
    },
    {
      "cell_type": "code",
      "source": [
        "#Otra manera es importar sólo las funciones que se necesitan\n",
        "from math import cos, pi\n",
        "\n",
        "x = cos(pi)\n",
        "\n",
        "print(x)"
      ],
      "metadata": {
        "colab": {
          "base_uri": "https://localhost:8080/"
        },
        "id": "R7beCmRMFqWz",
        "outputId": "b66cb98a-52d6-490e-8bae-b2b50d8c5fb1"
      },
      "execution_count": null,
      "outputs": [
        {
          "output_type": "stream",
          "name": "stdout",
          "text": [
            "-1.0\n"
          ]
        }
      ]
    },
    {
      "cell_type": "code",
      "source": [
        "#Una vez que la biblioteca está importada, se pueden conocer las funciones que éste contiene\n",
        "print(dir(math))\n"
      ],
      "metadata": {
        "colab": {
          "base_uri": "https://localhost:8080/"
        },
        "id": "KoWe_GnXFslL",
        "outputId": "438ea3e4-8d00-4892-8078-b967b05d897d"
      },
      "execution_count": null,
      "outputs": [
        {
          "output_type": "stream",
          "name": "stdout",
          "text": [
            "['__doc__', '__loader__', '__name__', '__package__', '__spec__', 'acos', 'acosh', 'asin', 'asinh', 'atan', 'atan2', 'atanh', 'cbrt', 'ceil', 'comb', 'copysign', 'cos', 'cosh', 'degrees', 'dist', 'e', 'erf', 'erfc', 'exp', 'exp2', 'expm1', 'fabs', 'factorial', 'floor', 'fmod', 'frexp', 'fsum', 'gamma', 'gcd', 'hypot', 'inf', 'isclose', 'isfinite', 'isinf', 'isnan', 'isqrt', 'lcm', 'ldexp', 'lgamma', 'log', 'log10', 'log1p', 'log2', 'modf', 'nan', 'nextafter', 'perm', 'pi', 'pow', 'prod', 'radians', 'remainder', 'sin', 'sinh', 'sqrt', 'tan', 'tanh', 'tau', 'trunc', 'ulp']\n"
          ]
        }
      ]
    },
    {
      "cell_type": "code",
      "source": [
        "#Para conocer cómo utilizar las funciones, se puede utilizar la función help\n",
        "help(math.log)\n"
      ],
      "metadata": {
        "colab": {
          "base_uri": "https://localhost:8080/"
        },
        "id": "QRZURbEhFubT",
        "outputId": "3198b73f-0883-4cf0-ca6f-c2e62faf2e0e"
      },
      "execution_count": null,
      "outputs": [
        {
          "output_type": "stream",
          "name": "stdout",
          "text": [
            "Help on built-in function log in module math:\n",
            "\n",
            "log(...)\n",
            "    log(x, [base=math.e])\n",
            "    Return the logarithm of x to the given base.\n",
            "    \n",
            "    If the base not specified, returns the natural logarithm (base e) of x.\n",
            "\n"
          ]
        }
      ]
    },
    {
      "cell_type": "code",
      "source": [
        "#Se puede definir un alias para llamar a las funciones que tiene la biblioteca math.\n",
        "#Esta es la forma más recomendada para importar módulos, ya que de esta manera se sabe de qué módulo proviene la función.\n",
        "import math as ma\n",
        "\n",
        "x = ma.cos(ma.pi)\n",
        "\n",
        "print(x)"
      ],
      "metadata": {
        "colab": {
          "base_uri": "https://localhost:8080/"
        },
        "id": "kJ_mNzlVFxW1",
        "outputId": "4ed475ce-6b90-4803-98df-cc627ca8cdb8"
      },
      "execution_count": null,
      "outputs": [
        {
          "output_type": "stream",
          "name": "stdout",
          "text": [
            "-1.0\n"
          ]
        }
      ]
    },
    {
      "cell_type": "markdown",
      "source": [
        "##3.1 Bibliotecas más usadas\n",
        "NumPy (Numerical Python). Es una de las bibliotecas más populares de Python, es usado para realizar operaciones con vectores o matrices de una manera eficiente. Contiene funciones de Álgebra Lineal, transformadas de Fourier, generación de números aleatorios e integración con Fortran, C y C++.\n",
        "Fuente: http://www.numpy.org/\n",
        "\n",
        "SciPy (Scientific Python). Es una biblioteca hace uso de Numpy y es utilizada para hacer operaciones más avanzadas como transformadas discretas de Fourier, Álgebra Lineal, Optimización, etc.\n",
        "Fuente: http://www.scipy.org/\n",
        "\n",
        "Matplotlib. Esta biblioteca es usada para generar una veriedad de gráficas en 2D y 3D, donde cada una de las configuraciones de la gráfica es programable. Se puede usar comando de Latex para agregar ecuaciones matemáticas a las gráficas.\n",
        "Fuente: http://matplotlib.org/\n",
        "\n",
        "Scikit Learn (Machine Learning). Ésta biblioteca está basada en los anteriores y contiene algoritmos de aprendizaje de máquina, reconocimiento de patrones y estadísticas para realizar clasificación, regresión, clustering, etc.\n",
        "Fuente: http://scikit-learn.org/\n",
        "\n",
        "Pandas (Manipulación de datos). Esta biblioteca es utilizada para manipulación de datos, contiene estructuras de datos llamadas data frames que se asemejan a las hojas de cálculo y a los cuales se le puede aplicar una gran cantidad de funciones. Fuente: http://pandas.pydata.org/\n",
        "\n",
        "ANEXO 1: En esta guía se explica de manera más detallada el uso de las bibliotecas Numpy y Matplotlib.\n",
        "\n",
        "Jupyter Notebook GitHub: [ipynb]\n",
        "\n",
        "Jupyter Notebook Visualizador: [nbviewer]"
      ],
      "metadata": {
        "id": "mv0Nu28kF0n7"
      }
    },
    {
      "cell_type": "markdown",
      "source": [
        "#4. Graficación"
      ],
      "metadata": {
        "id": "4pXO2pW88Jvq"
      }
    },
    {
      "cell_type": "markdown",
      "source": [
        "Matplotlib (http://matplotlib.org/) es una biblioteca usada para generar gráficas en 2D y 3D, donde cada una de las configuraciones de la gráfica es programable. En el siguiente ejemplo se mostrará la configuración básica de una gráfica.\n",
        "\n",
        "EL API de matplotlib se encuentra en http://matplotlib.org/api/index.html"
      ],
      "metadata": {
        "id": "cI5QzFnv8PNl"
      }
    },
    {
      "cell_type": "code",
      "source": [
        "#Esta línea se ocupa para que las gráficas que se generen queden embebidas dentro de la página\n",
        "%pylab inline"
      ],
      "metadata": {
        "colab": {
          "base_uri": "https://localhost:8080/"
        },
        "id": "PH3OGBBY8V49",
        "outputId": "f743be45-1383-4835-a7fb-0525482f7e79"
      },
      "execution_count": null,
      "outputs": [
        {
          "output_type": "stream",
          "name": "stdout",
          "text": [
            "Populating the interactive namespace from numpy and matplotlib\n"
          ]
        }
      ]
    },
    {
      "cell_type": "code",
      "source": [
        "#Importando las bibliotecas\n",
        "import matplotlib.pyplot as plt\n",
        "from mpl_toolkits.mplot3d import Axes3D"
      ],
      "metadata": {
        "id": "1J7kjDU88bNV"
      },
      "execution_count": null,
      "outputs": []
    },
    {
      "cell_type": "code",
      "source": [
        "#Datos de entrada\n",
        "x = linspace(0, 5, 20) #Generando 10 puntos entre 0 y 5\n"
      ],
      "metadata": {
        "id": "eOV6zQd-8iXv"
      },
      "execution_count": null,
      "outputs": []
    },
    {
      "cell_type": "code",
      "source": [
        "fig, ax = plt.subplots(facecolor='w', edgecolor='k')\n",
        "ax.plot(x, sin(x), marker=\"o\",color=\"r\", linestyle='None')\n",
        "\n",
        "ax.grid(True)\n",
        "ax.set_xlabel('X')  #Etiqueta del eje x\n",
        "ax.set_ylabel('Y')  #Etiqueta del eje y\n",
        "ax.grid(True)\n",
        "ax.legend([\"y = x**2\"])\n",
        "\n",
        "plt.title('Puntos')\n",
        "plt.show()\n",
        "\n",
        "fig.savefig(\"gráfica.png\") #Guardando la gráfica"
      ],
      "metadata": {
        "colab": {
          "base_uri": "https://localhost:8080/",
          "height": 472
        },
        "id": "nlVk4mPO8o2E",
        "outputId": "e86b4440-6a7b-449e-bc60-703e9feb8975"
      },
      "execution_count": null,
      "outputs": [
        {
          "output_type": "display_data",
          "data": {
            "text/plain": [
              "<Figure size 640x480 with 1 Axes>"
            ],
            "image/png": "[encoded data removed]"
          },
          "metadata": {}
        }
      ]
    },
    {
      "cell_type": "markdown",
      "source": [
        "#5.Ejecución desde ventana de comandos"
      ],
      "metadata": {
        "id": "fsy9HntHE1Ab"
      }
    },
    {
      "cell_type": "markdown",
      "source": [
        "Todos el código que se ha visto hasta el momento puede ser guardado en archivos de texto plano con la extensión .py. Para ejecutarlo desde la ventana de comandos se escribe el comando:\n",
        "\n",
        "python   nombre_archivo.py  \n",
        "Hay que recordar que para Python es sumamente importante respetar las tabulaciones."
      ],
      "metadata": {
        "id": "mLK6wp4i8yuV"
      }
    },
    {
      "cell_type": "markdown",
      "source": [
        "##5.1 Entrada de datos"
      ],
      "metadata": {
        "id": "0LqbY2nN803F"
      }
    },
    {
      "cell_type": "markdown",
      "source": [
        "Al igual que en otros lenguajes, también se puede se le puede pedir al usuario que introduzca ciertos datos de entrada cuando se ejecute un programa. Esto no se puede hacer desde la notebook, ya que los datos se introducen en las celdas que se van agregando a lo largo de la página, tal y como se ha venido manejando hast ahora. Como ejemplo se va a ejecutar el archivo lectura_datos.py desde una ventana de comandos.\n",
        "\n",
        "python   lectura_datos.py  \n",
        "Al momento de ejecutar el programa, se va a pedir al usuario que introduzca su nombre, esto se logra con el siguiente código:\n",
        "\n",
        "print (\"Hola, ¿cómo te llamas?\")     #Se pide el nombre al usuario\n",
        "nombre = input()                     #Se leen los datos introducidos por el usuario y se asiganan a la variable nombre\n",
        "print (\"Buen día {}\".format(nombre)  #Se escribe el nombre solicitado\n",
        "Después de esto se despliega un menú donde se indican las operaciones que puede realizar el usuario, una vez que indicada la operación, se solicitan los datos necesarios para ejecutarla.\n",
        "\n",
        "Opciones para el usuario\n",
        "\n",
        "print (\"---Calculadora---\")          \n",
        "\n",
        "print (\"1- Sumar\")\n",
        "\n",
        "print (\"2- Restar\")\n",
        "\n",
        "print (\"3- Multiplicar\")\n",
        "\n",
        "print (\"4- Dividir\")\n",
        "\n",
        "print (\"5- Salir\")\n",
        "\n",
        "En la siguiente línea se solicita que el usuario especifique alguna de las operaciones, a diferencia de la primera petición, la función input() ahora tiene una cadena que se le despliega al usuario. A su vez, los datos que recibe la función input() son de tipo string, por lo que se tienen que transformar a entero con la función int() para poder realizar operaciones aritméticas.\n",
        "\n",
        "op = int(input('Opcion: '))"
      ],
      "metadata": {
        "id": "t5Y8xb2TEwID"
      }
    },
    {
      "cell_type": "markdown",
      "source": [
        "#Actividades de la práctica"
      ],
      "metadata": {
        "id": "hlv2qN9_IfC0"
      }
    },
    {
      "cell_type": "markdown",
      "source": [
        "# Código 7"
      ],
      "metadata": {
        "id": "FHIbebCmhgul"
      }
    },
    {
      "cell_type": "code",
      "source": [
        "print(\"Por favor, ingresa tu edad:\")\n",
        "edad = int(input())\n",
        "\n",
        "if(6 <= edad <= 12) or (edad > 60):\n",
        "    print(\"Tienes descuento\")\n",
        "else:\n",
        "    print(\"No tienes descuento\")\n"
      ],
      "metadata": {
        "colab": {
          "base_uri": "https://localhost:8080/"
        },
        "id": "zf-z7CwYhkAD",
        "outputId": "faab286a-a1e3-43a9-8eb5-925958dc6ae6"
      },
      "execution_count": null,
      "outputs": [
        {
          "output_type": "stream",
          "name": "stdout",
          "text": [
            "Por favor, ingresa tu edad:\n",
            "34\n",
            "No tienes descuento\n"
          ]
        }
      ]
    },
    {
      "cell_type": "markdown",
      "source": [
        "# Código 8"
      ],
      "metadata": {
        "id": "UlB1vRNihzsL"
      }
    },
    {
      "cell_type": "code",
      "source": [
        "def animal_zodiaco_chino(año):\n",
        "    animales = [\"Mono\", \"Gallo\", \"Perro\", \"Cerdo\", \"Rata\", \"Buey\", \"Tigre\", \"Conejo\", \"Dragón\", \"Serpiente\", \"Caballo\", \"Cabra\"]\n",
        "    indice = año % 12\n",
        "    return animales[indice]\n",
        "\n",
        "print(\"¿En qué año naciste?\")\n",
        "entrada = input()\n",
        "año = int(entrada)\n",
        "print(f\"Tu animal en el zodiaco chino es: {animal_zodiaco_chino(año)}\")\n"
      ],
      "metadata": {
        "id": "974pGdvmh3OT",
        "outputId": "c701eabf-381f-429e-cca9-1c535d2fbe87",
        "colab": {
          "base_uri": "https://localhost:8080/"
        }
      },
      "execution_count": null,
      "outputs": [
        {
          "output_type": "stream",
          "name": "stdout",
          "text": [
            "¿En qué año naciste?\n",
            "2006\n",
            "Tu animal en el zodiaco chino es: Perro\n"
          ]
        }
      ]
    },
    {
      "cell_type": "markdown",
      "source": [
        "# Código 9"
      ],
      "metadata": {
        "id": "B3oMYxFjh6n7"
      }
    },
    {
      "cell_type": "code",
      "source": [
        "import math\n",
        "print(\"Bienvenido al programa de ecuaciones de segundo grado\")\n",
        "print(\"Ingrese el valor de a:\")\n",
        "a = float(input())\n",
        "print(\"Ingrese el valor de b:\")\n",
        "b = float(input())\n",
        "print(\"Ingrese el valor de c:\")\n",
        "c = float(input())\n",
        "discriminante = b**2 - 4*a*c\n",
        "\n",
        "if(0<=discriminante):\n",
        "    x1= (-b+math.sqrt(discriminante)) / (2*a)\n",
        "    x2= (-b-math.sqrt(discriminante)) / (2*a)\n",
        "    print(\"\\nSoluciones reales:\")\n",
        "    print(\"Valor de x1:\", x1 )\n",
        "    print(\"Valor de x2:\", x2)\n",
        "else:\n",
        "    real = -b/(2*a)\n",
        "    imag = math.sqrt(-discriminante)/(2*a)\n",
        "    print(\"\\nSoluciones complejas:\")\n",
        "    print(f\"x1 = {real:.4f} + {imag:.4f}i\")\n",
        "    print(f\"x2 = {real:.4f} - {imag:.4f}i\")\n"
      ],
      "metadata": {
        "colab": {
          "base_uri": "https://localhost:8080/"
        },
        "id": "i3wmxJRdh8s7",
        "outputId": "f5cfde57-d4ed-4763-e84f-0f371867abca"
      },
      "execution_count": null,
      "outputs": [
        {
          "output_type": "stream",
          "name": "stdout",
          "text": [
            "Bienvenido al programa de ecuaciones de segundo grado\n",
            "Ingrese el valor de a:\n",
            "2\n",
            "Ingrese el valor de b:\n",
            "3\n",
            "Ingrese el valor de c:\n",
            "1\n",
            "\n",
            "Soluciones reales:\n",
            "Valor de x1: -0.5\n",
            "Valor de x2: -1.0\n"
          ]
        }
      ]
    },
    {
      "cell_type": "markdown",
      "source": [
        "# Código 10"
      ],
      "metadata": {
        "id": "7LWbftOjiGc0"
      }
    },
    {
      "cell_type": "code",
      "source": [
        "print(\"ingrese un numero\")\n",
        "cantidad = int(input())\n",
        "\n",
        "# Inicializar contador\n",
        "contador = 1\n",
        "\n",
        "# Generar la lista de números con 'a'\n",
        "print(\"\\nLinea de asteriscos:\")\n",
        "while contador <= cantidad:\n",
        "    print(\"*\")\n",
        "    contador += 1\n"
      ],
      "metadata": {
        "colab": {
          "base_uri": "https://localhost:8080/"
        },
        "id": "yBb5YbKdiJiU",
        "outputId": "fea023fb-d1bc-46fb-e201-b5374c355008"
      },
      "execution_count": null,
      "outputs": [
        {
          "output_type": "stream",
          "name": "stdout",
          "text": [
            "ingrese un numero\n",
            "7\n",
            "\n",
            "Linea de asteriscos:\n",
            "*\n",
            "*\n",
            "*\n",
            "*\n",
            "*\n",
            "*\n",
            "*\n"
          ]
        }
      ]
    },
    {
      "cell_type": "markdown",
      "source": [
        "# Código 11"
      ],
      "metadata": {
        "id": "VqfOok1ViO6z"
      }
    },
    {
      "cell_type": "code",
      "source": [
        "print(\"ingrese un numero\")\n",
        "cantidad = int(input())\n",
        "\n",
        "# Inicializar contador\n",
        "contador = 1\n",
        "\n",
        "print(\"\\nCuadrado de asteriscos:\")\n",
        "while contador <= cantidad:\n",
        "    print(\"*\"*cantidad)\n",
        "    contador += 1\n"
      ],
      "metadata": {
        "colab": {
          "base_uri": "https://localhost:8080/"
        },
        "id": "q_fSw5lWiSJz",
        "outputId": "771fac66-13df-4f78-ecc7-fabd650a246d"
      },
      "execution_count": null,
      "outputs": [
        {
          "output_type": "stream",
          "name": "stdout",
          "text": [
            "ingrese un numero\n",
            "4\n",
            "\n",
            "Cuadrado de asteriscos:\n",
            "****\n",
            "****\n",
            "****\n",
            "****\n"
          ]
        }
      ]
    },
    {
      "cell_type": "markdown",
      "source": [
        "# Código 12"
      ],
      "metadata": {
        "id": "KQda3kzWiWKz"
      }
    },
    {
      "cell_type": "code",
      "source": [
        "print(\"ingrese un numero\")\n",
        "cantidad = int(input())\n",
        "\n",
        "# Inicializar contador\n",
        "\n",
        "print(\"\\nTriangulo de asteriscos:\")\n",
        "while cantidad>=1:\n",
        "    print(\"*\"*cantidad)\n",
        "    cantidad -= 1\n"
      ],
      "metadata": {
        "colab": {
          "base_uri": "https://localhost:8080/"
        },
        "id": "0VDWVAPwiYpz",
        "outputId": "b3b6a6c2-e268-444a-e567-8c4c2287e134"
      },
      "execution_count": null,
      "outputs": [
        {
          "output_type": "stream",
          "name": "stdout",
          "text": [
            "ingrese un numero\n",
            "5\n",
            "\n",
            "Triangulo de asteriscos:\n",
            "*****\n",
            "****\n",
            "***\n",
            "**\n",
            "*\n"
          ]
        }
      ]
    },
    {
      "cell_type": "markdown",
      "source": [
        "# Código 13"
      ],
      "metadata": {
        "id": "4Y9ANRV6vz61"
      }
    },
    {
      "cell_type": "code",
      "source": [
        "def  tamaño_tri(limite):\n",
        "\n",
        "     n=0\n",
        "\n",
        "     while n<=limite:\n",
        "\n",
        "        n+=1\n",
        "\n",
        "        print ('*'*n)\n",
        "\n",
        "print ('--PROGRAMA PARA ENCONTRAR EL CUBO DE UN NUMERO--')\n",
        "\n",
        "x= int(input('Dame un numero\\t'))\n",
        "\n",
        "tamaño_tri(x)\n",
        "\n"
      ],
      "metadata": {
        "colab": {
          "base_uri": "https://localhost:8080/"
        },
        "id": "s7GIb0M8v38g",
        "outputId": "b8c9fb45-07ef-41a5-8140-cf7731a428b7"
      },
      "execution_count": null,
      "outputs": [
        {
          "output_type": "stream",
          "name": "stdout",
          "text": [
            "--PROGRAMA PARA ENCONTRAR EL CUBO DE UN NUMERO--\n",
            "Dame un numero\t5\n",
            "*\n",
            "**\n",
            "***\n",
            "****\n",
            "*****\n",
            "******\n"
          ]
        }
      ]
    },
    {
      "cell_type": "markdown",
      "source": [
        "# Código 14\n"
      ],
      "metadata": {
        "id": "4hZdTgIxwI_4"
      }
    },
    {
      "cell_type": "code",
      "source": [
        "print ('---PROGRAMA DE UNA LINEA DE ASTERISCOS---')\n",
        "longuitud=int(input('Dame la longuitud de la linea\\t'))\n",
        "for x in ['*']:\n",
        "   print (x*longuitud)"
      ],
      "metadata": {
        "colab": {
          "base_uri": "https://localhost:8080/"
        },
        "id": "XcDDCIZ_wNoR",
        "outputId": "73ad8d00-da89-4b7a-86fa-279ae6eecb2c"
      },
      "execution_count": null,
      "outputs": [
        {
          "output_type": "stream",
          "name": "stdout",
          "text": [
            "---PROGRAMA DE UNA LINEA DE ASTERISCOS---\n",
            "Dame la longuitud de la linea\t12\n",
            "************\n"
          ]
        }
      ]
    },
    {
      "cell_type": "markdown",
      "source": [
        "# Código 15"
      ],
      "metadata": {
        "id": "XTaUr0nA1S2_"
      }
    },
    {
      "cell_type": "code",
      "source": [
        "print ('---PROGRAMA DE UN CUADRADO---')\n",
        "longuitud=int(input('Dame el tamaño del cuadrado\\t'))\n",
        "for x in ['*\\t'*longuitud]:\n",
        "    print (x)\n",
        "    i=0\n",
        "    while i<longuitud-1:\n",
        "     print (x)\n",
        "     i+=1\n",
        "\n"
      ],
      "metadata": {
        "colab": {
          "base_uri": "https://localhost:8080/"
        },
        "id": "1eDU94Yz1Txe",
        "outputId": "378fc8a6-fc74-4015-b89b-044255720bfb"
      },
      "execution_count": null,
      "outputs": [
        {
          "output_type": "stream",
          "name": "stdout",
          "text": [
            "---PROGRAMA DE UN CUADRADO---\n",
            "Dame el tamaño del cuadrado\t9\n",
            "*\t*\t*\t*\t*\t*\t*\t*\t*\t\n",
            "*\t*\t*\t*\t*\t*\t*\t*\t*\t\n",
            "*\t*\t*\t*\t*\t*\t*\t*\t*\t\n",
            "*\t*\t*\t*\t*\t*\t*\t*\t*\t\n",
            "*\t*\t*\t*\t*\t*\t*\t*\t*\t\n",
            "*\t*\t*\t*\t*\t*\t*\t*\t*\t\n",
            "*\t*\t*\t*\t*\t*\t*\t*\t*\t\n",
            "*\t*\t*\t*\t*\t*\t*\t*\t*\t\n",
            "*\t*\t*\t*\t*\t*\t*\t*\t*\t\n"
          ]
        }
      ]
    },
    {
      "cell_type": "markdown",
      "source": [
        "# Código 16"
      ],
      "metadata": {
        "id": "K8IDXSJM6U_L"
      }
    },
    {
      "cell_type": "code",
      "source": [
        "print ('---PROGRAMA DE UN TRIANGULO DE ASTERISCOS---')\n",
        "nivel = int(input(\"Ingresa la altura del triángulo: \"))\n",
        "for i in range(1, nivel + 1):\n",
        "    print('*' * i)"
      ],
      "metadata": {
        "colab": {
          "base_uri": "https://localhost:8080/"
        },
        "id": "-DRz0jjN6WIj",
        "outputId": "69af8f54-c34c-4a96-da6a-69827d235aa6"
      },
      "execution_count": null,
      "outputs": [
        {
          "output_type": "stream",
          "name": "stdout",
          "text": [
            "---PROGRAMA DE UN TRIANGULO DE ASTERISCOS---\n",
            "Ingresa la altura del triángulo: 7\n",
            "*\n",
            "**\n",
            "***\n",
            "****\n",
            "*****\n",
            "******\n",
            "*******\n"
          ]
        }
      ]
    },
    {
      "cell_type": "markdown",
      "source": [
        "# Código 17\n"
      ],
      "metadata": {
        "id": "mAWt-0zi62nn"
      }
    },
    {
      "cell_type": "code",
      "source": [
        "l"
      ],
      "metadata": {
        "colab": {
          "base_uri": "https://localhost:8080/",
          "height": 141
        },
        "id": "9XwWrI08683L",
        "outputId": "41219cfa-4b7a-497b-bf60-c7ab528a27f3"
      },
      "execution_count": null,
      "outputs": [
        {
          "output_type": "error",
          "ename": "NameError",
          "evalue": "name 'l' is not defined",
          "traceback": [
            "\u001b[0;31m---------------------------------------------------------------------------\u001b[0m",
            "\u001b[0;31mNameError\u001b[0m                                 Traceback (most recent call last)",
            "\u001b[0;32m<ipython-input-7-cde25b5e10ad>\u001b[0m in \u001b[0;36m<cell line: 0>\u001b[0;34m()\u001b[0m\n\u001b[0;32m----> 1\u001b[0;31m \u001b[0ml\u001b[0m\u001b[0;34m\u001b[0m\u001b[0;34m\u001b[0m\u001b[0m\n\u001b[0m",
            "\u001b[0;31mNameError\u001b[0m: name 'l' is not defined"
          ]
        }
      ]
    },
    {
      "cell_type": "markdown",
      "source": [
        "# Código 18"
      ],
      "metadata": {
        "id": "Y-JkRZa54da7"
      }
    },
    {
      "cell_type": "code",
      "source": [
        "\n",
        "terminos = int(input(\"¿Cuántos términos de la serie de Fibonacci deseas? (máx hasta valor 2000): \"))\n",
        "\n",
        "a, b = 0, 1\n",
        "\n",
        "print(\"--PROGRAMA DE LA SERIE DE FIBONACHI--:\")\n",
        "\n",
        "for i in range(terminos):\n",
        "    if a > 2000:\n",
        "        break\n",
        "    print(a)\n",
        "    a, b = b, a + b\n"
      ],
      "metadata": {
        "colab": {
          "base_uri": "https://localhost:8080/"
        },
        "id": "x3ESTemD4ikO",
        "outputId": "5c36a773-f3de-460f-b07a-75146a2dca8b"
      },
      "execution_count": null,
      "outputs": [
        {
          "output_type": "stream",
          "name": "stdout",
          "text": [
            "¿Cuántos términos de la serie de Fibonacci deseas? (máx hasta valor 2000): 8\n",
            "--PROGRAMA DE LA SERIE DE FIBONACHI--:\n",
            "0\n",
            "1\n",
            "1\n",
            "2\n",
            "3\n",
            "5\n",
            "8\n",
            "13\n"
          ]
        }
      ]
    },
    {
      "cell_type": "markdown",
      "source": [
        "#Código 19\n"
      ],
      "metadata": {
        "id": "0r6mR8DqtoId"
      }
    },
    {
      "cell_type": "code",
      "source": [
        "def cubo(numero):\n",
        "    return numero ** 3\n",
        "\n",
        "\n",
        "num = float(input(\"Ingresa un número: \"))\n",
        "\n",
        "\n",
        "resultado = cubo(num)\n",
        "print(f\"El cubo de {num} es {resultado}\")"
      ],
      "metadata": {
        "colab": {
          "base_uri": "https://localhost:8080/"
        },
        "id": "1MSZhen2ts0R",
        "outputId": "4574a2a6-4bbc-45e2-8a35-325a17173f5b"
      },
      "execution_count": null,
      "outputs": [
        {
          "output_type": "stream",
          "name": "stdout",
          "text": [
            "Ingresa un número: 2\n",
            "El cubo de 2.0 es 8.0\n"
          ]
        }
      ]
    },
    {
      "cell_type": "markdown",
      "source": [
        "#Código 20"
      ],
      "metadata": {
        "id": "uzPTcA9NuJnn"
      }
    },
    {
      "cell_type": "code",
      "source": [
        "def menor(a, b):\n",
        "    if a < b:\n",
        "        return a\n",
        "    elif b < a:\n",
        "        return b\n",
        "    else:\n",
        "        return None  # Son iguales\n",
        "num1 = float(input(\"Ingresa el primer número: \"))\n",
        "num2 = float(input(\"Ingresa el segundo número: \"))\n",
        "resultado = menor(num1, num2)\n",
        "if resultado is None:\n",
        "    print(\"Ambos números son iguales.\")\n",
        "else:\n",
        "    print(f\"El número menor es: {resultado}\")"
      ],
      "metadata": {
        "colab": {
          "base_uri": "https://localhost:8080/"
        },
        "id": "5Ryz4_8yuMPp",
        "outputId": "b95c412a-b7fe-4c81-fe9f-b3d2a9eb24ca"
      },
      "execution_count": null,
      "outputs": [
        {
          "output_type": "stream",
          "name": "stdout",
          "text": [
            "Ingresa el primer número: 10\n",
            "Ingresa el segundo número: 12\n",
            "El número menor es: 10.0\n"
          ]
        }
      ]
    },
    {
      "cell_type": "markdown",
      "source": [
        "#Código 21"
      ],
      "metadata": {
        "id": "v56h-z9iylhK"
      }
    },
    {
      "cell_type": "code",
      "source": [
        "def absoluto(n):\n",
        "    if n < 0:\n",
        "        return -n\n",
        "    else:\n",
        "        return n\n",
        "numero = float(input(\"Ingresa un número: \"))\n",
        "resultado = absoluto(numero)\n",
        "print(f\"El valor absoluto de {numero} es: {resultado}\")"
      ],
      "metadata": {
        "colab": {
          "base_uri": "https://localhost:8080/"
        },
        "id": "DzBgWU_tyneO",
        "outputId": "81d7c646-c6a1-44d2-f840-4e8456234862"
      },
      "execution_count": null,
      "outputs": [
        {
          "output_type": "stream",
          "name": "stdout",
          "text": [
            "Ingresa un número: -4\n",
            "El valor absoluto de -4.0 es: 4.0\n"
          ]
        }
      ]
    },
    {
      "cell_type": "markdown",
      "source": [
        "#Código 22"
      ],
      "metadata": {
        "id": "f7D8hA1-ys3O"
      }
    },
    {
      "cell_type": "code",
      "source": [
        "def fib2(a=0, b=1, n=1000):\n",
        "    result = []\n",
        "    while a < n:\n",
        "        result.append(a)\n",
        "        a, b = b, a + b\n",
        "    return result\n",
        "print(\"Fibonacci con valores por defecto (a=0, b=1, n=1000):\")\n",
        "print(fib2())\n",
        "print(\"\\nFibonacci con a=5, b=8, n=100:\")\n",
        "print(fib2(5, 8, 100))\n",
        "print(\"\\nFibonacci con a=2, b=3, n=50:\")\n",
        "print(fib2(2, 3, 50))\n",
        "print(\"\\nFibonacci con a=1, b=1, n=30:\")\n",
        "print(fib2(1, 1, 30))"
      ],
      "metadata": {
        "colab": {
          "base_uri": "https://localhost:8080/"
        },
        "id": "evthEcu_yvuo",
        "outputId": "32fd4665-9e36-46f3-92d9-61f4f61ab513"
      },
      "execution_count": null,
      "outputs": [
        {
          "output_type": "stream",
          "name": "stdout",
          "text": [
            "Fibonacci con valores por defecto (a=0, b=1, n=1000):\n",
            "[0, 1, 1, 2, 3, 5, 8, 13, 21, 34, 55, 89, 144, 233, 377, 610, 987]\n",
            "\n",
            "Fibonacci con a=5, b=8, n=100:\n",
            "[5, 8, 13, 21, 34, 55, 89]\n",
            "\n",
            "Fibonacci con a=2, b=3, n=50:\n",
            "[2, 3, 5, 8, 13, 21, 34]\n",
            "\n",
            "Fibonacci con a=1, b=1, n=30:\n",
            "[1, 1, 2, 3, 5, 8, 13, 21]\n"
          ]
        }
      ]
    },
    {
      "cell_type": "markdown",
      "source": [
        "#Código 23"
      ],
      "metadata": {
        "id": "MMYBoVIFy3A-"
      }
    },
    {
      "cell_type": "code",
      "source": [
        "frutas = ['naranja', 'manzana', 'pera', 'banana', 'kiwi', 'manzana', 'banana']\n",
        "print(\"Cantidad de 'manzana':\", frutas.count('manzana'))\n",
        "print(\"Cantidad de 'mandarina':\", frutas.count('mandarina'))\n",
        "print(\"Índice de la primera 'banana':\", frutas.index('banana'))\n",
        "print(\"Índice de 'banana' a partir del índice 4:\", frutas.index('banana', 4))\n",
        "frutas.reverse()\n",
        "print(\"Lista invertida:\", frutas)\n",
        "frutas.append('uva')\n",
        "print(\"Lista con 'uva' agregada:\", frutas)\n",
        "frutas.sort()\n",
        "print(\"Lista ordenada:\", frutas)\n",
        "ultima_fruta = frutas.pop()\n",
        "print(\"Fruta eliminada con pop():\", ultima_fruta)\n",
        "print(\"Lista final:\", frutas)"
      ],
      "metadata": {
        "colab": {
          "base_uri": "https://localhost:8080/"
        },
        "id": "waO5Bk9Sy7-f",
        "outputId": "07f3ec25-1fd0-4a61-f271-61d0e2dba8ad"
      },
      "execution_count": null,
      "outputs": [
        {
          "output_type": "stream",
          "name": "stdout",
          "text": [
            "Cantidad de 'manzana': 2\n",
            "Cantidad de 'mandarina': 0\n",
            "Índice de la primera 'banana': 3\n",
            "Índice de 'banana' a partir del índice 4: 6\n",
            "Lista invertida: ['banana', 'manzana', 'kiwi', 'banana', 'pera', 'manzana', 'naranja']\n",
            "Lista con 'uva' agregada: ['banana', 'manzana', 'kiwi', 'banana', 'pera', 'manzana', 'naranja', 'uva']\n",
            "Lista ordenada: ['banana', 'banana', 'kiwi', 'manzana', 'manzana', 'naranja', 'pera', 'uva']\n",
            "Fruta eliminada con pop(): uva\n",
            "Lista final: ['banana', 'banana', 'kiwi', 'manzana', 'manzana', 'naranja', 'pera']\n"
          ]
        }
      ]
    },
    {
      "cell_type": "markdown",
      "source": [
        "#Código 24"
      ],
      "metadata": {
        "id": "pD1AdP65zFW-"
      }
    },
    {
      "cell_type": "code",
      "source": [
        "a = 1\n",
        "pila = []\n",
        "MAX_TAM = 5  # Tamaño máximo de la pila\n",
        "while a != 3:\n",
        "    print('MENU\\n 1 Insertar elemento\\n 2 Eliminar elemento\\n 3 Salir')\n",
        "    a = int(input('Dame una opción: '))\n",
        "    if a == 1:\n",
        "        if len(pila) >= MAX_TAM:\n",
        "            print(\"¡La pila está llena! No se puede agregar más elementos.\")\n",
        "        else:\n",
        "            letra = input('Dame una letra: ')\n",
        "            pila.append(letra)\n",
        "            print('Se agregó la letra:', letra)\n",
        "            print('PILA:\\n', pila)\n",
        "    elif a == 2:\n",
        "        if not pila:\n",
        "            print(\"¡La pila está vacía! No hay elementos para eliminar.\")\n",
        "        else:\n",
        "            eliminado = pila.pop()\n",
        "            print('Se eliminó la letra:', eliminado)\n",
        "            print('PILA:\\n', pila)\n",
        "    elif a == 3:\n",
        "        print(\"Programa terminado\")\n",
        "    else:\n",
        "        print(\"Opción no válida. Intenta de nuevo.\")"
      ],
      "metadata": {
        "id": "O5IyR3DSzHhP",
        "colab": {
          "base_uri": "https://localhost:8080/"
        },
        "outputId": "8dc7b639-ea17-462b-8856-9f8eaddaa804"
      },
      "execution_count": null,
      "outputs": [
        {
          "output_type": "stream",
          "name": "stdout",
          "text": [
            "MENU\n",
            " 1 Insertar elemento\n",
            " 2 Eliminar elemento\n",
            " 3 Salir\n",
            "Dame una opción: 2\n",
            "¡La pila está vacía! No hay elementos para eliminar.\n",
            "MENU\n",
            " 1 Insertar elemento\n",
            " 2 Eliminar elemento\n",
            " 3 Salir\n",
            "Dame una opción: 1\n",
            "Dame una letra: H\n",
            "Se agregó la letra: H\n",
            "PILA:\n",
            " ['H']\n",
            "MENU\n",
            " 1 Insertar elemento\n",
            " 2 Eliminar elemento\n",
            " 3 Salir\n",
            "Dame una opción: 1\n",
            "Dame una letra: O\n",
            "Se agregó la letra: O\n",
            "PILA:\n",
            " ['H', 'O']\n",
            "MENU\n",
            " 1 Insertar elemento\n",
            " 2 Eliminar elemento\n",
            " 3 Salir\n",
            "Dame una opción: 1\n",
            "Dame una letra: L\n",
            "Se agregó la letra: L\n",
            "PILA:\n",
            " ['H', 'O', 'L']\n",
            "MENU\n",
            " 1 Insertar elemento\n",
            " 2 Eliminar elemento\n",
            " 3 Salir\n",
            "Dame una opción: 1\n",
            "Dame una letra: A\n",
            "Se agregó la letra: A\n",
            "PILA:\n",
            " ['H', 'O', 'L', 'A']\n",
            "MENU\n",
            " 1 Insertar elemento\n",
            " 2 Eliminar elemento\n",
            " 3 Salir\n",
            "Dame una opción: 1\n",
            "Dame una letra: A\n",
            "Se agregó la letra: A\n",
            "PILA:\n",
            " ['H', 'O', 'L', 'A', 'A']\n",
            "MENU\n",
            " 1 Insertar elemento\n",
            " 2 Eliminar elemento\n",
            " 3 Salir\n",
            "Dame una opción: 1\n",
            "¡La pila está llena! No se puede agregar más elementos.\n",
            "MENU\n",
            " 1 Insertar elemento\n",
            " 2 Eliminar elemento\n",
            " 3 Salir\n",
            "Dame una opción: 3\n",
            "Saliendo del programa...\n"
          ]
        }
      ]
    },
    {
      "cell_type": "markdown",
      "source": [
        "#**Conclusiones**"
      ],
      "metadata": {
        "id": "rUDxx-ESG7gx"
      }
    },
    {
      "cell_type": "markdown",
      "source": [
        "Antonio Garcia Braulio Gerardo\n",
        "\n",
        "La Práctica 10 ofrece un recorrido fundamental y práctico por las estructuras de control en Python, destacando su uso en la toma de decisiones (if, if-else, if-elif-else) y la repetición de instrucciones (while, for). Además, introduce importantes idioms o patrones de uso comunes que optimizan y simplifican el código, promoviendo una escritura más legible y eficiente. Se exploran también herramientas clave como el uso de bibliotecas estándar y externas (como NumPy, Matplotlib o Pandas), esenciales para el desarrollo científico, gráfico y de análisis de datos.\n",
        "\n",
        "Finalmente, se muestra cómo interactuar con el usuario mediante entradas por consola y cómo ejecutar programas desde la línea de comandos, permitiendo una visión más integral del flujo de trabajo con Python. En conjunto, esta práctica sienta una base sólida para desarrollar programas funcionales, dinámicos y orientados a resolver problemas reales."
      ],
      "metadata": {
        "id": "z3iipGD1HFjT"
      }
    },
    {
      "cell_type": "markdown",
      "source": [
        "Mendoza Torres Marco Antonio\n",
        "\n",
        "La conclusión que tengo, los objetivos se lograron. Ya que mediante esta práctica observamos la practicidad e importancia de la múltiples bibliotecas que usa Python; la sintaxis y uso de los ciclos iterativos,los cuales se escriben de manera muy distinta a como lo habíamos hecho en C.\n",
        "\n",
        "También aumentamos nuestra práctica y nuestros conocimientos al realizar varios ejercicios que de forma implícita requeria el uso de uno o varios ciclos iterativos"
      ],
      "metadata": {
        "id": "FL0WGNwfJw-8"
      }
    },
    {
      "cell_type": "markdown",
      "source": [
        "Zarate Mendoza Luis Alejandro\n",
        "\n",
        "\n",
        "Concluyo que la elaboración de la práctica cumplió con los objetivos planteados al inicio de la misma, trasladando los diversos conocimientos anteriormente adquiridos en el lenguaje de programación C al lenguaje Python, no solo utilizando las estructuras de control selectivas y repetitivas, también observando u aplicando las distintas ventajas que el lenguaje Python nos ofrece a través del uso de sus distintas librerías (como la elaboración de gráficas).\n",
        "\n",
        " Considero que esta práctica fue relevante en nuestro avance como ingenieros, pues con ella es posible observar que trasladar conocimientos anteriormente obtenidos a nuevos lenguajes de programación es más fácil que aprender un lenguaje desde el principio, dándonos así la confianza de poder desarrollar nuestras habilidades en la elaboración y ejecución de distintos programas a través del uso de nuestro razonamiento lógico, sin importar el lenguaje de programación que manejemos."
      ],
      "metadata": {
        "id": "2g30iA0fG_a6"
      }
    }
  ]
}