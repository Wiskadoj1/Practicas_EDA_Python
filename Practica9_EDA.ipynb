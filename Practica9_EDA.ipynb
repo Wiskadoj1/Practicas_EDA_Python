{
  "nbformat": 4,
  "nbformat_minor": 0,
  "metadata": {
    "colab": {
      "provenance": [],
      "include_colab_link": true
    },
    "kernelspec": {
      "name": "python3",
      "display_name": "Python 3"
    },
    "language_info": {
      "name": "python"
    }
  },
  "cells": [
    {
      "cell_type": "markdown",
      "metadata": {
        "id": "view-in-github",
        "colab_type": "text"
      },
      "source": [
        "<a href=\"https://colab.research.google.com/github/Wiskadoj1/Practicas_EDA_Python/blob/main/Practica9_EDA.ipynb\" target=\"_parent\"><img src=\"https://colab.research.google.com/assets/colab-badge.svg\" alt=\"Open In Colab\"/></a>"
      ]
    },
    {
      "cell_type": "code",
      "source": [],
      "metadata": {
        "id": "2ypG4XqLeEMu"
      },
      "execution_count": null,
      "outputs": []
    },
    {
      "cell_type": "markdown",
      "source": [
        "# **Libreta**"
      ],
      "metadata": {
        "id": "JiJbL_VRvYpG"
      }
    },
    {
      "cell_type": "markdown",
      "source": [
        "Laboratorio de Computación\n",
        "\n",
        "\n",
        "\n",
        "Profesor(a):\n",
        " José Olivas Díaz\n",
        "\n",
        "Asignatura:\n",
        "  Estructura de datos y algoritmos\n",
        "\n",
        "Grupo:\n",
        " 11\n",
        "\n",
        "No de Práctica(s):\n",
        " 9\n",
        "\n",
        "Integrante(s):\n",
        "\n",
        " Antonio García Braulio Gerardo\n",
        "\n",
        "Mendoza Torres Marco Antonio\n",
        "\n",
        " Zarate Mendoza Luis Alejandro\n",
        "\n",
        "No. de brigada:\n",
        "  12\n",
        "\n",
        "Semestre:\n",
        " 2025-2\n",
        "\n",
        "Fecha de entrega:\n",
        "  28 de abril de 2025\n",
        "  \n",
        "Observaciones:\n",
        "\n",
        "\n",
        "\n",
        "\n",
        "\n",
        "\n",
        "CALIFICACIÓN: ________________\n"
      ],
      "metadata": {
        "id": "5yDR7ugyaUO6"
      }
    },
    {
      "cell_type": "markdown",
      "source": [
        "# 1. Variables y tipos"
      ],
      "metadata": {
        "id": "umqwi8nqvdtV"
      }
    },
    {
      "cell_type": "markdown",
      "source": [
        "\n",
        "\n",
        "*   Los nombres de las variables son alfanuméricos (a-z, A-Z, 0-9) y empiezan con una letra en minúscula.\n",
        "*   No se especifica el tipo de valor que una varible contiene, está implícito al momento de asignar un valor.\n",
        "*   No se necesita poner ; al final de cada instrucción.\n",
        "*   Mantener las indentaciones al momento de escribir código.\n",
        "\n",
        "Nombres reservados en Python: and, as, assert, break, class, continue, def, del, elif, else, except, exec, finally, for, from, global, if, import, in, is, lambda, not, or, pass, print, raise, return, try, while, with, yield\n",
        "\n",
        "\n",
        "\n"
      ],
      "metadata": {
        "id": "rRHWamlnvqSB"
      }
    },
    {
      "cell_type": "code",
      "source": [
        "#Inicializando variables\n",
        "x = 10     #variable de tipo entero\n",
        "print(x)   #función para imprimir los valores de las variables\n",
        "\n",
        "#Se puede utilizar comillas dobles o simples para crear una cadena\n",
        "cadena = \"Hola Mundo\"    #varible de tipo cadena\n",
        "print(cadena)"
      ],
      "metadata": {
        "colab": {
          "base_uri": "https://localhost:8080/"
        },
        "id": "eG5z0sqKw9Vu",
        "outputId": "cd6a91c6-8091-4d9f-8288-f1e8e8141ec2"
      },
      "execution_count": null,
      "outputs": [
        {
          "output_type": "stream",
          "name": "stdout",
          "text": [
            "10\n",
            "Hola Mundo\n"
          ]
        }
      ]
    },
    {
      "cell_type": "code",
      "source": [
        "#Asigna un mismo valor a tres variables\n",
        "x = y = z = 10\n",
        "print(x,y,z)"
      ],
      "metadata": {
        "colab": {
          "base_uri": "https://localhost:8080/"
        },
        "id": "_WNh1QS8xXQt",
        "outputId": "c26e0a35-c61c-492b-e66a-0b8b3ac6fe62"
      },
      "execution_count": null,
      "outputs": [
        {
          "output_type": "stream",
          "name": "stdout",
          "text": [
            "10 10 10\n"
          ]
        }
      ]
    },
    {
      "cell_type": "code",
      "source": [
        "#La función type() permite conocer el tipo de una variable\n",
        "type(x)"
      ],
      "metadata": {
        "colab": {
          "base_uri": "https://localhost:8080/"
        },
        "id": "hm4uYUOixY_F",
        "outputId": "af3a6a5e-de21-431e-95a3-c4ccad30f850"
      },
      "execution_count": null,
      "outputs": [
        {
          "output_type": "execute_result",
          "data": {
            "text/plain": [
              "int"
            ]
          },
          "metadata": {},
          "execution_count": 6
        }
      ]
    },
    {
      "cell_type": "code",
      "source": [
        "type(cadena)"
      ],
      "metadata": {
        "colab": {
          "base_uri": "https://localhost:8080/"
        },
        "id": "wrt3l6Kdxdyt",
        "outputId": "9f8c5151-358a-4950-9cf7-001dbaa5996b"
      },
      "execution_count": null,
      "outputs": [
        {
          "output_type": "execute_result",
          "data": {
            "text/plain": [
              "str"
            ]
          },
          "metadata": {},
          "execution_count": 7
        }
      ]
    },
    {
      "cell_type": "code",
      "source": [
        "#Se pueden cambiar los valores de las variables y el tipo se cambia automáticamente\n",
        "x = \"Hola Mundo\"\n",
        "cadena = 10"
      ],
      "metadata": {
        "id": "iOrb6pmHxvLN"
      },
      "execution_count": null,
      "outputs": []
    },
    {
      "cell_type": "code",
      "source": [
        "type(x)"
      ],
      "metadata": {
        "colab": {
          "base_uri": "https://localhost:8080/"
        },
        "id": "hXZpWIcixxet",
        "outputId": "4e115714-d473-4a43-ab26-30b8eb89a164"
      },
      "execution_count": null,
      "outputs": [
        {
          "output_type": "execute_result",
          "data": {
            "text/plain": [
              "str"
            ]
          },
          "metadata": {},
          "execution_count": 12
        }
      ]
    },
    {
      "cell_type": "code",
      "source": [
        "type(cadena)"
      ],
      "metadata": {
        "colab": {
          "base_uri": "https://localhost:8080/"
        },
        "id": "odEJbALPx5yd",
        "outputId": "c33ba309-2250-4b2d-d14b-debd94e7a1cf"
      },
      "execution_count": null,
      "outputs": [
        {
          "output_type": "execute_result",
          "data": {
            "text/plain": [
              "int"
            ]
          },
          "metadata": {},
          "execution_count": 13
        }
      ]
    },
    {
      "cell_type": "markdown",
      "source": [
        "Idiom: Cuando una variable tiene un valor constante, por convención, el nombre se escribe en mayúsculas."
      ],
      "metadata": {
        "id": "PlPV5C70yB6d"
      }
    },
    {
      "cell_type": "code",
      "source": [
        "SEGUNDOS_POR_DIA = 60 * 60 * 24\n",
        "PI = 3.14"
      ],
      "metadata": {
        "id": "pmMFkonMyEv-"
      },
      "execution_count": null,
      "outputs": []
    },
    {
      "cell_type": "markdown",
      "source": [
        "# 2. Cadenas"
      ],
      "metadata": {
        "id": "SORAzdyyyKsd"
      }
    },
    {
      "cell_type": "markdown",
      "source": [
        "Las cadenas pueden ser definidas usando comilla simple (') o comilla doble (\"). Una característica especial de las cadenas es que son inmutables, esto quiere decir que no se pueden cambiar los caracteres que contiene. El caracter \\ sirve para escapar carcteres como \\n o \\t."
      ],
      "metadata": {
        "id": "ls-o0dKQyWld"
      }
    },
    {
      "cell_type": "code",
      "source": [
        "#Inicializando cadenas\n",
        "cadena1 = 'Hola '\n",
        "cadena2 = \"Mundo\"\n",
        "print(cadena1)\n",
        "print(cadena2)\n",
        "concat_cadenas = cadena1 + cadena2 #Concatenación de cadenas\n",
        "print(concat_cadenas)"
      ],
      "metadata": {
        "colab": {
          "base_uri": "https://localhost:8080/"
        },
        "id": "wEsTuJIjyZa9",
        "outputId": "638bc802-322a-4ca3-e207-96a1e462f528"
      },
      "execution_count": null,
      "outputs": [
        {
          "output_type": "stream",
          "name": "stdout",
          "text": [
            "Hola \n",
            "Mundo\n",
            "Hola Mundo\n"
          ]
        }
      ]
    },
    {
      "cell_type": "code",
      "source": [
        "#Para concatenar un número y una cadena se debe usar la función str()\n",
        "num_cadena = concat_cadenas +' '+ str(3)  #Se agrega una cadena vacía para agregar un espacio\n",
        "print(num_cadena)"
      ],
      "metadata": {
        "colab": {
          "base_uri": "https://localhost:8080/"
        },
        "id": "bVZA76sFyb2N",
        "outputId": "b89c5a28-5e4f-496a-b0ef-810a2fa2ca16"
      },
      "execution_count": null,
      "outputs": [
        {
          "output_type": "stream",
          "name": "stdout",
          "text": [
            "Hola Mundo 3\n"
          ]
        }
      ]
    },
    {
      "cell_type": "markdown",
      "source": [
        "Idiom: Para concatenar cadenas se recomienda el uso de la función format(), en lugar del viejo estilo del operador '+'."
      ],
      "metadata": {
        "id": "-rXvqjMAygp9"
      }
    },
    {
      "cell_type": "code",
      "source": [
        "#El valor de la variable se va a imprimir en el lugar donde se encuentre {} en la cadena\n",
        "num_cadena = \"{} {} {}\".format(cadena1, cadena2, 3)\n",
        "print(num_cadena)"
      ],
      "metadata": {
        "colab": {
          "base_uri": "https://localhost:8080/"
        },
        "id": "P6lQz4hGykAt",
        "outputId": "b7e7ef1d-81da-4067-da47-b044537acfca"
      },
      "execution_count": null,
      "outputs": [
        {
          "output_type": "stream",
          "name": "stdout",
          "text": [
            "Hola  Mundo 3\n"
          ]
        }
      ]
    },
    {
      "cell_type": "markdown",
      "source": [
        "Por medio de esta función, se puede cambiar el orden en que se imprimen las variables"
      ],
      "metadata": {
        "id": "66GE73k6yosd"
      }
    },
    {
      "cell_type": "code",
      "source": [
        "#Cuando se agrega un númmero dentro de {#}, el valor la variable que se encuentra en esa posicón\n",
        "#dentro de la función format(), será impreso.\n",
        "num_cadena = \"Cambiando el orden:  {1}  {2}  {0} #\".format(cadena1, cadena2, 3)\n",
        "print(num_cadena)"
      ],
      "metadata": {
        "colab": {
          "base_uri": "https://localhost:8080/"
        },
        "id": "E_tIjSv_yrHe",
        "outputId": "c324c590-7286-4e4f-f47d-60ebb30b2426"
      },
      "execution_count": null,
      "outputs": [
        {
          "output_type": "stream",
          "name": "stdout",
          "text": [
            "Cambiando el orden:  Mundo  3  Hola  #\n"
          ]
        }
      ]
    },
    {
      "cell_type": "markdown",
      "source": [
        "Las funciones integradas en Python para trabajar con cadenas se encuentran en el siguiente link https://docs.python.org/3/library/stdtypes.html#string-methods."
      ],
      "metadata": {
        "id": "KsVKy65Gy2ON"
      }
    },
    {
      "cell_type": "markdown",
      "source": [
        "# 3. Operadores"
      ],
      "metadata": {
        "id": "kWMQUXabzGD0"
      }
    },
    {
      "cell_type": "markdown",
      "source": [
        "**Aritméticos**: +, -, *, /"
      ],
      "metadata": {
        "id": "t1MQoA7rzMzu"
      }
    },
    {
      "cell_type": "code",
      "source": [
        "#Para el exponente se  puede utilizar asterisco\n",
        "print( 1 + 5 )\n",
        "print( 6 * 3 )\n",
        "print( 10 - 4 )\n",
        "print( 100 / 50 )\n",
        "print( 10 % 2 )\n",
        "print( ((20 * 3) + (10 +1)) / 10 )\n",
        "print( 2**2 )"
      ],
      "metadata": {
        "colab": {
          "base_uri": "https://localhost:8080/"
        },
        "id": "IHVGEa8Tzckt",
        "outputId": "44ed6b43-f635-4634-f80b-63ec9a7e9665"
      },
      "execution_count": null,
      "outputs": [
        {
          "output_type": "stream",
          "name": "stdout",
          "text": [
            "6\n",
            "18\n",
            "6\n",
            "2.0\n",
            "0\n",
            "7.1\n",
            "4\n"
          ]
        }
      ]
    },
    {
      "cell_type": "markdown",
      "source": [
        "**Booleanos**: and, not, or"
      ],
      "metadata": {
        "id": "Vm7-mP1Qzhol"
      }
    },
    {
      "cell_type": "code",
      "source": [
        "False and True"
      ],
      "metadata": {
        "colab": {
          "base_uri": "https://localhost:8080/"
        },
        "id": "kFW7KX14zlU0",
        "outputId": "9d3d54af-9235-45b6-d67b-acc4ebcc57af"
      },
      "execution_count": null,
      "outputs": [
        {
          "output_type": "execute_result",
          "data": {
            "text/plain": [
              "False"
            ]
          },
          "metadata": {},
          "execution_count": 19
        }
      ]
    },
    {
      "cell_type": "markdown",
      "source": [
        "**Comparación**: >, <, >=, <=, =="
      ],
      "metadata": {
        "id": "CTjyk5EGzrI9"
      }
    },
    {
      "cell_type": "code",
      "source": [
        "print (7 < 5)  #Falso\n",
        "\n",
        "print (7 > 5) #Verdadero\n",
        "\n",
        "print ((11 * 3)+2 == 36 - 1)  #Verdadero\n",
        "\n",
        "print ((11 * 3)+2 >= 36)   #Falso\n",
        "\n",
        "print (\"curso\" != \"CuRsO\") #Verdadero"
      ],
      "metadata": {
        "colab": {
          "base_uri": "https://localhost:8080/"
        },
        "id": "cGKJ1DhEzur8",
        "outputId": "e5e4d402-0e19-4134-aa58-0813ded2881a"
      },
      "execution_count": null,
      "outputs": [
        {
          "output_type": "stream",
          "name": "stdout",
          "text": [
            "False\n",
            "True\n",
            "True\n",
            "False\n",
            "True\n"
          ]
        }
      ]
    },
    {
      "cell_type": "markdown",
      "source": [
        "# 4. Listas\n"
      ],
      "metadata": {
        "id": "gat063-o0Bl1"
      }
    },
    {
      "cell_type": "markdown",
      "source": [
        "\n",
        "*   Básicamente son valores que están separados por comas dentro de paréntesis cuadrados.\n",
        "*   Está compuesta por cualquier cantidad y/o tipo de datos, ya sean cadenas, caracteres, números e inclusive otras listas.\n",
        "*   Se puede acceder a las listas por medio de índices, estos índices comienzan desde 0 hasta el número de elementos menos 1.\n",
        "*   Las listas son mutables.\n",
        "\n"
      ],
      "metadata": {
        "id": "kZ5kUJjr0GME"
      }
    },
    {
      "cell_type": "code",
      "source": [
        "#Declaracion de una lista simple\n",
        "lista_diasDelMes=[31,28,31,30,31,30,31,31,30,31,30,31]\n",
        "\n",
        "print (lista_diasDelMes)       #imprimir la lista completa\n",
        "print (lista_diasDelMes[0])   #imprimir elemento 1\n",
        "print (lista_diasDelMes[6])   #imprimir elemento 7\n",
        "print (lista_diasDelMes[11])  #imprimir elemento 12"
      ],
      "metadata": {
        "colab": {
          "base_uri": "https://localhost:8080/"
        },
        "id": "owrHg7W60X99",
        "outputId": "68f3de62-fc0d-412f-9bcf-e53129f5a708"
      },
      "execution_count": null,
      "outputs": [
        {
          "output_type": "stream",
          "name": "stdout",
          "text": [
            "[31, 28, 31, 30, 31, 30, 31, 31, 30, 31, 30, 31]\n",
            "31\n",
            "31\n",
            "31\n"
          ]
        }
      ]
    },
    {
      "cell_type": "code",
      "source": [
        "#Declaracion de listas anidadas\n",
        "\n",
        "lista_numeros=[['cero', 0],['uno',1, 'UNO'], ['dos',2], ['tres', 3], ['cuatro',4], ['X',5]]\n",
        "\n",
        "print (lista_numeros)      #imprimir lista completa\n",
        "\n",
        "print (lista_numeros[0])    #imprime el elemento 0 de la lista\n",
        "print (lista_numeros[1])    #imprime el elemento 1 de la lista\n",
        "\n",
        "print (lista_numeros[2][0]) #imprime el primer elemento de la lista en la posicion 2\n",
        "print (lista_numeros[2][1]) #imprime el segundo elemento de la lista en la posicion 2\n",
        "\n",
        "print (lista_numeros[1][0])\n",
        "print (lista_numeros[1][1])\n",
        "print (lista_numeros[1][2])"
      ],
      "metadata": {
        "colab": {
          "base_uri": "https://localhost:8080/"
        },
        "id": "bv6OzTQW0Z9N",
        "outputId": "cd4bd64e-4c19-4afa-9d5e-ed14dff0a7d9"
      },
      "execution_count": null,
      "outputs": [
        {
          "output_type": "stream",
          "name": "stdout",
          "text": [
            "[['cero', 0], ['uno', 1, 'UNO'], ['dos', 2], ['tres', 3], ['cuatro', 4], ['X', 5]]\n",
            "['cero', 0]\n",
            "['uno', 1, 'UNO']\n",
            "dos\n",
            "2\n",
            "uno\n",
            "1\n",
            "UNO\n"
          ]
        }
      ]
    },
    {
      "cell_type": "code",
      "source": [
        "#Cambiando el valor de uno de los elementos de la lista\n",
        "\n",
        "lista_numeros[5][0] = \"cinco\"\n",
        "print (lista_numeros[5])"
      ],
      "metadata": {
        "colab": {
          "base_uri": "https://localhost:8080/"
        },
        "id": "o9ARBPx90elt",
        "outputId": "2ff6e3f4-125f-4d00-85b4-ab2bc188339d"
      },
      "execution_count": null,
      "outputs": [
        {
          "output_type": "stream",
          "name": "stdout",
          "text": [
            "['cinco', 5]\n"
          ]
        }
      ]
    },
    {
      "cell_type": "markdown",
      "source": [
        "#5. Tuplas"
      ],
      "metadata": {
        "id": "TWG44O3a0ip9"
      }
    },
    {
      "cell_type": "markdown",
      "source": [
        "\n",
        "\n",
        "*   Son pareceidas a las listas, valores separados por una coma.\n",
        "*   Comparadas con las listas, las tuplas no son mutables.\n",
        "*  Se pueden aplicar las mismas operaciones que en as listas y su ventaja es que consumen menos memoria para almacenarse.\n",
        "*   Se crean, ya sea utilizando paréntesis o simplemente separando los valores por comas.\n",
        "\n"
      ],
      "metadata": {
        "id": "gSeZzJ9-0xCg"
      }
    },
    {
      "cell_type": "code",
      "source": [
        "#Declaracion de una tupla\n",
        "tupla_diasDelMes=(31,28,31,30,31,30,31,31,30,31,30,31)\n",
        "\n",
        "print (tupla_diasDelMes)       #imprimir la tupla completa\n",
        "print (tupla_diasDelMes[0])    #imprimir elemento 1\n",
        "print (tupla_diasDelMes[3])    #imprimir elemento 4\n",
        "print (tupla_diasDelMes[1])   #imprimir elemento 2"
      ],
      "metadata": {
        "colab": {
          "base_uri": "https://localhost:8080/"
        },
        "id": "0bdUlu8d1DNU",
        "outputId": "f1650d22-096e-4b79-eb7f-16f426877d6b"
      },
      "execution_count": null,
      "outputs": [
        {
          "output_type": "stream",
          "name": "stdout",
          "text": [
            "(31, 28, 31, 30, 31, 30, 31, 31, 30, 31, 30, 31)\n",
            "31\n",
            "30\n",
            "28\n"
          ]
        }
      ]
    },
    {
      "cell_type": "code",
      "source": [
        "#Declaracion de tuplas anidadas\n",
        "\n",
        "tupla_numeros=(('cero', 0),('uno',1, 'UNO'), ('dos',2), ('tres', 3), ('cuatro',4), ('X',5))\n",
        "\n",
        "print (tupla_numeros)        #imprimir tupla completa\n",
        "\n",
        "print (tupla_numeros[0])     #imprime el elemento 0 de la tupla\n",
        "print (tupla_numeros[1])     #imprime el elemento 1 de la tupla\n",
        "\n",
        "print (tupla_numeros[2][0])  #imprime el primer elemento de la tupla en la posicion 2\n",
        "print (tupla_numeros[2][1])  #imprime el segundo elemento de la tupla en la posicion 2\n",
        "\n",
        "print (tupla_numeros[1][0])\n",
        "print (tupla_numeros[1][1])\n",
        "print (tupla_numeros[1][2])"
      ],
      "metadata": {
        "colab": {
          "base_uri": "https://localhost:8080/"
        },
        "id": "5IoRtKpS1DHd",
        "outputId": "31e20ddf-8f12-4b71-83d5-2193a0d2db19"
      },
      "execution_count": null,
      "outputs": [
        {
          "output_type": "stream",
          "name": "stdout",
          "text": [
            "(('cero', 0), ('uno', 1, 'UNO'), ('dos', 2), ('tres', 3), ('cuatro', 4), ('X', 5))\n",
            "('cero', 0)\n",
            "('uno', 1, 'UNO')\n",
            "dos\n",
            "2\n",
            "uno\n",
            "1\n",
            "UNO\n"
          ]
        }
      ]
    },
    {
      "cell_type": "code",
      "source": [
        "#Probando la mutabilidad de las listas vs la no mutabilidad de las tuplas\n",
        "print(\"valor actual {}\".format(lista_diasDelMes[0]))\n",
        "lista_diasDelMes[0] = 50\n",
        "print(\"valor cambiado {}\".format(lista_diasDelMes[0]))\n",
        "tupla_diasDelMes[0] = 50   #Esta asignación manda un error, ya que no se pueden cambiar los valores de las tuplas"
      ],
      "metadata": {
        "colab": {
          "base_uri": "https://localhost:8080/",
          "height": 211
        },
        "id": "MDKR4hhD1C_-",
        "outputId": "e5216826-c822-4c31-ca70-ded200e66765"
      },
      "execution_count": null,
      "outputs": [
        {
          "output_type": "stream",
          "name": "stdout",
          "text": [
            "valor actual 31\n",
            "valor cambiado 50\n"
          ]
        },
        {
          "output_type": "error",
          "ename": "TypeError",
          "evalue": "'tuple' object does not support item assignment",
          "traceback": [
            "\u001b[0;31m---------------------------------------------------------------------------\u001b[0m",
            "\u001b[0;31mTypeError\u001b[0m                                 Traceback (most recent call last)",
            "\u001b[0;32m<ipython-input-26-9709ba0ea40a>\u001b[0m in \u001b[0;36m<cell line: 0>\u001b[0;34m()\u001b[0m\n\u001b[1;32m      3\u001b[0m \u001b[0mlista_diasDelMes\u001b[0m\u001b[0;34m[\u001b[0m\u001b[0;36m0\u001b[0m\u001b[0;34m]\u001b[0m \u001b[0;34m=\u001b[0m \u001b[0;36m50\u001b[0m\u001b[0;34m\u001b[0m\u001b[0;34m\u001b[0m\u001b[0m\n\u001b[1;32m      4\u001b[0m \u001b[0mprint\u001b[0m\u001b[0;34m(\u001b[0m\u001b[0;34m\"valor cambiado {}\"\u001b[0m\u001b[0;34m.\u001b[0m\u001b[0mformat\u001b[0m\u001b[0;34m(\u001b[0m\u001b[0mlista_diasDelMes\u001b[0m\u001b[0;34m[\u001b[0m\u001b[0;36m0\u001b[0m\u001b[0;34m]\u001b[0m\u001b[0;34m)\u001b[0m\u001b[0;34m)\u001b[0m\u001b[0;34m\u001b[0m\u001b[0;34m\u001b[0m\u001b[0m\n\u001b[0;32m----> 5\u001b[0;31m \u001b[0mtupla_diasDelMes\u001b[0m\u001b[0;34m[\u001b[0m\u001b[0;36m0\u001b[0m\u001b[0;34m]\u001b[0m \u001b[0;34m=\u001b[0m \u001b[0;36m50\u001b[0m   \u001b[0;31m#Esta asignación manda un error, ya que no se pueden cambiar los valores de las tuplas\u001b[0m\u001b[0;34m\u001b[0m\u001b[0;34m\u001b[0m\u001b[0m\n\u001b[0m",
            "\u001b[0;31mTypeError\u001b[0m: 'tuple' object does not support item assignment"
          ]
        }
      ]
    },
    {
      "cell_type": "markdown",
      "source": [
        "# 6. Tupla con nombre"
      ],
      "metadata": {
        "id": "HR1iKr0h1VPN"
      }
    },
    {
      "cell_type": "markdown",
      "source": [
        "En comparación con las tuplas anteriores, este tipo especial de tuplas permite especificar un nombre para describirla."
      ],
      "metadata": {
        "id": "0jkVlOEM1bot"
      }
    },
    {
      "cell_type": "code",
      "source": [
        "#Se debe importar la librería para hacer uso de namedtuple\n",
        "from collections import namedtuple\n",
        "\n",
        "#Se crea la tupla con nombre\n",
        "#El primer argumento es el nombre de la tupla, mientras que el segundo argumento son los campos\n",
        "#p es la referencia a la tupla\n",
        "planeta = namedtuple('planeta', ['nombre', 'numero'])\n",
        "\n",
        "#Se crea el planeta 1 y se agregan a la tupla los valores correspondientes a los campos\n",
        "planeta1 = planeta('Mercurio', 1)\n",
        "print(planeta1)\n",
        "\n",
        "#Se crea el planeta 2\n",
        "planeta2 = planeta('Venus', 2)\n",
        "\n",
        "#Se imprimen los valores de los campos\n",
        "#Usando la referencia se llama a cada uno de sus campos\n",
        "print(planeta1.nombre, planeta1.numero)\n",
        "#Se obtienen los valores por el orden de los campos\n",
        "print(planeta2[0], planeta2[1])\n",
        "\n",
        "print('Campos de la tupla: {}'.format(planeta1._fields))"
      ],
      "metadata": {
        "colab": {
          "base_uri": "https://localhost:8080/"
        },
        "id": "KsCQJ3p41d0M",
        "outputId": "e684f4c9-026a-42b7-c341-016b8cd16d2b"
      },
      "execution_count": null,
      "outputs": [
        {
          "output_type": "stream",
          "name": "stdout",
          "text": [
            "planeta(nombre='Mercurio', numero=1)\n",
            "Mercurio 1\n",
            "Venus 2\n",
            "Campos de la tupla: ('nombre', 'numero')\n"
          ]
        }
      ]
    },
    {
      "cell_type": "code",
      "source": [
        "#Al igual que las tuplas, éstas no son mutables, si se trata de cambiar el contenido, se genera un error\n",
        "planeta1.nombre = 'Tierra'"
      ],
      "metadata": {
        "id": "KT3JUDDV1iU9"
      },
      "execution_count": null,
      "outputs": []
    },
    {
      "cell_type": "markdown",
      "source": [
        "#7. Diccionarios"
      ],
      "metadata": {
        "id": "x_J9RqfNbq6o"
      }
    },
    {
      "cell_type": "markdown",
      "source": [
        "\n",
        "\n",
        "*   Un diccionario se crea usando { } y consta de dos partes: llave y valor.\n",
        "\n",
        "\n",
        "*   Las llaves son inmutables, deben de tener un solo tipo de dato, una cadena o número.\n",
        "* Una vez que es creado, no se puede cambiar su tipo.\n",
        "*   Mientras que el valor puede ser de cualquier tipo y se puede cambiar con el tiempo.\n",
        "*   Los elemntos en un diccionario no están ordenados.\n",
        "\n",
        "\n"
      ],
      "metadata": {
        "id": "vInVm5jAcD9N"
      }
    },
    {
      "cell_type": "code",
      "source": [
        "#Creando un diccionario\n",
        "elementos = { 'hidrogeno': 1, 'helio': 2, 'carbon': 6 }\n",
        "\n",
        "#EL momento de la impresion, pueden aparecer en diferente orden del introducido\n",
        "print (elementos)\n",
        "\n",
        "print (elementos['hidrogeno'])"
      ],
      "metadata": {
        "colab": {
          "base_uri": "https://localhost:8080/"
        },
        "id": "WqBneKdub_8-",
        "outputId": "a35e79cb-420a-484b-c578-4c07a7d315f8"
      },
      "execution_count": null,
      "outputs": [
        {
          "output_type": "stream",
          "name": "stdout",
          "text": [
            "{'hidrogeno': 1, 'helio': 2, 'carbon': 6}\n",
            "1\n"
          ]
        }
      ]
    },
    {
      "cell_type": "code",
      "source": [
        "#Se pueen agregar elementos al diccionario\n",
        "elementos['litio'] = 3\n",
        "elementos['nitrogeno'] = 8\n",
        "\n",
        "print (elementos)  #Imprimiendo todos los elementos, nótese que los elementos no están ordenados"
      ],
      "metadata": {
        "colab": {
          "base_uri": "https://localhost:8080/"
        },
        "id": "mLU446YCcpqF",
        "outputId": "86c543be-6542-4ffe-ffba-bbf158d0be1f"
      },
      "execution_count": null,
      "outputs": [
        {
          "output_type": "stream",
          "name": "stdout",
          "text": [
            "{'hidrogeno': 1, 'helio': 2, 'carbon': 6, 'litio': 3, 'nitrogeno': 8}\n"
          ]
        }
      ]
    },
    {
      "cell_type": "code",
      "source": [
        "#Creando un nuevo diccionario\n",
        "elementos2 = {}\n",
        "elementos2['H'] = {'name': 'Hydrogen', 'number': 1, 'weight': 1.00794}\n",
        "elementos2['He'] = {'name': 'Helium', 'number': 2, 'weight': 4.002602}\n",
        "\n",
        "print (elementos2)"
      ],
      "metadata": {
        "colab": {
          "base_uri": "https://localhost:8080/"
        },
        "id": "cZf9dgTOcs1m",
        "outputId": "3d52a144-5f32-4d6b-f85d-8d3f82418119"
      },
      "execution_count": null,
      "outputs": [
        {
          "output_type": "stream",
          "name": "stdout",
          "text": [
            "{'H': {'name': 'Hydrogen', 'number': 1, 'weight': 1.00794}, 'He': {'name': 'Helium', 'number': 2, 'weight': 4.002602}}\n"
          ]
        }
      ]
    },
    {
      "cell_type": "code",
      "source": [
        "#Imprimiendo los datos de un elemento del diccionario\n",
        "print (elementos2['H'])\n",
        "print (elementos2['H']['name'])\n",
        "print (elementos2['H']['number'])\n",
        "elementos2['H']['weight'] =  4.30  #Cambiando el valor de un elemento\n",
        "print (elementos2['H']['weight'])"
      ],
      "metadata": {
        "colab": {
          "base_uri": "https://localhost:8080/"
        },
        "id": "FakD3WSbcxht",
        "outputId": "4c70b8cb-4c63-4916-eec9-f632a1d1a614"
      },
      "execution_count": null,
      "outputs": [
        {
          "output_type": "stream",
          "name": "stdout",
          "text": [
            "{'name': 'Hydrogen', 'number': 1, 'weight': 1.00794}\n",
            "Hydrogen\n",
            "1\n",
            "4.3\n"
          ]
        }
      ]
    },
    {
      "cell_type": "code",
      "source": [
        "#Agregando elementos a una llave\n",
        "elementos2['H'].update({'gas noble':True})\n",
        "print (elementos2['H'])\n"
      ],
      "metadata": {
        "colab": {
          "base_uri": "https://localhost:8080/"
        },
        "id": "nwhKEHTacy92",
        "outputId": "f3ff3756-2ce2-4fcc-a9f0-43631bd59fc8"
      },
      "execution_count": null,
      "outputs": [
        {
          "output_type": "stream",
          "name": "stdout",
          "text": [
            "{'name': 'Hydrogen', 'number': 1, 'weight': 4.3, 'gas noble': True}\n"
          ]
        }
      ]
    },
    {
      "cell_type": "code",
      "source": [
        "#Muestra todos los elementos del diccionario\n",
        "print (elementos2.items())\n",
        "\n",
        "#Muestra todas las llaves del diccionario\n",
        "print (elementos2.keys())"
      ],
      "metadata": {
        "colab": {
          "base_uri": "https://localhost:8080/"
        },
        "id": "5U4qn62cc1cf",
        "outputId": "159b48d4-83af-403b-f4d4-266c2a3f15f4"
      },
      "execution_count": null,
      "outputs": [
        {
          "output_type": "stream",
          "name": "stdout",
          "text": [
            "dict_items([('H', {'name': 'Hydrogen', 'number': 1, 'weight': 4.3, 'gas noble': True}), ('He', {'name': 'Helium', 'number': 2, 'weight': 4.002602})])\n",
            "dict_keys(['H', 'He'])\n"
          ]
        }
      ]
    },
    {
      "cell_type": "markdown",
      "source": [
        "#8. Funciones"
      ],
      "metadata": {
        "id": "5cRQmNXBdAu2"
      }
    },
    {
      "cell_type": "markdown",
      "source": [
        "\n",
        "\n",
        "*   Una función o procedimiento sirve para empaquetar código que sirve para ser reutilizado.\n",
        "*   Se puede usar ese mismo código con diferentes entradas y obtener resultados o comportamiento de acuerdo con esos datos.\n",
        "\n"
      ],
      "metadata": {
        "id": "qYYy7itCdG_F"
      }
    },
    {
      "cell_type": "code",
      "source": [
        "#Las funciones pueden recibir n número de parámetros, no se necesita indicar el tipo\n",
        "def imprime_nombre(nombre):\n",
        "    print(\"hola \"+nombre)  #Las cadenas se pueden concatenar con el +\n",
        "    #Llamada a la función\n",
        "imprime_nombre(\"JJ\")"
      ],
      "metadata": {
        "colab": {
          "base_uri": "https://localhost:8080/"
        },
        "id": "DIpJspVkdNoG",
        "outputId": "a9daf468-25e4-4159-c907-f57f8b8a89f8"
      },
      "execution_count": null,
      "outputs": [
        {
          "output_type": "stream",
          "name": "stdout",
          "text": [
            "hola JJ\n"
          ]
        }
      ]
    },
    {
      "cell_type": "code",
      "source": [
        "#Definiendo una función que regresa el cuadrado de un número\n",
        "def cuadrado(x):\n",
        "    return x**2\n",
        "x = 5\n",
        "#La función format() sirve para convertir los parámetros que recibe, en cadenas; éstos valores son reemplazadas\n",
        "#por las llaves de la cadena.\n",
        "print(\"El cuadrado de {} es {}\".format(x, cuadrado(x)))\n",
        "#La función cuadrado() regresa un valor"
      ],
      "metadata": {
        "colab": {
          "base_uri": "https://localhost:8080/"
        },
        "id": "BStuDb1HdUyl",
        "outputId": "959241ff-4ba2-4b3b-e11c-36d7f1d8833f"
      },
      "execution_count": null,
      "outputs": [
        {
          "output_type": "stream",
          "name": "stdout",
          "text": [
            "El cuadrado de 5 es 25\n"
          ]
        }
      ]
    },
    {
      "cell_type": "code",
      "source": [
        "#Definiendo una función que regrese más de un valor\n",
        "def varios(x):\n",
        "    return x**2, x**3, x**4\n",
        "#Los valores que regresa la función pueden ser guardado en variables separadas por ,\n",
        "val1, val2, val3 = varios(2)\n",
        "print(\"{} {} {}\".format(val1, val2, val3))"
      ],
      "metadata": {
        "colab": {
          "base_uri": "https://localhost:8080/"
        },
        "id": "bA5e1Npgd5PO",
        "outputId": "21e7d862-ceb6-4b0b-a2c7-c5a9e3d098fa"
      },
      "execution_count": null,
      "outputs": [
        {
          "output_type": "stream",
          "name": "stdout",
          "text": [
            "4 8 16\n"
          ]
        }
      ]
    },
    {
      "cell_type": "code",
      "source": [
        "#Función con un parámetro con un valor por defecto\n",
        "def cuadrado_default(x=3):\n",
        "    return x**2\n",
        "#Como la función tiene un valor por defailt, si se manda llamar la función sin especificar el parámetro, se toma el que\n",
        "#tiene por defecto\n",
        "cuadrado_default()"
      ],
      "metadata": {
        "colab": {
          "base_uri": "https://localhost:8080/"
        },
        "id": "FFSXoPE3eEXd",
        "outputId": "060ca6ad-728e-4b4a-ef46-18c3db8ee1f1"
      },
      "execution_count": null,
      "outputs": [
        {
          "output_type": "execute_result",
          "data": {
            "text/plain": [
              "9"
            ]
          },
          "metadata": {},
          "execution_count": 12
        }
      ]
    },
    {
      "cell_type": "markdown",
      "source": [
        "**Idiom:** Cuando una función regresa más de una función, se puede usar el operado '_', para no guardar un valor no deseado.\n",
        "\n"
      ],
      "metadata": {
        "id": "B_c32e7veJMF"
      }
    },
    {
      "cell_type": "code",
      "source": [
        "#La función regresa tres, valores, pero sólo nos interesa el primero y el tercero\n",
        "val4, _, val5 = varios(2)\n",
        "print(\"{} {}\".format(val4, val5))"
      ],
      "metadata": {
        "colab": {
          "base_uri": "https://localhost:8080/"
        },
        "id": "mim0rYLKeNAe",
        "outputId": "438ecc6e-fc94-48e1-a2ff-05dbce9681ba"
      },
      "execution_count": null,
      "outputs": [
        {
          "output_type": "stream",
          "name": "stdout",
          "text": [
            "4 16\n"
          ]
        }
      ]
    },
    {
      "cell_type": "markdown",
      "source": [
        "###8.1 Variables Globales\n"
      ],
      "metadata": {
        "id": "9DCNDSSJeZRF"
      }
    },
    {
      "cell_type": "markdown",
      "source": [
        "Podemos decir que el ambiente de ejecución es donde se efectúan las de operaciones que componen un programa. Al momento de ejecutar un programa se crea un espacio de nombres para las variables. Hay dos tipos se espacio de nombres, el primero es el espacio global y el segundo el espacio local. Las variables que se declaren afuera de las funciones pertenecen as espacio global y no se necesita añadir un modificador para declararlas de esta manera. Por otro lado, todas las variables que se definen dentro de una función pertenecen al espacio local, estas variables sólo pueden ser reconocidas y usadas dentro de la propia función."
      ],
      "metadata": {
        "id": "_njP40EieiHK"
      }
    },
    {
      "cell_type": "code",
      "source": [
        "#Se crea una variable en el espacio global de nombres\n",
        "vg = 'Global'\n",
        "#Se crea una función que imprime la variable global\n",
        "def funcion_v1():\n",
        "    print(vg)\n",
        "#Llamada a la función que imprime la variable global\n",
        "funcion_v1()\n",
        "\n",
        "#Imprime la variable global\n",
        "print(vg)"
      ],
      "metadata": {
        "colab": {
          "base_uri": "https://localhost:8080/"
        },
        "id": "UVc-vFk0eoUG",
        "outputId": "68c2fa6c-afaf-4924-fd53-39a9ccefb424"
      },
      "execution_count": null,
      "outputs": [
        {
          "output_type": "stream",
          "name": "stdout",
          "text": [
            "Global\n",
            "Global\n"
          ]
        }
      ]
    },
    {
      "cell_type": "code",
      "source": [
        "#Se crea una variable local que tiene el mismo nombre que la variable global\n",
        "def funcion_v2():\n",
        "    vg = \"Local\"\n",
        "    print(vg)\n",
        "#Llamada a la función\n",
        "funcion_v2()  #Imprime valor local\n",
        "\n",
        "#Imprime la variable global\n",
        "print(vg)"
      ],
      "metadata": {
        "colab": {
          "base_uri": "https://localhost:8080/"
        },
        "id": "qDfcQ-16eq0l",
        "outputId": "1570f082-051e-427d-e8ef-93e6d0edca96"
      },
      "execution_count": null,
      "outputs": [
        {
          "output_type": "stream",
          "name": "stdout",
          "text": [
            "Local\n",
            "Global\n"
          ]
        }
      ]
    },
    {
      "cell_type": "code",
      "source": [
        "#Se trata de imprimir el valor de la variable global, a diferencia de la función_v1(), se creó en el\n",
        "#espacio local de la funcion_v3() una variable con el mismo nombre, por lo que se reemplaza la variable\n",
        "#global\n",
        "def funcion_v3():\n",
        "    print(vg)\n",
        "    vg = \"Local\"\n",
        "    print(vg)\n",
        "#Como se tiene una variable local y no se le ha asignado un valor, se genera un error\n",
        "funcion_v3()"
      ],
      "metadata": {
        "colab": {
          "base_uri": "https://localhost:8080/",
          "height": 297
        },
        "id": "xFwZG8_SetrR",
        "outputId": "e47c34b4-070c-4dc4-b5d9-8d0cb5525129"
      },
      "execution_count": null,
      "outputs": [
        {
          "output_type": "error",
          "ename": "UnboundLocalError",
          "evalue": "cannot access local variable 'vg' where it is not associated with a value",
          "traceback": [
            "\u001b[0;31m---------------------------------------------------------------------------\u001b[0m",
            "\u001b[0;31mUnboundLocalError\u001b[0m                         Traceback (most recent call last)",
            "\u001b[0;32m<ipython-input-16-abb362617159>\u001b[0m in \u001b[0;36m<cell line: 0>\u001b[0;34m()\u001b[0m\n\u001b[1;32m      7\u001b[0m     \u001b[0mprint\u001b[0m\u001b[0;34m(\u001b[0m\u001b[0mvg\u001b[0m\u001b[0;34m)\u001b[0m\u001b[0;34m\u001b[0m\u001b[0;34m\u001b[0m\u001b[0m\n\u001b[1;32m      8\u001b[0m \u001b[0;31m#Como se tiene una variable local y no se le ha asignado un valor, se genera un error\u001b[0m\u001b[0;34m\u001b[0m\u001b[0;34m\u001b[0m\u001b[0m\n\u001b[0;32m----> 9\u001b[0;31m \u001b[0mfuncion_v3\u001b[0m\u001b[0;34m(\u001b[0m\u001b[0;34m)\u001b[0m\u001b[0;34m\u001b[0m\u001b[0;34m\u001b[0m\u001b[0m\n\u001b[0m",
            "\u001b[0;32m<ipython-input-16-abb362617159>\u001b[0m in \u001b[0;36mfuncion_v3\u001b[0;34m()\u001b[0m\n\u001b[1;32m      3\u001b[0m \u001b[0;31m#global\u001b[0m\u001b[0;34m\u001b[0m\u001b[0;34m\u001b[0m\u001b[0m\n\u001b[1;32m      4\u001b[0m \u001b[0;32mdef\u001b[0m \u001b[0mfuncion_v3\u001b[0m\u001b[0;34m(\u001b[0m\u001b[0;34m)\u001b[0m\u001b[0;34m:\u001b[0m\u001b[0;34m\u001b[0m\u001b[0;34m\u001b[0m\u001b[0m\n\u001b[0;32m----> 5\u001b[0;31m     \u001b[0mprint\u001b[0m\u001b[0;34m(\u001b[0m\u001b[0mvg\u001b[0m\u001b[0;34m)\u001b[0m\u001b[0;34m\u001b[0m\u001b[0;34m\u001b[0m\u001b[0m\n\u001b[0m\u001b[1;32m      6\u001b[0m     \u001b[0mvg\u001b[0m \u001b[0;34m=\u001b[0m \u001b[0;34m\"Local\"\u001b[0m\u001b[0;34m\u001b[0m\u001b[0;34m\u001b[0m\u001b[0m\n\u001b[1;32m      7\u001b[0m     \u001b[0mprint\u001b[0m\u001b[0;34m(\u001b[0m\u001b[0mvg\u001b[0m\u001b[0;34m)\u001b[0m\u001b[0;34m\u001b[0m\u001b[0;34m\u001b[0m\u001b[0m\n",
            "\u001b[0;31mUnboundLocalError\u001b[0m: cannot access local variable 'vg' where it is not associated with a value"
          ]
        }
      ]
    },
    {
      "cell_type": "code",
      "source": [
        "#Para resolver el problema anterior y especificar que se quiere hacer uso de la variable global dentro de la\n",
        "#función funcion_v4(), se tiene que agregar la palabra reservada global\n",
        "def funcion_v4():\n",
        "    global vg\n",
        "    print(vg)\n",
        "    vg = \"Local\"\n",
        "    print(vg)\n",
        "#Al momento de ejecutar la función se imprime el valor que tenía asignado vg antes de se modificado por la función.\n",
        "#Después de asignar el valor, éste es impreso\n",
        "funcion_v4()\n",
        "\n",
        "#Se imprime la variable global con su valor modificado\n",
        "print(vg)\n"
      ],
      "metadata": {
        "colab": {
          "base_uri": "https://localhost:8080/"
        },
        "id": "JZo6S9SPe06d",
        "outputId": "84c8451c-693b-4a0f-be87-f5af27c55b60"
      },
      "execution_count": null,
      "outputs": [
        {
          "output_type": "stream",
          "name": "stdout",
          "text": [
            "Global\n",
            "Local\n",
            "Local\n"
          ]
        }
      ]
    },
    {
      "cell_type": "markdown",
      "source": [
        "**Nota:** El manejo de variables globales dentro de una función en el lenguaje Python se considera como una mala práctica, se recomienda que se pase como parámetro a la función y que se regrese un valor."
      ],
      "metadata": {
        "id": "A3hEtFDVe4vV"
      }
    },
    {
      "cell_type": "markdown",
      "source": [
        "#Actividades de la práctica"
      ],
      "metadata": {
        "id": "CNecurDJfPPW"
      }
    },
    {
      "cell_type": "markdown",
      "source": [
        "#Código 1\n"
      ],
      "metadata": {
        "id": "Op6GKi9MzBBf"
      }
    },
    {
      "cell_type": "code",
      "source": [
        "print(\"Hola Mundo\")"
      ],
      "metadata": {
        "colab": {
          "base_uri": "https://localhost:8080/"
        },
        "id": "0l0SHLtNzDzo",
        "outputId": "4da4f706-02ec-44d2-db42-39ce9d5ce47a"
      },
      "execution_count": null,
      "outputs": [
        {
          "output_type": "stream",
          "name": "stdout",
          "text": [
            "Hola Mundo\n"
          ]
        }
      ]
    },
    {
      "cell_type": "code",
      "source": [
        "#Inicializando variables\n",
        "x = 10     #variable de tipo entero\n",
        "print(x)   #función para imprimir los valores de las variables\n",
        "\n",
        "#Se puede utilizar comillas dobles o simples para crear una cadena\n",
        "cadena = \"Hola Mundo\"    #varible de tipo cadena\n",
        "print(cadena)"
      ],
      "metadata": {
        "id": "fXQyZy2yE9pW",
        "outputId": "e0f75365-976a-4907-9872-cd4b6691c85b",
        "colab": {
          "base_uri": "https://localhost:8080/"
        }
      },
      "execution_count": null,
      "outputs": [
        {
          "output_type": "stream",
          "name": "stdout",
          "text": [
            "10\n",
            "Hola Mundo\n"
          ]
        }
      ]
    },
    {
      "cell_type": "markdown",
      "source": [
        "#Código 2\n"
      ],
      "metadata": {
        "id": "7jF_WxRXzLqH"
      }
    },
    {
      "cell_type": "code",
      "source": [
        "import math\n",
        "print(\"-----Ecuación de segundo grado (Chicharronera)-----\")\n",
        "print(\"Dame el valor de a\")\n",
        "a=float(input())\n",
        "print(\"Dame el valor de b\")\n",
        "b=float(input())\n",
        "print(\"Dame el valor de c\")\n",
        "c=float(input())\n",
        "x1=((-b)+ math.sqrt((b**2)-4*a*c))/(2*a)\n",
        "x2=((-b)- math.sqrt((b**2)-4*a*c))/(2*a)\n",
        "print(\"El valor de x1= \",x1)\n",
        "print(\"El valor de x2= \",x2)"
      ],
      "metadata": {
        "colab": {
          "base_uri": "https://localhost:8080/"
        },
        "id": "6VE2FvtF4PK2",
        "outputId": "e3e44196-d03f-4277-d575-7ababa7d8195"
      },
      "execution_count": null,
      "outputs": [
        {
          "output_type": "stream",
          "name": "stdout",
          "text": [
            "-----Ecuación de segundo grado (Chicharronera)-----\n",
            "Dame el valor de a\n",
            "1\n",
            "Dame el valor de b\n",
            "-10\n",
            "Dame el valor de c\n",
            "2\n",
            "El valor de x1=  9.79583152331272\n",
            "El valor de x2=  0.2041684766872809\n"
          ]
        }
      ]
    },
    {
      "cell_type": "markdown",
      "source": [
        "# Código 3\n"
      ],
      "metadata": {
        "id": "OnhM5S6Ml6vm"
      }
    },
    {
      "cell_type": "code",
      "source": [
        "print (\"-Programa para calcular el area de un circulo-\")\n",
        "r= float(input(\"Dame el valor del radio del circulo \\t\"))\n",
        "PI=3.14\n",
        "Area= (r**2)*PI\n",
        "print (\"Area\", Area)"
      ],
      "metadata": {
        "colab": {
          "base_uri": "https://localhost:8080/"
        },
        "id": "4EkxboDFmpBb",
        "outputId": "fdf5b576-c75c-4fa7-bb02-31ec6b3ffea4"
      },
      "execution_count": null,
      "outputs": [
        {
          "output_type": "stream",
          "name": "stdout",
          "text": [
            "-Programa para calcular el area de un circulo-\n",
            "Dame el valor del radio del circulo \t2.3\n",
            "Area 16.610599999999998\n"
          ]
        }
      ]
    },
    {
      "cell_type": "markdown",
      "source": [
        "# Codigo 4"
      ],
      "metadata": {
        "id": "GlgTlsXSnjlZ"
      }
    },
    {
      "cell_type": "code",
      "source": [
        "print(\"Bienvenido al programa para calcular el volumen del cubo\")\n",
        "Lado= float(input(\"Dame la medida de uno de los lados \\t\"))\n",
        "Volumen= Lado**3\n",
        "print (\"Volume\",Volumen)"
      ],
      "metadata": {
        "colab": {
          "base_uri": "https://localhost:8080/"
        },
        "id": "4yoo4em0nt8K",
        "outputId": "a8d36fc6-11ee-447c-f269-c320938d1d06"
      },
      "execution_count": null,
      "outputs": [
        {
          "output_type": "stream",
          "name": "stdout",
          "text": [
            "Bienvenido al programa para calcular el volumen del cubo\n",
            "Dame la medida de uno de los lados \t4.2\n",
            "Volume 74.08800000000001\n"
          ]
        }
      ]
    },
    {
      "cell_type": "markdown",
      "source": [
        "# Código 5"
      ],
      "metadata": {
        "id": "n4cwSGeheIgO"
      }
    },
    {
      "cell_type": "code",
      "source": [
        "print(\"Bienvenido al programa rebanadas de mantequilla\")\n",
        "rebanada = list(\"mantequilla\")\n",
        "print(rebanada)\n",
        "print(rebanada[2:4])\n",
        "print(rebanada[:6])\n",
        "print(rebanada[:-1])\n",
        "print(rebanada[3:-5])\n",
        "print(rebanada[-8:8])"
      ],
      "metadata": {
        "colab": {
          "base_uri": "https://localhost:8080/"
        },
        "id": "JFncjaG1ec8_",
        "outputId": "57da2bb9-102d-4af9-e2be-a7ee22769820"
      },
      "execution_count": null,
      "outputs": [
        {
          "output_type": "stream",
          "name": "stdout",
          "text": [
            "Bienvenido al programa rebanadas de mantequilla\n",
            "['m', 'a', 'n', 't', 'e', 'q', 'u', 'i', 'l', 'l', 'a']\n",
            "['n', 't']\n",
            "['m', 'a', 'n', 't', 'e', 'q']\n",
            "['m', 'a', 'n', 't', 'e', 'q', 'u', 'i', 'l', 'l']\n",
            "['t', 'e', 'q']\n",
            "['t', 'e', 'q', 'u', 'i']\n"
          ]
        }
      ]
    },
    {
      "cell_type": "markdown",
      "source": [
        "# Código 6"
      ],
      "metadata": {
        "id": "xzLx06lTeryv"
      }
    },
    {
      "cell_type": "code",
      "source": [
        "print(\"Bienvenido al programa indices de listas\")\n",
        "L = [ 1, 2, 3, 'por', ['py', ['t', 'h', 'o', 'n']]]\n",
        "print(\"Elementos indice: \", L[0:4])\n",
        "print(\"Elementos subíndice 1: \", L[4][0])\n",
        "print(\"Elementos subíndice 2: \", L[4][1][0:3])\n"
      ],
      "metadata": {
        "colab": {
          "base_uri": "https://localhost:8080/"
        },
        "id": "GtE2pAIhezqG",
        "outputId": "b0d1ac33-0f87-4d41-cce1-168b0080cc25"
      },
      "execution_count": null,
      "outputs": [
        {
          "output_type": "stream",
          "name": "stdout",
          "text": [
            "Bienvenido al programa indices de listas\n",
            "Elementos indice:  [1, 2, 3, 'por']\n",
            "Elementos subíndice 1:  py\n",
            "Elementos subíndice 2:  ['t', 'h', 'o']\n"
          ]
        }
      ]
    },
    {
      "cell_type": "markdown",
      "source": [
        "# **Conclusiones**\n",
        "\n",
        "Zarate Mendoza Luis Alejandro.\n",
        "\n",
        "La realización y estudio de esta práctica nos ha ayudado a trasladar los conocimientos obtenidos en el lenguaje de programación en C al lenguaje de programación Python. Ha fungido a manera de iniciación en el lenguaje, conociendo las funciones principales de este mismo y a su vez dándonos las oportunidad de conocer tanto la sintaxis, como parte de la lógica  utilizada en la elaboración de códigos. Ha sido interesante reinterpretar problemas ya conocidos anteriormente a un nuevo lenguaje de programación y utilizar nuestra capacidad resolutiva para adaptarnos a esta nueva forma de trabajar, la cual trae consigo diversas oportunidades y herramientas para el desarrollo de códigos más cortos y eficientes.\n",
        "\n",
        "Antonio Garcia Braulio Gerardo\n",
        "\n",
        "En esta práctica aprendimos los fundamentos básicos del lenguaje Python, incluyendo variables, tipos de datos, operadores, listas, tuplas, diccionarios y funciones. Se comprendió que las variables en Python no requieren declaración previa de tipo y que el tipo se ajusta automáticamente según el valor asignado.\n",
        "\n",
        "También se trabajó con cadenas de texto, entendiendo su inmutabilidad y las diferentes maneras de concatenarlas y formatearlas . Se exploraron operaciones con listas y tuplas, destacando la mutabilidad de las listas y la inmutabilidad de las tuplas, además de su uso en estructuras anidadas.\n",
        "\n",
        "La sección de diccionarios mostró cómo almacenar y manipular datos asociados a claves, lo que permite una organización eficiente de información. Además, se revisaron las funciones en Python, su flexibilidad en cuanto a parámetros y retorno de múltiples valores, incluyendo funciones con valores por defecto.\n",
        "\n",
        "Finalmente, se entendió la diferencia entre variables locales y globales, así como las buenas prácticas respecto al uso de variables globales para evitar errores de manipulación de datos en los programas. Esta práctica sentó las bases necesarias para seguir aprendiendo programación en Python de manera estructurada y eficiente.\n",
        "\n",
        "Mendoza Torres Marco Antonio\n",
        "\n",
        "A lo largo de esta practica, pudimos introducirnos, comprender y descubrir otro lenguaje de programación,esto nos dota de más herramientas con las cuales podemos desarrollar códigos con distintos lenguajes de programación, ademas de observar en que situaciones es mejor el uso de este lenguaje.\n",
        "\n",
        "El aprendizaje del lenguaje  C en la programación anterior a Python, facilito nuestro aprendizaje e introducción a Python; lenguaje que tiende a ser facil de comprender, usar. También pudimos observar que muchas funciones o estructuras existentes en otros códigos (los cuales se tienen que crear desde cero),este lenguaje nos ofrece su creación inmediata.\n",
        "\n",
        "Dentro de las actividades de esta practica encontramos la creación de cademas, funciones, el uso de operadores y el uso de variables. Todo esto con el fin de poder ver la sintaxis en Python y como es que esta no varia tanto a C.\n"
      ],
      "metadata": {
        "id": "59kFa-jp1qNN"
      }
    }
  ]
}