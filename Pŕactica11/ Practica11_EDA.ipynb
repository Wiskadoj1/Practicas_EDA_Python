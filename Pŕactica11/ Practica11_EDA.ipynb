{
  "nbformat": 4,
  "nbformat_minor": 0,
  "metadata": {
    "colab": {
      "provenance": [],
      "authorship_tag": "ABX9TyMvB8Xk0t6ZdPqGFXzsauno",
      "include_colab_link": true
    },
    "kernelspec": {
      "name": "python3",
      "display_name": "Python 3"
    },
    "language_info": {
      "name": "python"
    }
  },
  "cells": [
    {
      "cell_type": "markdown",
      "metadata": {
        "id": "view-in-github",
        "colab_type": "text"
      },
      "source": [
        "<a href=\"https://colab.research.google.com/github/Wiskadoj1/Practicas_EDA_Python/blob/main/P%C5%95actica11/%20Practica11_EDA.ipynb\" target=\"_parent\"><img src=\"https://colab.research.google.com/assets/colab-badge.svg\" alt=\"Open In Colab\"/></a>"
      ]
    },
    {
      "cell_type": "markdown",
      "source": [
        "#Código 2: Verficar si un número es primo\n",
        ""
      ],
      "metadata": {
        "id": "IJjFxIOlCCXR"
      }
    },
    {
      "cell_type": "code",
      "source": [
        "import math\n",
        "print(\"-----VERIFICAR SI UN NÚMERO ES PRIMO-----\")\n",
        "print(\"Dame el número a verificar\")\n",
        "a=float(input())\n",
        "a / 3=x\n",
        "x%\n",
        "if  x=1:\n",
        "    print(\"El número no es primo\")\n",
        "elif x=2:\n",
        "    print(\"El número es primo\")"
      ],
      "metadata": {
        "colab": {
          "base_uri": "https://localhost:8080/",
          "height": 106
        },
        "id": "6hBg1UGUCPuu",
        "outputId": "78ce0051-6c66-411d-91ca-8725cecc2621"
      },
      "execution_count": 17,
      "outputs": [
        {
          "output_type": "error",
          "ename": "SyntaxError",
          "evalue": "cannot assign to expression here. Maybe you meant '==' instead of '='? (<ipython-input-17-76e1774b74d1>, line 5)",
          "traceback": [
            "\u001b[0;36m  File \u001b[0;32m\"<ipython-input-17-76e1774b74d1>\"\u001b[0;36m, line \u001b[0;32m5\u001b[0m\n\u001b[0;31m    a / 3=x\u001b[0m\n\u001b[0m    ^\u001b[0m\n\u001b[0;31mSyntaxError\u001b[0m\u001b[0;31m:\u001b[0m cannot assign to expression here. Maybe you meant '==' instead of '='?\n"
          ]
        }
      ]
    },
    {
      "cell_type": "code",
      "source": [
        "import math as ma\n",
        "print (\"Dame el valor de x\")\n",
        "x=float(input())\n",
        "x = ma.cos(ma.pi)\n",
        "\n",
        "print(x)\n"
      ],
      "metadata": {
        "colab": {
          "base_uri": "https://localhost:8080/"
        },
        "id": "lyFtU71gE8RS",
        "outputId": "44bf5db5-cf12-4ef3-ab2f-92c77f35afe1"
      },
      "execution_count": 15,
      "outputs": [
        {
          "output_type": "stream",
          "name": "stdout",
          "text": [
            "Dame el valor de x\n",
            "90\n",
            "-1.0\n"
          ]
        }
      ]
    }
  ]
}